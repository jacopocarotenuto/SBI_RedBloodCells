{
 "cells": [
  {
   "cell_type": "code",
   "execution_count": 1,
   "metadata": {},
   "outputs": [],
   "source": [
    "from InternalLibrary import SimulatorPackage\n",
    "import time\n",
    "import _pickle as pickle\n",
    "import os\n",
    "import numpy as np"
   ]
  },
  {
   "cell_type": "code",
   "execution_count": 2,
   "metadata": {},
   "outputs": [],
   "source": [
    "simulator_args = {\n",
    "    \"dt\": 1e-6, \"DeltaT\": 1e-1, \"TotalT\": 1\n",
    "}\n",
    "\n",
    "prior_limits = {\n",
    "    \"mu_x\": [1.5e4, 4e4],\n",
    "    \"mu_y\": [1e4, 140e4],\n",
    "    \"k_x\": [3e-3, 16e-3],\n",
    "    \"k_y\": [1.5e-2, 30e-2],\n",
    "    \"k_int\": [1e-3, 6e-3],\n",
    "    \"tau\": [2e-2, 20e-2],\n",
    "    \"eps\": [0.5, 6],\n",
    "    \"D_x\": [5.5, 15.5],\n",
    "    \"D_y\": [1, 530] \n",
    "}"
   ]
  },
  {
   "cell_type": "code",
   "execution_count": 3,
   "metadata": {},
   "outputs": [
    {
     "name": "stdout",
     "output_type": "stream",
     "text": [
      "SimulationPipeline with 1000 simulations in batches of size 100\n"
     ]
    }
   ],
   "source": [
    "simulation_pipeline = SimulatorPackage.SimulationPipeline(batch_size = 100, total_sim = 1000, simulator_args = simulator_args, prior_limits = prior_limits)\n",
    "print(simulation_pipeline)"
   ]
  },
  {
   "cell_type": "code",
   "execution_count": 4,
   "metadata": {},
   "outputs": [
    {
     "name": "stdout",
     "output_type": "stream",
     "text": [
      "Starting simulation pipeline at 20240501-180948 with 1000 simulations in batches of size 100\n",
      "Finished simulating 1000 simulations at 18:10:50 of 2024-05-01 in 61.36 seconds\n"
     ]
    }
   ],
   "source": [
    "simulation_pipeline.start_pipeline()"
   ]
  }
 ],
 "metadata": {
  "kernelspec": {
   "display_name": "CompLab",
   "language": "python",
   "name": "python3"
  },
  "language_info": {
   "codemirror_mode": {
    "name": "ipython",
    "version": 3
   },
   "file_extension": ".py",
   "mimetype": "text/x-python",
   "name": "python",
   "nbconvert_exporter": "python",
   "pygments_lexer": "ipython3",
   "version": "3.9.18"
  }
 },
 "nbformat": 4,
 "nbformat_minor": 2
}
