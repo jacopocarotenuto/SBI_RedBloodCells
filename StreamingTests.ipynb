{
 "cells": [
  {
   "cell_type": "code",
   "execution_count": 1,
   "metadata": {},
   "outputs": [],
   "source": [
    "from InternalLibrary.SimulatorPackage import SimulationPipeline, SimulationLoader"
   ]
  },
  {
   "cell_type": "code",
   "execution_count": 2,
   "metadata": {},
   "outputs": [],
   "source": [
    "simulator_args = {\n",
    "    \"dt\": 1e-6, \"DeltaT\": 1e-1, \"TotalT\": 1\n",
    "}\n",
    "\n",
    "prior_limits = {\n",
    "    \"mu_x\": [1.5e4, 4e4],\n",
    "    \"mu_y\": [1e4, 140e4],\n",
    "    \"k_x\": [3e-3, 16e-3],\n",
    "    \"k_y\": [1.5e-2, 30e-2],\n",
    "    \"k_int\": [1e-3, 6e-3],\n",
    "    \"tau\": [2e-2, 20e-2],\n",
    "    \"eps\": [0.5, 6],\n",
    "    \"D_x\": [5.5, 15.5],\n",
    "    \"D_y\": [1, 530] \n",
    "}"
   ]
  },
  {
   "cell_type": "code",
   "execution_count": null,
   "metadata": {},
   "outputs": [],
   "source": [
    "simulation_pipeline = SimulationPipeline(batch_size = 101, total_sim = 1000, simulator_args = simulator_args, prior_limits = prior_limits)\n",
    "print(simulation_pipeline)"
   ]
  },
  {
   "cell_type": "code",
   "execution_count": null,
   "metadata": {},
   "outputs": [],
   "source": [
    "simulation_pipeline.start_pipeline()"
   ]
  },
  {
   "cell_type": "code",
   "execution_count": 3,
   "metadata": {},
   "outputs": [],
   "source": [
    "loader = SimulationLoader()"
   ]
  },
  {
   "cell_type": "code",
   "execution_count": 4,
   "metadata": {},
   "outputs": [
    {
     "name": "stdout",
     "output_type": "stream",
     "text": [
      "Loaded simulation from  Simulation/20240503/20240503-103345_101sims.pkl\n",
      "20240503-103345\n",
      "Loaded simulation from  Simulation/20240503/20240503-103421_101sims.pkl\n",
      "20240503-103421\n",
      "Loaded simulation from  Simulation/20240503/20240503-103338_101sims.pkl\n",
      "20240503-103338\n",
      "Loaded simulation from  Simulation/20240503/20240503-103403_101sims.pkl\n",
      "20240503-103403\n",
      "Loaded simulation from  Simulation/20240503/20240503-103351_101sims.pkl\n",
      "20240503-103351\n",
      "Loaded simulation from  Simulation/20240503/20240503-103427_101sims.pkl\n",
      "20240503-103427\n",
      "Loaded simulation from  Simulation/20240503/20240503-103409_101sims.pkl\n",
      "20240503-103409\n",
      "Loaded simulation from  Simulation/20240503/20240503-103415_101sims.pkl\n",
      "20240503-103415\n",
      "Loaded simulation from  Simulation/20240503/20240503-103357_101sims.pkl\n",
      "20240503-103357\n"
     ]
    }
   ],
   "source": [
    "# Load all simulations\n",
    "for sim in loader.load_all_simulation():\n",
    "    print(sim[\"time_of_creation\"])"
   ]
  },
  {
   "cell_type": "code",
   "execution_count": 5,
   "metadata": {},
   "outputs": [
    {
     "name": "stdout",
     "output_type": "stream",
     "text": [
      "Loaded simulation from  Simulation/20240503/20240503-103345_101sims.pkl\n",
      "20240503-103345\n"
     ]
    }
   ],
   "source": [
    "# Load first n simulations\n",
    "for sim in loader.load_n_simulations(1):\n",
    "    print(sim[\"time_of_creation\"])"
   ]
  },
  {
   "cell_type": "code",
   "execution_count": 13,
   "metadata": {},
   "outputs": [
    {
     "name": "stdout",
     "output_type": "stream",
     "text": [
      "Loaded simulation from  Simulation/20240503/20240503-103338_101sims.pkl\n",
      "20240503-103338\n"
     ]
    }
   ],
   "source": [
    "# Load n random simulations\n",
    "for sim in loader.load_n_random_simulations(1):\n",
    "    print(sim[\"time_of_creation\"])"
   ]
  }
 ],
 "metadata": {
  "kernelspec": {
   "display_name": "CompLab",
   "language": "python",
   "name": "python3"
  },
  "language_info": {
   "codemirror_mode": {
    "name": "ipython",
    "version": 3
   },
   "file_extension": ".py",
   "mimetype": "text/x-python",
   "name": "python",
   "nbconvert_exporter": "python",
   "pygments_lexer": "ipython3",
   "version": "3.9.18"
  }
 },
 "nbformat": 4,
 "nbformat_minor": 2
}
