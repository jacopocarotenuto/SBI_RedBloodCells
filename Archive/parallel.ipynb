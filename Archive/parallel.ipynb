{
 "cells": [
  {
   "cell_type": "code",
   "execution_count": 1,
   "metadata": {},
   "outputs": [],
   "source": [
    "import pathos\n",
    "from pathos.pools import ProcessPool\n",
    "from sys import getsizeof"
   ]
  },
  {
   "cell_type": "code",
   "execution_count": 2,
   "metadata": {},
   "outputs": [
    {
     "data": {
      "text/plain": [
       "8"
      ]
     },
     "execution_count": 2,
     "metadata": {},
     "output_type": "execute_result"
    }
   ],
   "source": [
    "pool = ProcessPool(nodes=4)\n",
    "\n",
    "pathos.multiprocessing.cpu_count()"
   ]
  },
  {
   "cell_type": "code",
   "execution_count": null,
   "metadata": {},
   "outputs": [],
   "source": [
    "results = pool.map(pow, [1,2,3,4], [5,6,7,8])\n",
    "getsizeof(results)"
   ]
  },
  {
   "cell_type": "code",
   "execution_count": null,
   "metadata": {},
   "outputs": [],
   "source": [
    "results = pool.imap(pow, [1,2,3,4], [5,6,7,8])\n",
    "getsizeof(results)\n",
    "getsizeof(list(results))"
   ]
  },
  {
   "cell_type": "code",
   "execution_count": null,
   "metadata": {},
   "outputs": [],
   "source": [
    "from pathos.pools import ProcessPool\n",
    "\n",
    "pool = ProcessPool(nodes=4)\n",
    "\n",
    "\n",
    "# do a blocking map on the chosen function\n",
    "\n",
    "results = pool.map(pow, [1,2,3,4], [5,6,7,8])\n",
    "\n",
    "\n",
    "# do a non-blocking map, then extract the results from the iterator\n",
    "\n",
    "results = pool.imap(pow, [1,2,3,4], [5,6,7,8])\n",
    "\n",
    "print(\"...\")\n",
    "\n",
    "results = list(results)\n",
    "\n",
    "\n",
    "# do an asynchronous map, then get the results\n",
    "\n",
    "results = pool.amap(pow, [1,2,3,4], [5,6,7,8])\n",
    "\n",
    "while not results.ready():\n",
    "\n",
    "    time.sleep(5); print(\".\", end=' ')\n",
    "\n",
    "\n",
    "results = results.get()"
   ]
  }
 ],
 "metadata": {
  "kernelspec": {
   "display_name": "CompLab",
   "language": "python",
   "name": "python3"
  },
  "language_info": {
   "codemirror_mode": {
    "name": "ipython",
    "version": 3
   },
   "file_extension": ".py",
   "mimetype": "text/x-python",
   "name": "python",
   "nbconvert_exporter": "python",
   "pygments_lexer": "ipython3",
   "version": "3.9.18"
  }
 },
 "nbformat": 4,
 "nbformat_minor": 2
}
