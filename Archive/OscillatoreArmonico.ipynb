{
 "cells": [
  {
   "cell_type": "code",
   "execution_count": 1,
   "metadata": {},
   "outputs": [],
   "source": [
    "import numpy as np\n",
    "from numba import jit\n",
    "import matplotlib.pyplot as plt\n",
    "\n",
    "import torch\n",
    "\n",
    "from sbi import analysis as analysis\n",
    "from sbi import utils as utils\n",
    "from sbi.inference import SNPE, simulate_for_sbi\n",
    "from sbi.utils.user_input_checks import (\n",
    "    check_sbi_inputs,\n",
    "    process_prior,\n",
    "    process_simulator,\n",
    ")\n",
    "import numpy as np\n",
    "import matplotlib.pyplot as plt\n",
    "from scipy.stats import norm\n",
    "\n",
    "from numba import jit\n",
    "from numpy import zeros, arange, uint8, int32, float32, sqrt, uint32, ones, vstack, concatenate\n",
    "from numpy import int64, mean, ceil, where, log2, max, min, median, var, log, array, sum\n",
    "from numpy.random import randn, uniform\n",
    "from numpy.fft import fft, ifft, fftfreq\n",
    "from sbi import utils as utils\n",
    "from scipy.integrate import cumulative_trapezoid\n",
    "from scipy.signal import welch\n",
    "import numpy as np\n",
    "import torch\n",
    "import os\n",
    "import _pickle as pickle\n",
    "from scipy.optimize import curve_fit\n",
    "from scipy.stats import zscore"
   ]
  },
  {
   "cell_type": "code",
   "execution_count": 2,
   "metadata": {},
   "outputs": [],
   "source": [
    "def corr(x,y,nmax,dt=False):\n",
    "    '''\n",
    "    Performs the cross correlation between two single-input signals x and y.\n",
    "\n",
    "    INPUT\n",
    "    x: input signal 1\n",
    "    y: input signal 2\n",
    "    nmax: maximum number of lags\n",
    "    dt: time step (default=False)\n",
    "\n",
    "    OUTPUT\n",
    "    corr: cross-correlation between x and y\n",
    "    '''\n",
    "\n",
    "    assert len(x)==len(y), 'x and y must have the same length'\n",
    "\n",
    "    n=len(x)\n",
    "    # pad 0s to 2n-1\n",
    "    ext_size=2*n-1\n",
    "    # nearest power of 2\n",
    "    fsize=2**ceil(log2(ext_size)).astype('int')\n",
    "\n",
    "    xp=x-mean(x)\n",
    "    yp=y-mean(y)\n",
    "\n",
    "    # do fft and ifft\n",
    "    cfx=fft(xp,fsize)\n",
    "    cfy=fft(yp,fsize)\n",
    "    if dt != False:\n",
    "        freq = fftfreq(n, d=dt)\n",
    "        idx = where((freq<-1/(2*dt))+(freq>1/(2*dt)))[0]\n",
    "        \n",
    "        cfx[idx]=0\n",
    "        cfy[idx]=0\n",
    "        \n",
    "    sf=cfx.conjugate()*cfy\n",
    "    corr=ifft(sf).real\n",
    "    corr=corr/n\n",
    "\n",
    "    return corr[:nmax]\n",
    "\n",
    "def stat_corr_single(single_x_trace, DeltaT, t, t_corr):\n",
    "    '''\n",
    "    Computes the autocorrelation for a single x trace signal.\n",
    "\n",
    "    INPUT\n",
    "    singles_x_trace: single x trace signal\n",
    "    DeltaT: sampling time\n",
    "    t: time array\n",
    "    t_corr: maximum time for the correlation\n",
    "\n",
    "    OUTPUT\n",
    "    Cxx: autocorrelation x signal\n",
    "    '''\n",
    "\n",
    "    sampled_point_amount = single_x_trace.shape[0]\n",
    "    idx_corr = np.where((t>0)*(t<t_corr))[0]\n",
    "    Cxx= corr(single_x_trace, single_x_trace, sampled_point_amount, dt=DeltaT) # compute the autocorrellation for each x trace\n",
    "\n",
    "    return Cxx\n",
    "\n",
    "def stat_s_redx(Cxx, t_corr, t, mu_x=1, k_x=1, kbT=1):\n",
    "    '''\n",
    "    Computes the reduced energy production for a single x trace signal.\n",
    "\n",
    "    INPUT\n",
    "    Cxx: autocorrelation signal\n",
    "    t_corr: maximum time for the correlation\n",
    "    t: time array\n",
    "    theta_i: parameters\n",
    "\n",
    "    OUTPUT\n",
    "    S_red: reduced x energy production\n",
    "    '''\n",
    "    D_x = kbT * mu_x\n",
    "    \n",
    "    S1 = cumulative_trapezoid(Cxx, x=t, axis=-1, initial=0)\n",
    "    S1 = cumulative_trapezoid(S1, x=t, axis=-1, initial=0)\n",
    "    #idx_corr = where((t>0)*(t<t_corr))[0]\n",
    "    S_red1 = (Cxx[0]-Cxx)/(D_x*t) # First term in S_red\n",
    "    S_red2 = ((mu_x*k_x)**2)*S1/(D_x*t) # Second term in S_red\n",
    "    S_red = S_red1 + S_red2 # Compute S_red\n",
    "\n",
    "    return S_red1, S_red2, S_red"
   ]
  },
  {
   "cell_type": "code",
   "execution_count": 3,
   "metadata": {},
   "outputs": [],
   "source": [
    "@jit\n",
    "def SimulateArmonicOscillator(dt, TotalT, param):\n",
    "    k = param[0]\n",
    "    D = param[1]\n",
    "    time_steps_amount = np.int64(TotalT/dt)\n",
    "\n",
    "    x = 0\n",
    "    x_tilde = 0\n",
    "    x_trace = np.zeros((1, time_steps_amount))\n",
    "    \n",
    "    for t in np.arange(0, time_steps_amount):\n",
    "        \n",
    "        x_tilde = x + -k * x * dt + np.sqrt(2*D) * np.random.normal(0, np.sqrt(dt))\n",
    "        x = x_tilde + (+k * x - k*x_tilde)*dt /2\n",
    "        x_trace[0,t] = x\n",
    "    \n",
    "    return x_trace\n",
    "    "
   ]
  },
  {
   "cell_type": "code",
   "execution_count": 19,
   "metadata": {},
   "outputs": [
    {
     "name": "stdout",
     "output_type": "stream",
     "text": [
      "Mean x squared:  0.49418881736985276\n"
     ]
    }
   ],
   "source": [
    "dt = 1e-3\n",
    "TotalT = 1000\n",
    "param = [2., 1.]\n",
    "t = np.arange(0, TotalT, dt)\n",
    "\n",
    "x_trace = SimulateArmonicOscillator(dt, TotalT, param)\n",
    "print(\"Mean x squared: \", np.mean(x_trace**2))"
   ]
  },
  {
   "cell_type": "code",
   "execution_count": 20,
   "metadata": {},
   "outputs": [],
   "source": [
    "cxx = stat_corr_single(x_trace[0], dt, t, 1)"
   ]
  },
  {
   "cell_type": "code",
   "execution_count": 23,
   "metadata": {},
   "outputs": [
    {
     "data": {
      "text/plain": [
       "[<matplotlib.lines.Line2D at 0x2b0f49d00>]"
      ]
     },
     "execution_count": 23,
     "metadata": {},
     "output_type": "execute_result"
    },
    {
     "data": {
      "image/png": "[encoded data removed]",
      "text/plain": [
       "<Figure size 640x480 with 1 Axes>"
      ]
     },
     "metadata": {},
     "output_type": "display_data"
    }
   ],
   "source": [
    "plt.plot(cxx[:10000])\n",
    "plt.plot(np.exp(-t*2)[:10000]/2)"
   ]
  },
  {
   "cell_type": "code",
   "execution_count": null,
   "metadata": {},
   "outputs": [],
   "source": []
  }
 ],
 "metadata": {
  "kernelspec": {
   "display_name": "CompLab",
   "language": "python",
   "name": "python3"
  },
  "language_info": {
   "codemirror_mode": {
    "name": "ipython",
    "version": 3
   },
   "file_extension": ".py",
   "mimetype": "text/x-python",
   "name": "python",
   "nbconvert_exporter": "python",
   "pygments_lexer": "ipython3",
   "version": "3.9.18"
  }
 },
 "nbformat": 4,
 "nbformat_minor": 2
}
