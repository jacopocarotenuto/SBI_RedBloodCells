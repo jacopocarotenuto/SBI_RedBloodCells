{
 "cells": [
  {
   "cell_type": "code",
   "execution_count": 5,
   "metadata": {},
   "outputs": [],
   "source": [
    "from InternalLibrary.SimulatorPackage import SimulationPipeline, SimulationLoader\n",
    "import numpy as np\n",
    "import time\n",
    "from pathos.profile import process_id"
   ]
  },
  {
   "cell_type": "code",
   "execution_count": 2,
   "metadata": {},
   "outputs": [],
   "source": [
    "simulator_args = {\n",
    "    \"dt\": 1e-5, \"DeltaT\": 1e-1, \"TotalT\": 3, \"transient_time\": 1\n",
    "}\n",
    "# TotalT = 2s, transient_time = 1s\n",
    "\n",
    "prior_limits = {\n",
    "    \"mu_x\": [1.5e4, 4e4],\n",
    "    \"mu_y\": [1e4, 140e4],\n",
    "    \"k_x\": [3e-3, 16e-3],\n",
    "    \"k_y\": [1.5e-2, 30e-2],\n",
    "    \"k_int\": [1e-3, 6e-3],\n",
    "    \"tau\": [2e-2, 20e-2],\n",
    "    \"eps\": [0.5, 6],\n",
    "    \"D_x\": [5.5, 15.5],\n",
    "    \"D_y\": [1, 530] \n",
    "}"
   ]
  },
  {
   "cell_type": "code",
   "execution_count": 3,
   "metadata": {},
   "outputs": [
    {
     "name": "stdout",
     "output_type": "stream",
     "text": [
      "SimulationPipeline with 1000 simulations in batches of size 100\n"
     ]
    }
   ],
   "source": [
    "simulation_pipeline = SimulationPipeline(batch_size = 100, total_sim = 1000, simulator_args = simulator_args, prior_limits = prior_limits)\n",
    "print(simulation_pipeline)"
   ]
  },
  {
   "cell_type": "code",
   "execution_count": null,
   "metadata": {},
   "outputs": [],
   "source": [
    "simulation_pipeline.start_pipeline()"
   ]
  },
  {
   "cell_type": "code",
   "execution_count": 4,
   "metadata": {},
   "outputs": [
    {
     "name": "stdout",
     "output_type": "stream",
     "text": [
      "Starting simulation pipeline at 20240504-130710 with 1000 simulations in batches of size 100\n",
      "Simulating 10 batches in parallel... 2024-05-04\n",
      "Finished simulating 1000 simulations at 13:07:16 of 2024-05-04 in 5.38 seconds\n"
     ]
    }
   ],
   "source": [
    "simulation_pipeline.start_pipeline_parallel()"
   ]
  },
  {
   "cell_type": "code",
   "execution_count": null,
   "metadata": {},
   "outputs": [],
   "source": [
    "loader = SimulationLoader()"
   ]
  },
  {
   "cell_type": "code",
   "execution_count": null,
   "metadata": {},
   "outputs": [],
   "source": [
    "# Load all simulations\n",
    "for sim in loader.load_all_simulation():\n",
    "    print(sim[\"time_of_creation\"])"
   ]
  },
  {
   "cell_type": "code",
   "execution_count": null,
   "metadata": {},
   "outputs": [],
   "source": [
    "# Load first n simulations\n",
    "for sim in loader.load_n_simulations(1):\n",
    "    print(sim[\"time_of_creation\"])"
   ]
  },
  {
   "cell_type": "code",
   "execution_count": null,
   "metadata": {},
   "outputs": [],
   "source": [
    "# Load n random simulations\n",
    "for sim in loader.load_n_random_simulations(1):\n",
    "    print(sim[\"time_of_creation\"])"
   ]
  }
 ],
 "metadata": {
  "kernelspec": {
   "display_name": "CompLab",
   "language": "python",
   "name": "python3"
  },
  "language_info": {
   "codemirror_mode": {
    "name": "ipython",
    "version": 3
   },
   "file_extension": ".py",
   "mimetype": "text/x-python",
   "name": "python",
   "nbconvert_exporter": "python",
   "pygments_lexer": "ipython3",
   "version": "3.9.18"
  }
 },
 "nbformat": 4,
 "nbformat_minor": 2
}
