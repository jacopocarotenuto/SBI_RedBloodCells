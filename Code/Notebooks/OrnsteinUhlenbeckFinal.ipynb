{
 "cells": [
  {
   "cell_type": "code",
   "execution_count": 1,
   "metadata": {},
   "outputs": [],
   "source": [
    "# Relevant Libraries\n",
    "import sys\n",
    "\n",
    "sys.path.append(\"./../..\")\n",
    "\n",
    "from numba import jit\n",
    "import numpy as np\n",
    "import matplotlib.pyplot as plt\n",
    "from InternalLibrary.StatisticalFunctions import stat_corr_single\n",
    "from scipy.optimize import curve_fit\n",
    "\n",
    "from tqdm import tqdm\n",
    "\n",
    "from sbi import analysis as analysis\n",
    "from sbi import utils as utils\n",
    "from sbi.inference import SNPE\n",
    "from sbi.utils.user_input_checks import (\n",
    "    process_prior,\n",
    ")\n",
    "import torch\n",
    "import imageio"
   ]
  },
  {
   "cell_type": "markdown",
   "metadata": {},
   "source": [
    "# WHAT TO DO\n",
    "\n",
    "## The Model\n",
    "- Improve the initial description of the model.\n",
    "- Improve readability of the simulator, with possible validation\n",
    "- Improve description of bare `x` traces\n",
    "- Improve theoretical observable validation ($\\chi^2$, statistical tests, etc.)\n",
    "    - What observables do we have ?\n",
    "    - Improve autocorrelation exponential decay\n",
    "    - How does the model behave with respect to the number of traces?\n",
    "- Add entropy description !!!\n",
    "\n",
    "## THE SBI\n",
    "- Improve the description of the SBI algorithm\n",
    "- SBI with bare `x` traces: results and discussion. Be *detailed*.\n",
    "- SBI with only autocorrelation trace: results and discussion. Be *detailed*.\n",
    "- SBI with subsampling of autocorrelation traces: results and discussion. Be *detailed*.\n",
    "- SBI with only autocorrelation fit: results and discussion. Be *detailed*.\n",
    "- For every SBI trial, we need to have a comprehensive way to test the quality of the fit. HOW? Try a lot and see the dispersion? The error? Which error? How does the stocastichity affect the result and the error?\n",
    "- SBI with best trial and multi-round inference: results and discussion. Be *detailed*. Try a lot of times."
   ]
  },
  {
   "cell_type": "markdown",
   "metadata": {},
   "source": [
    "# Ornstein-Uhlenbeck Process"
   ]
  },
  {
   "cell_type": "markdown",
   "metadata": {},
   "source": [
    "DESCRIPTION"
   ]
  },
  {
   "cell_type": "markdown",
   "metadata": {},
   "source": [
    "## Theoretical Observables"
   ]
  },
  {
   "cell_type": "markdown",
   "metadata": {},
   "source": [
    "## Entropy Production"
   ]
  },
  {
   "cell_type": "markdown",
   "metadata": {},
   "source": [
    "## Implementing SBI"
   ]
  },
  {
   "cell_type": "markdown",
   "metadata": {},
   "source": [
    "### SBI: Raw Traces"
   ]
  },
  {
   "cell_type": "markdown",
   "metadata": {},
   "source": [
    "### SBI: Autocorrelation Traces"
   ]
  },
  {
   "cell_type": "markdown",
   "metadata": {},
   "source": [
    "### SBI: Subsampling Autocorrelation Traces"
   ]
  },
  {
   "cell_type": "markdown",
   "metadata": {},
   "source": [
    "### SBI: AutoCorrelation Fit"
   ]
  },
  {
   "cell_type": "markdown",
   "metadata": {},
   "source": [
    "### SBI: Comparisons of Single-Round Inference"
   ]
  },
  {
   "cell_type": "markdown",
   "metadata": {},
   "source": [
    "### SBI: Multi-Round Inference"
   ]
  },
  {
   "cell_type": "markdown",
   "metadata": {},
   "source": []
  }
 ],
 "metadata": {
  "kernelspec": {
   "display_name": "CompLab",
   "language": "python",
   "name": "python3"
  },
  "language_info": {
   "codemirror_mode": {
    "name": "ipython",
    "version": 3
   },
   "file_extension": ".py",
   "mimetype": "text/x-python",
   "name": "python",
   "nbconvert_exporter": "python",
   "pygments_lexer": "ipython3",
   "version": "3.9.18"
  }
 },
 "nbformat": 4,
 "nbformat_minor": 2
}
