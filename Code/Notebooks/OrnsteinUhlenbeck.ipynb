{
 "cells": [
  {
   "cell_type": "code",
   "execution_count": null,
   "metadata": {},
   "outputs": [],
   "source": [
    "import sys\n",
    "sys.path.append(\"./../..\")\n",
    "\n",
    "from numba import jit\n",
    "import numpy as np\n",
    "import matplotlib.pyplot as plt\n",
    "from InternalLibrary.StatisticalFunctions import stat_corr_single\n",
    "from scipy.optimize import curve_fit\n",
    "\n",
    "from tqdm import tqdm\n",
    "\n",
    "from sbi import analysis as analysis\n",
    "from sbi import utils as utils\n",
    "from sbi.inference import SNPE, simulate_for_sbi, infer\n",
    "from sbi.utils.user_input_checks import (\n",
    "    check_sbi_inputs,\n",
    "    process_prior,\n",
    "    process_simulator,\n",
    ")\n",
    "import torch"
   ]
  },
  {
   "cell_type": "code",
   "execution_count": null,
   "metadata": {},
   "outputs": [],
   "source": [
    "@jit\n",
    "def OrnsteinUhlenbeck(param, n_sim, dt = 0.01, TotalT = 1):\n",
    "    k = param[0]\n",
    "    D = param[1]\n",
    "    time_steps_amount = np.int64(TotalT/dt)\n",
    "\n",
    "    x = np.zeros((1, n_sim))\n",
    "    x_tilde = np.zeros((1, n_sim))\n",
    "    x_trace = np.zeros((n_sim, time_steps_amount))\n",
    "    \n",
    "    for t in np.arange(0, time_steps_amount):\n",
    "        \n",
    "        x_tilde[:] = x[:] + -k * x[:] * dt + np.sqrt(2*D) * np.random.normal(0, np.sqrt(dt), size = (1,n_sim))\n",
    "        x[:] = x_tilde + (+k * x[:] - k*x_tilde[:])*dt /2\n",
    "        x_trace[:,t] = x[:,]\n",
    "    \n",
    "    return x_trace\n",
    "\n",
    "\n",
    "def GenerateDataForSBI(n_sim, prior_limits, dt = 0.01, TotalT = 1):\n",
    "    # Generate data\n",
    "    params = np.array([np.random.uniform(prior_limits[\"k\"][0], prior_limits[\"k\"][1], n_sim), np.random.uniform(prior_limits[\"D\"][0], prior_limits[\"D\"][1], n_sim)])\n",
    "    trace = OrnsteinUhlenbeck(params, n_sim, dt, TotalT)\n",
    "    trace = torch.tensor(np.array(trace)).float()\n",
    "    params = torch.tensor(np.array(params)).float()\n",
    "    \n",
    "    return trace, params.T\n",
    "    "
   ]
  },
  {
   "cell_type": "code",
   "execution_count": null,
   "metadata": {},
   "outputs": [],
   "source": [
    "dt = 1e-2 # Time Step in seconds\n",
    "TotalT = 1000 # Total Time in seconds\n",
    "param = [2., 3.] # [k, D]\n",
    "t = np.arange(0, TotalT, dt)\n",
    "prior_limits = {\"k\": [0.0,5.0],\n",
    "                \"D\": [0.0,5.0]}"
   ]
  },
  {
   "cell_type": "code",
   "execution_count": null,
   "metadata": {},
   "outputs": [],
   "source": [
    "# Run the simulation\n",
    "x_trace = OrnsteinUhlenbeck(param, n_sim = 10, dt = dt, TotalT = TotalT)"
   ]
  },
  {
   "cell_type": "code",
   "execution_count": null,
   "metadata": {},
   "outputs": [],
   "source": [
    "# Plot the trace\n",
    "fig, ax = plt.subplots()\n",
    "ax.plot(t[:], x_trace[0,:])\n",
    "ax.plot(t[:], x_trace[1,:])\n",
    "ax.plot(t[:], x_trace[2,:]);"
   ]
  },
  {
   "cell_type": "code",
   "execution_count": null,
   "metadata": {},
   "outputs": [],
   "source": [
    "# Compute interesting descriptors\n",
    "mean = np.mean(x_trace)\n",
    "std = np.std(x_trace)\n",
    "mean_x_squared = np.mean(x_trace**2)\n",
    "\n",
    "print(f\"Mean: {mean:.2f}\")\n",
    "print(f\"Standard Deviation: {std:.2f}\")\n",
    "print(f\"Mean of x^2: {mean_x_squared:.2f}\")"
   ]
  },
  {
   "cell_type": "code",
   "execution_count": null,
   "metadata": {},
   "outputs": [],
   "source": [
    "# Autocorrelation\n",
    "autocorrelation = stat_corr_single(x_trace[0],DeltaT = dt)\n",
    "## Fit autocorrelation with exponential decay\n",
    "def exp_decay(t, A, tau):\n",
    "    return A*np.exp(-t/tau)\n",
    "popt, pcov = curve_fit(exp_decay, t[:len(autocorrelation)], autocorrelation, p0 = [1, 1])\n",
    "A, tau = popt\n",
    "print(f\"Fitted Autocorrelation Decay Time: {tau:.2f}\")\n",
    "print(f\"Fitted Autocorrelation Amplitude: {A:.2f}\")\n",
    "print(f\"True Autocorrelation Decay Time: {1/param[0]:.2f}\")\n",
    "print(f\"True Autocorrelation Amplitude: {param[1]/param[0]:.2f}\")\n",
    "\n",
    "## Plot the autocorrelation\n",
    "\n",
    "fig, ax = plt.subplots()\n",
    "ax.plot(t[:1000], autocorrelation[:1000], label = \"Autocorrelation\")\n",
    "ax.plot(t[:1000], exp_decay(t[:1000], A, tau), label = \"Exponential Decay\")\n",
    "ax.set_xlabel(\"Time (s)\")\n",
    "ax.set_ylabel(\"Autocorrelation\")\n",
    "ax.legend();\n"
   ]
  },
  {
   "cell_type": "markdown",
   "metadata": {},
   "source": [
    "# SBI with the raw trace"
   ]
  },
  {
   "cell_type": "code",
   "execution_count": null,
   "metadata": {},
   "outputs": [],
   "source": [
    "# Setup SBI boilerplate\n",
    "prior_box = utils.BoxUniform(low=torch.tensor([0.0, 0.0]), high=torch.tensor([5.0, 5.0]))\n",
    "prior, num_parameters, prior_returns_numpy = process_prior(prior_box)\n",
    "infer = SNPE(prior=prior)"
   ]
  },
  {
   "cell_type": "code",
   "execution_count": null,
   "metadata": {},
   "outputs": [],
   "source": [
    "# Generate data in SBI format\n",
    "n_sim = 14000\n",
    "trace, params = GenerateDataForSBI(n_sim, prior_limits, dt = dt, TotalT = TotalT)\n",
    "trace = trace.reshape(n_sim, len(t))"
   ]
  },
  {
   "cell_type": "code",
   "execution_count": null,
   "metadata": {},
   "outputs": [],
   "source": [
    "# Train density estimator and extrace the posterior\n",
    "inference = infer.append_simulations(params, trace)\n",
    "density_estimator = inference.train()\n",
    "posterior = inference.build_posterior(density_estimator)"
   ]
  },
  {
   "cell_type": "code",
   "execution_count": null,
   "metadata": {},
   "outputs": [],
   "source": [
    "# Generate test data\n",
    "n_test = 1\n",
    "trace_test, params_test = GenerateDataForSBI(n_test, prior_limits, dt = dt, TotalT = TotalT)"
   ]
  },
  {
   "cell_type": "code",
   "execution_count": null,
   "metadata": {},
   "outputs": [],
   "source": [
    "# Use test data to check if the posterior is working\n",
    "samples = posterior.sample((100000,), x=trace_test.reshape(n_test, len(t)))\n",
    "_ = analysis.pairplot(samples, points=params_test, limits=[[0.0, 5.], [0, 5.]], figsize=(6, 6), labels=[r\"$\\theta_1$\", r\"$\\theta_2$\"])"
   ]
  },
  {
   "cell_type": "markdown",
   "metadata": {},
   "source": [
    "# SBI with autocorrelation"
   ]
  },
  {
   "cell_type": "code",
   "execution_count": null,
   "metadata": {},
   "outputs": [],
   "source": [
    "# Generate the autocorrelation\n",
    "autocorrelation = np.zeros_like(trace)\n",
    "\n",
    "for i in tqdm(np.arange(n_sim)):\n",
    "    autocorrelation[i,:] = stat_corr_single(np.array(trace[i,:]),DeltaT = dt)\n",
    "    \n",
    "autocorrelation = torch.tensor(autocorrelation).float()"
   ]
  },
  {
   "cell_type": "code",
   "execution_count": null,
   "metadata": {},
   "outputs": [],
   "source": [
    "# Setup SBI boilerplate\n",
    "prior_box = utils.BoxUniform(low=torch.tensor([0.0, 0.0]), high=torch.tensor([5.0, 5.0]))\n",
    "prior, num_parameters, prior_returns_numpy = process_prior(prior_box)\n",
    "infer = SNPE(prior=prior)"
   ]
  },
  {
   "cell_type": "code",
   "execution_count": null,
   "metadata": {},
   "outputs": [],
   "source": [
    "# Train density estimator and extrace the posterior\n",
    "inference = infer.append_simulations(params, autocorrelation[:,:1000])\n",
    "density_estimator = inference.train()\n",
    "posterior = inference.build_posterior(density_estimator)"
   ]
  },
  {
   "cell_type": "code",
   "execution_count": null,
   "metadata": {},
   "outputs": [],
   "source": [
    "# Generate test data\n",
    "n_test = 1\n",
    "trace_test, params_test = GenerateDataForSBI(n_test, prior_limits, dt = dt, TotalT = TotalT)\n",
    "autocorr_test = stat_corr_single(np.array(trace_test[0,:1000]),DeltaT = dt)\n",
    "# Use test data to check if the posterior is working\n",
    "samples = posterior.sample((10000,), x=autocorr_test[:1000])\n",
    "_ = analysis.pairplot(samples, points=params_test, limits=[[0.0, 5.], [0, 5.]], figsize=(6, 6), labels=[r\"$\\theta_1$\", r\"$\\theta_2$\"])"
   ]
  },
  {
   "cell_type": "markdown",
   "metadata": {},
   "source": [
    "## Subsampling the autocorrelation"
   ]
  },
  {
   "cell_type": "code",
   "execution_count": 78,
   "metadata": {},
   "outputs": [
    {
     "name": "stdout",
     "output_type": "stream",
     "text": [
      "Linear Autocorrelation Sample Shape: torch.Size([14000, 500])\n",
      "Log Autocorrelation Sample Shape: torch.Size([14000, 20])\n"
     ]
    }
   ],
   "source": [
    "lin_autocorr_sample = autocorrelation[:,np.linspace(0, len(autocorrelation)-1, 500, dtype=np.int32)]\n",
    "log_autocorr_sample = autocorrelation[:,np.logspace(0, np.log10(len(autocorrelation)-1), 20, dtype=np.int32)]\n",
    "\n",
    "print(f\"Linear Autocorrelation Sample Shape: {lin_autocorr_sample.shape}\")\n",
    "print(f\"Log Autocorrelation Sample Shape: {log_autocorr_sample.shape}\")"
   ]
  },
  {
   "cell_type": "code",
   "execution_count": null,
   "metadata": {},
   "outputs": [],
   "source": [
    "## Linear Sampling of the Autocorrelation\n",
    "\n",
    "# Setup SBI boilerplate\n",
    "prior_box = utils.BoxUniform(low=torch.tensor([0.0, 0.0]), high=torch.tensor([5.0, 5.0]))\n",
    "prior, num_parameters, prior_returns_numpy = process_prior(prior_box)\n",
    "# Train density estimator and extrace the posterior\n",
    "inference_lin = infer.append_simulations(params, lin_autocorr_sample)\n",
    "density_estimator_lin = inference_lin.train()\n",
    "posterior_lin = inference_lin.build_posterior(density_estimator_lin)"
   ]
  },
  {
   "cell_type": "code",
   "execution_count": 103,
   "metadata": {},
   "outputs": [
    {
     "data": {
      "application/vnd.jupyter.widget-view+json": {
       "model_id": "d9f145b6b434480eaf0d0803a3f7047f",
       "version_major": 2,
       "version_minor": 0
      },
      "text/plain": [
       "Drawing 10000 posterior samples:   0%|          | 0/10000 [00:00<?, ?it/s]"
      ]
     },
     "metadata": {},
     "output_type": "display_data"
    },
    {
     "data": {
      "image/png": "[encoded data removed]",
      "text/plain": [
       "<Figure size 600x600 with 4 Axes>"
      ]
     },
     "metadata": {},
     "output_type": "display_data"
    }
   ],
   "source": [
    "# Generate test data\n",
    "n_test = 1\n",
    "trace_test, params_test = GenerateDataForSBI(n_test, prior_limits, dt = dt, TotalT = TotalT)\n",
    "autocorr_test = stat_corr_single(np.array(trace_test[0,:]),DeltaT = dt)\n",
    "autocorr_test = autocorr_test[np.linspace(0, len(autocorr_test)-1, 500, dtype=np.int32)]\n",
    "# Use test data to check if the posterior is working\n",
    "samples = posterior_lin.sample((10000,), x=autocorr_test)\n",
    "_ = analysis.pairplot(samples, points=params_test, limits=[[0.0, 5.], [0, 5.]], figsize=(6, 6), labels=[r\"$\\theta_1$\", r\"$\\theta_2$\"])"
   ]
  },
  {
   "cell_type": "code",
   "execution_count": null,
   "metadata": {},
   "outputs": [],
   "source": [
    "## Logarithmic Sampling of the Autocorrelation\n",
    "# Setup SBI boilerplate\n",
    "prior_box = utils.BoxUniform(low=torch.tensor([0.0, 0.0]), high=torch.tensor([5.0, 5.0]))\n",
    "prior, num_parameters, prior_returns_numpy = process_prior(prior_box)\n",
    "infer = SNPE(prior=prior)\n",
    "# Train density estimator and extrace the posterior\n",
    "inference_log = infer.append_simulations(params, log_autocorr_sample)\n",
    "density_estimator_log = inference_log.train()\n",
    "posterior_log = inference_log.build_posterior(density_estimator_log)"
   ]
  },
  {
   "cell_type": "code",
   "execution_count": 108,
   "metadata": {},
   "outputs": [
    {
     "data": {
      "application/vnd.jupyter.widget-view+json": {
       "model_id": "eba690d211f44f1f99c42613a4cbdf96",
       "version_major": 2,
       "version_minor": 0
      },
      "text/plain": [
       "Drawing 10000 posterior samples:   0%|          | 0/10000 [00:00<?, ?it/s]"
      ]
     },
     "metadata": {},
     "output_type": "display_data"
    },
    {
     "data": {
      "image/png": "[encoded data removed]",
      "text/plain": [
       "<Figure size 600x600 with 4 Axes>"
      ]
     },
     "metadata": {},
     "output_type": "display_data"
    }
   ],
   "source": [
    "# Generate test data\n",
    "n_test = 1\n",
    "trace_test, params_test = GenerateDataForSBI(n_test, prior_limits, dt = dt, TotalT = TotalT)\n",
    "autocorr_test = stat_corr_single(np.array(trace_test[0,:]),DeltaT = dt)\n",
    "\n",
    "autocorr_test = autocorr_test[np.logspace(0, np.log10(len(autocorrelation)-1), 20, dtype=np.int32)]\n",
    "# Use test data to check if the posterior is working\n",
    "samples = posterior_log.sample((10000,), x=autocorr_test)\n",
    "_ = analysis.pairplot(samples, points=params_test, limits=[[0.0, 5.], [0, 5.]], figsize=(6, 6), labels=[r\"$\\theta_1$\", r\"$\\theta_2$\"])"
   ]
  },
  {
   "cell_type": "code",
   "execution_count": null,
   "metadata": {},
   "outputs": [],
   "source": []
  }
 ],
 "metadata": {
  "kernelspec": {
   "display_name": "CompLab",
   "language": "python",
   "name": "python3"
  },
  "language_info": {
   "codemirror_mode": {
    "name": "ipython",
    "version": 3
   },
   "file_extension": ".py",
   "mimetype": "text/x-python",
   "name": "python",
   "nbconvert_exporter": "python",
   "pygments_lexer": "ipython3",
   "version": "3.9.18"
  }
 },
 "nbformat": 4,
 "nbformat_minor": 2
}
