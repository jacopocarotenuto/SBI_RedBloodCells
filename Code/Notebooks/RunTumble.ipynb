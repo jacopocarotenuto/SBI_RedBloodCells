{
 "cells": [
  {
   "cell_type": "code",
   "execution_count": 859,
   "metadata": {},
   "outputs": [],
   "source": [
    "import sys\n",
    "\n",
    "sys.path.append(\"./../..\")\n",
    "\n",
    "from numba import jit\n",
    "from numba.types import bool_, int_\n",
    "import numpy as np\n",
    "import matplotlib.pyplot as plt\n",
    "from InternalLibrary.StatisticalFunctions import stat_corr_single\n",
    "from scipy.optimize import curve_fit\n",
    "from scipy.stats import moment\n",
    "\n",
    "from tqdm import tqdm\n",
    "\n",
    "from sbi import analysis as analysis\n",
    "from sbi import utils as utils\n",
    "from sbi.inference import SNPE, simulate_for_sbi, infer\n",
    "from sbi.utils.user_input_checks import (\n",
    "    check_sbi_inputs,\n",
    "    process_prior,\n",
    "    process_simulator,\n",
    ")\n",
    "import torch"
   ]
  },
  {
   "cell_type": "markdown",
   "metadata": {},
   "source": [
    "# Run and Tumble Model"
   ]
  },
  {
   "cell_type": "code",
   "execution_count": 860,
   "metadata": {},
   "outputs": [],
   "source": [
    "@jit\n",
    "def RunTumble(param, n_sim, dt=0.01, TotalT=1, alpha=0.5):\n",
    "    k = param[0]\n",
    "    omega = param[1]\n",
    "    D = omega**2 / alpha\n",
    "    \n",
    "    total_time_steps = np.int64(TotalT / dt)\n",
    "    \n",
    "    x = np.zeros((1, n_sim))\n",
    "    x_trace = np.zeros((n_sim, total_time_steps))\n",
    "    \n",
    "    direction_trace = np.ones((n_sim, total_time_steps))\n",
    "    direction = np.ones((1, n_sim))\n",
    "    \n",
    "    for n in range(1, total_time_steps):\n",
    "        change = np.random.uniform(0, 1, size=(1, n_sim)) < alpha * dt / 2 # Change direction with probability alpha*dt/2\n",
    "        change = -(change *2 -1) # From boolean to -1 or 1 (false = 1, true = -1)\n",
    "        direction = change*direction # Change direction if change is true\n",
    "        x[:] = ( x[:] + (-k * x[:] + omega * direction) * dt + np.sqrt(2 * D * dt) * np.random.normal(0, 1, size=(1, n_sim))) \n",
    "        \n",
    "        x_trace[:, n] = x[:,]\n",
    "        direction_trace[:, n] = direction[:,]\n",
    "    \n",
    "    return x_trace, direction_trace           "
   ]
  },
  {
   "cell_type": "code",
   "execution_count": 861,
   "metadata": {},
   "outputs": [],
   "source": [
    "param = [1, 1]\n",
    "n_sim = 200\n",
    "dt = 1e-6\n",
    "TotalT = 2\n",
    "alpha = 0.5\n",
    "t = np.arange(0, TotalT, dt)\n",
    "omega = param[1]\n",
    "k = param[0]"
   ]
  },
  {
   "cell_type": "code",
   "execution_count": 862,
   "metadata": {},
   "outputs": [],
   "source": [
    "x_trace, direction_trace = RunTumble(param, n_sim, dt, TotalT, alpha)"
   ]
  },
  {
   "cell_type": "code",
   "execution_count": null,
   "metadata": {},
   "outputs": [],
   "source": []
  }
 ],
 "metadata": {
  "kernelspec": {
   "display_name": "CompLab",
   "language": "python",
   "name": "python3"
  },
  "language_info": {
   "codemirror_mode": {
    "name": "ipython",
    "version": 3
   },
   "file_extension": ".py",
   "mimetype": "text/x-python",
   "name": "python",
   "nbconvert_exporter": "python",
   "pygments_lexer": "ipython3",
   "version": "3.9.18"
  }
 },
 "nbformat": 4,
 "nbformat_minor": 2
}
