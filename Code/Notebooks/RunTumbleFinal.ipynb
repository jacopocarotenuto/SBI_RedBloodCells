{
 "cells": [
  {
   "cell_type": "code",
   "execution_count": 1,
   "metadata": {},
   "outputs": [],
   "source": [
    "# Relevant Libraries\n",
    "import sys\n",
    "sys.path.append(\"./../..\")\n",
    "\n",
    "import statsmodels.api as sm\n",
    "from statsmodels.api import tsa # CE UNA FUNZIONE ACF CHE FA L'AUTOCORRELAZIONE!\n",
    "import sys\n",
    "from numba import jit\n",
    "import numpy as np\n",
    "from scipy.optimize import curve_fit\n",
    "import matplotlib.pyplot as plt\n",
    "from InternalLibrary.StatisticalFunctions import stat_corr_single\n",
    "\n",
    "from sbi import analysis as analysis\n",
    "from sbi import utils as utils\n",
    "from sbi.inference import SNPE\n",
    "from sbi.utils.user_input_checks import process_prior\n",
    "import torch"
   ]
  },
  {
   "cell_type": "markdown",
   "metadata": {},
   "source": [
    "# WHAT TO DO\n",
    "\n",
    "## The Model\n",
    "- Improve the initial description of the model.\n",
    "- Improve readability of the simulator, with possible validation\n",
    "- Improve description of bare `x` traces\n",
    "- Improve theoretical observable validation ($\\chi^2$, statistical tests, etc.)\n",
    "    - How does the model behave with respect to the number of traces?\n",
    "- Add entropy description !!!\n",
    "\n",
    "## THE SBI\n",
    "- Improve the description of the SBI algorithm\n",
    "- SBI with bare `x` traces: results and discussion. Be *detailed*.\n",
    "- SBI with only autocorrelation trace: results and discussion. Be *detailed*.\n",
    "- SBI with only autocorrelation fit: results and discussion. Be *detailed*.\n",
    "- SBI with only cumulative mean: results and discussion. Be *detailed*.\n",
    "- For every SBI trial, we need to have a comprehensive way to test the quality of the fit. HOW? Try a lot and see the dispersion? The error? Which error? How does the stocastichity affect the result and the error?\n",
    "- SBI with best trial and multi-round inference: results and discussion. Be *detailed*. Try a lot of times.\n"
   ]
  },
  {
   "cell_type": "markdown",
   "metadata": {},
   "source": [
    "# The Run&Tumble Model"
   ]
  },
  {
   "cell_type": "markdown",
   "metadata": {},
   "source": [
    "## Description"
   ]
  },
  {
   "cell_type": "markdown",
   "metadata": {},
   "source": [
    "A particle undergoing RnT motion moves in a sequence of runs at constant self-propulsion speed $\\omega$ interrupted by sudden changes (tumbles) in its orientation that happen at Poissonian rate $\\alpha$. In this case we will examine the one-dimensional case.\n",
    "\n",
    "The simulator runs the RnT model for a given number of particles and time steps. The particles are initialized all at $x_0 = 0$ and right facing velocity.\n",
    "The particles move in 1D space with an harmonic potential $V(x) = \\frac{1}{2} k x^2$ acting on them. There are no boundary conditions.\n",
    "\n",
    "Every second the particles change their velocity to the opposite direction with probability $\\alpha$.\n",
    "\n",
    "The simulation is done in the following way:\n",
    "1. Initialize the particles at $x_0 = 0$ and right facing velocity.\n",
    "2. Check if a tumble event happens at the current time step.\n",
    "2. Update the position of the particles according to the current velocity, potential and add a stochastic term.\n",
    "\n",
    "The equation of motion is:\n",
    "$$\n",
    "\\dot{x} = -\\partial_x V(x) \\pm \\omega + \\nu(t)\n",
    "$$\n",
    "\n",
    "The actual implementation of the simulator is done in the following way:\n",
    "\n",
    "$$\n",
    "x_{t+1} = x_t + (-k x_t \\pm \\omega) dt + \\nu\\sqrt{2Ddt}\n",
    "$$\n",
    "Where $\\nu$ is a random number drawn from a normal distribution with mean 0 and standard deviation 1."
   ]
  },
  {
   "cell_type": "code",
   "execution_count": 2,
   "metadata": {},
   "outputs": [],
   "source": [
    "# The Simulator\n",
    "@jit\n",
    "def RunTumble(param, n_sim,dt=0.01, TotalT=1, keep_f = False):\n",
    "    k = param[0]\n",
    "    omega = param[1]\n",
    "    alpha = param[2]\n",
    "    D = omega*omega / alpha\n",
    "    \n",
    "    total_time_steps = np.int64(TotalT / dt)\n",
    "    \n",
    "    x = np.zeros((1, n_sim))\n",
    "    x_trace = np.zeros((n_sim, total_time_steps))\n",
    "    \n",
    "    direction = np.ones((1, n_sim))\n",
    "    f_trace = np.zeros((n_sim, total_time_steps))\n",
    "    \n",
    "    for n in range(1, total_time_steps):\n",
    "        change = np.random.uniform(0, 1, size=(1, n_sim)) < alpha * dt / 2 # Change direction with probability alpha*dt/2\n",
    "        change = -(change *2 -1) # From boolean to -1 or 1 (false = 1, true = -1)\n",
    "        direction = change*direction # Change direction if change is true\n",
    "        nu = np.random.normal(0, 1, size=(1, n_sim))\n",
    "        x[:] = x[:] + (-k * x[:] + omega * direction) * dt + np.sqrt(2 * D * dt) * nu\n",
    "        x_trace[:, n] = x[:,]\n",
    "        if keep_f:\n",
    "            f_trace[:, n] = ((-k * x[:] + omega * direction) * dt + np.sqrt(2 * D * dt) * nu)[:,]\n",
    "\n",
    "    return x_trace, f_trace"
   ]
  },
  {
   "cell_type": "markdown",
   "metadata": {},
   "source": [
    "Let us define the parameters of our model and simulation. As this is a highly stochastic model, we will run the simulation for a large number of particles."
   ]
  },
  {
   "cell_type": "code",
   "execution_count": null,
   "metadata": {},
   "outputs": [],
   "source": [
    "ModelParameter = np.array([1, 1, 0.5]) # [k, omega, alpha]\n",
    "NumberOfParticles = 1000 # Number of particles to simulate\n",
    "TotalTime = 2 # Total time of simulation\n",
    "dt = 1e-3 # Time step\n",
    "t = np.arange(0, TotalTime, dt) # Time vector"
   ]
  },
  {
   "cell_type": "markdown",
   "metadata": {},
   "source": [
    "Let be noted that `ModelParameter` is a matrix of shape `(2, n_particles)` where the first column is the elastic constant $k$ and the second column is the self-propulsion speed $\\omega$. We maintain alpha constant.\n",
    "\n",
    "Let's simulate a single example particle and visualize its trajectory."
   ]
  },
  {
   "cell_type": "code",
   "execution_count": null,
   "metadata": {},
   "outputs": [],
   "source": [
    "x_trace = RunTumble(ModelParameter, NumberOfParticles, dt, TotalTime)[0] # Run the model\n",
    "\n",
    "# Plot the results\n",
    "fig, ax = plt.subplots(1, 1, figsize=(10, 5))\n",
    "ax.plot(t, x_trace[0,:], label=\"Trajectory\")\n",
    "ax.set_xlabel(\"Time (s)\")\n",
    "ax.set_ylabel(\"Position $x$\")\n",
    "ax.legend()\n",
    "ax.set_title(\"Trajectory of a particle\");\n"
   ]
  },
  {
   "cell_type": "markdown",
   "metadata": {},
   "source": [
    "We can also see the distribution of the trajectories of the particles."
   ]
  },
  {
   "cell_type": "code",
   "execution_count": null,
   "metadata": {},
   "outputs": [],
   "source": [
    "x_trace = RunTumble(ModelParameter, NumberOfParticles, dt, TotalTime)[0] # Run the model\n",
    "\n",
    "# Plot the results\n",
    "fig, ax = plt.subplots(1, 1, figsize=(10, 5))\n",
    "for i in np.arange(0, 5):\n",
    "    ax.plot(t, x_trace[i,:], label=\"Trajectory\")\n",
    "ax.set_xlabel(\"Time (s)\")\n",
    "ax.set_ylabel(\"Position $x$\")\n",
    "ax.set_title(\"Trajectories of 5 particles\");"
   ]
  },
  {
   "cell_type": "markdown",
   "metadata": {},
   "source": [
    "## Theoretical Observables\n"
   ]
  },
  {
   "cell_type": "markdown",
   "metadata": {},
   "source": [
    "From the paper we can derive the following observables for the RnT model, and check them against our simulations. All averages are taken over the ensemble of particles.\n",
    "\n",
    "First moment of the position of a RnT particle:\n",
    "\n",
    "$$\\langle x(t) \\rangle = x_0 e^{-kt} + \\frac{\\omega}{k - \\alpha} \\left(e^{-\\alpha t}- e^{-kt}\\right)$$\n",
    "\n",
    "Second moment of the position of a RnT particle:\n",
    "\n",
    "$$\n",
    "\\begin{aligned}\n",
    "\\left\\langle x^2(t)\\right\\rangle &= x_0^2 e^{-2 k t}+\\frac{D}{k}\\left(1-e^{-2 k t}\\right)+2 \\frac{x_0 w}{k-\\alpha}\\left(e^{-(k+\\alpha) t}-e^{-2 k t}\\right) \\\\\n",
    "& +2 w^2\\left(\\frac{\\exp (-2 k t)}{2 k(k-\\alpha)}+\\frac{\\exp (-(k+\\alpha) t)}{(k+\\alpha)(\\alpha-k)}+\\frac{1}{2 k(k+\\alpha)}\\right)\n",
    "\\end{aligned}\n",
    "$$\n",
    "\n",
    "Then, the mean square displacement at stationarity is\n",
    "$$\n",
    "\\lim _{t \\rightarrow \\infty} R^2(t)=x_0^2+\\frac{D}{k}+\\frac{w^2}{k(k+\\alpha)}\n",
    "$$"
   ]
  },
  {
   "cell_type": "code",
   "execution_count": 3,
   "metadata": {},
   "outputs": [],
   "source": [
    "## Helper Functions\n",
    "def EmpiricalFirstMoment(data):\n",
    "    return np.mean(data,axis = 0)\n",
    "\n",
    "def EmpiricalSecondMoment(data):\n",
    "    return np.mean(data**2,axis=0)\n",
    "\n",
    "def TheoricalFirstMoment(k, omega, alpha, t, x0 = 0):\n",
    "    return x0 * np.exp(-k*t) + (omega / (k - alpha)) * (np.exp(-alpha*t) - np.exp(-k*t))\n",
    "\n",
    "def TheoricalSecondMoment(k, omega, alpha, t, x0 = 0):\n",
    "    D = omega**2 / alpha\n",
    "    return  x0**2 * np.exp(-2*k*t) + D/k * (1 - np.exp(-2*k*t)) + 2*x0*omega/(k-alpha) * (np.exp(-(k+alpha)*t) - np.exp(2*k*t)) + 2*omega**2 *(np.exp(-2*k*t/(2*k*(k-alpha))) + np.exp(-(k+alpha)*t)/((k+alpha)*(alpha-k)) + 1/(2*k*(k+alpha)))\n",
    "\n",
    "def MeanSquareDisplacement(k, omega, alpha, x0 = 0):\n",
    "    D = omega**2 / alpha\n",
    "    return x0**2 + D/k + omega**2/(k*(k+alpha))"
   ]
  },
  {
   "cell_type": "markdown",
   "metadata": {},
   "source": [
    "Let's define some parameters, for example $k = 1, \\omega = 1, \\alpha = 0.5$ and run the simulation for a large number of particles to check the observables."
   ]
  },
  {
   "cell_type": "code",
   "execution_count": null,
   "metadata": {},
   "outputs": [],
   "source": [
    "k = 1\n",
    "omega = 1\n",
    "alpha = 0.5\n",
    "\n",
    "ModelParameter = np.array([k, omega, alpha]) # [k, omega, alpha, D]\n",
    "NumberOfParticles = 10_000 # Number of particles to simulate\n",
    "TotalTime = 5 # Total time of simulation\n",
    "dt = 1e-4 # Time step\n",
    "t = np.arange(0, TotalTime, dt) # Time vector"
   ]
  },
  {
   "cell_type": "code",
   "execution_count": null,
   "metadata": {},
   "outputs": [],
   "source": [
    "x_trace = RunTumble(ModelParameter, NumberOfParticles, dt, TotalTime)[0] # Run the model\n",
    "\n",
    "# Compute the empirical first and second moments\n",
    "EmpiricalFirstMoment_ = EmpiricalFirstMoment(x_trace)\n",
    "EmpiricalSecondMoment_ = EmpiricalSecondMoment(x_trace)\n",
    "\n",
    "# Compute the theoretical first and second moments\n",
    "TheoreticalFirstMoment_ = TheoricalFirstMoment(k, omega, alpha, t)\n",
    "TheoreticalSecondMoment_ = TheoricalSecondMoment(k, omega, alpha, t)\n",
    "\n",
    "MeanSquareDisplacement_ = MeanSquareDisplacement(k, omega, alpha)"
   ]
  },
  {
   "cell_type": "markdown",
   "metadata": {},
   "source": [
    "Let us visualize the results to check if the observables are correctly calculated and the simulator agrees with the theoretical results."
   ]
  },
  {
   "cell_type": "code",
   "execution_count": null,
   "metadata": {},
   "outputs": [],
   "source": [
    "# Plot the results\n",
    "fig, ax = plt.subplots(1, 2, figsize=(15, 5))\n",
    "ax[0].plot(t, EmpiricalFirstMoment_, label=\"Empirical First Moment\")\n",
    "ax[0].plot(t, TheoreticalFirstMoment_, label=\"Theoretical First Moment\")\n",
    "ax[0].set_xlabel(\"Time (s)\")\n",
    "ax[0].set_ylabel(\"First Moment\")\n",
    "ax[0].legend()\n",
    "\n",
    "ax[1].plot(t, EmpiricalSecondMoment_, label=\"Empirical Second Moment\")\n",
    "ax[1].plot(t, TheoreticalSecondMoment_, label=\"Theoretical Second Moment\")\n",
    "ax[1].set_xlabel(\"Time (s)\")\n",
    "ax[1].set_ylabel(\"Second Moment\")\n",
    "ax[1].legend();"
   ]
  },
  {
   "cell_type": "markdown",
   "metadata": {},
   "source": [
    "As we can see, at 10k particles the simulation agrees with the theoretical results.\n",
    "But how does the number of particles affect the simulation? Let's check it out.\n",
    "First, we define the error as the mean absolute difference between the theoretical and simulated results.\n",
    "Then, we measure the behavior of the error as a function of the number of particles."
   ]
  },
  {
   "cell_type": "code",
   "execution_count": null,
   "metadata": {},
   "outputs": [],
   "source": [
    "def ComputeError(simulation, theory):\n",
    "    return np.mean(np.abs(simulation - theory) / (theory+1e-10))"
   ]
  },
  {
   "cell_type": "code",
   "execution_count": null,
   "metadata": {},
   "outputs": [],
   "source": [
    "n_particles_space = np.logspace(1,4, num=10)\n",
    "error_first_moment_trace = np.zeros((len(n_particles_space),))\n",
    "error_second_moment_trace = np.zeros((len(n_particles_space),))\n",
    "for n_particles in n_particles_space:\n",
    "    x_trace = RunTumble(ModelParameter, np.int64(np.floor(n_particles)), dt, TotalTime)[0] # Run the model\n",
    "    EmpiricalFirstMoment_ = EmpiricalFirstMoment(x_trace)\n",
    "    EmpiricalSecondMoment_ = EmpiricalSecondMoment(x_trace)\n",
    "    error_first_moment = ComputeError(EmpiricalFirstMoment_, TheoreticalFirstMoment_)\n",
    "    error_second_moment = ComputeError(EmpiricalSecondMoment_, TheoreticalSecondMoment_)\n",
    "    error_first_moment_trace[np.where(n_particles_space == n_particles)] = error_first_moment\n",
    "    error_second_moment_trace[np.where(n_particles_space == n_particles)] = error_second_moment\n",
    "\n",
    "# Plot the results\n",
    "fig, ax = plt.subplots(1, 2, figsize=(15, 5))\n",
    "fig.suptitle(\"Error in the First and Second Moments\")\n",
    "ax[0].plot(n_particles_space, error_first_moment_trace)\n",
    "ax[0].set_xscale(\"log\")\n",
    "ax[0].set_xlabel(\"Number of Particles\")\n",
    "ax[0].set_ylabel(\"% Error in First Moment\")\n",
    "\n",
    "ax[1].plot(n_particles_space, error_second_moment_trace)\n",
    "ax[1].set_xscale(\"log\")\n",
    "ax[1].set_xlabel(\"Number of Particles\")\n",
    "ax[1].set_ylabel(\"% Error in Second Moment\");\n"
   ]
  },
  {
   "cell_type": "markdown",
   "metadata": {},
   "source": [
    "We can see that to achieve an error less than 5% on the second moment prediction, we need at least 1k particles. \n",
    "To achieve an error less than 5% on the first moment prediction, we need at least 5k particles.\n",
    "\n",
    "This is a highly stochastic model, and the number of particles is crucial to achieve good results. This is and indication that to \"distill\" information out of the intrinsic stochasticity of the model, we need a large number of samples.\n"
   ]
  },
  {
   "cell_type": "markdown",
   "metadata": {},
   "source": [
    "## Entropy Production"
   ]
  },
  {
   "cell_type": "markdown",
   "metadata": {},
   "source": [
    "<center> **??????**"
   ]
  },
  {
   "cell_type": "markdown",
   "metadata": {},
   "source": [
    "## Implementing SBI"
   ]
  },
  {
   "cell_type": "markdown",
   "metadata": {},
   "source": [
    "<center> <bg> DESCRIBE SBI HERE"
   ]
  },
  {
   "cell_type": "code",
   "execution_count": 3,
   "metadata": {},
   "outputs": [],
   "source": [
    "# SBI Helper Function\n",
    "def GenerateDataForSBI(n_sim, prior_limits, dt = 0.01, TotalTime = 1, constant_k = None, constant_omega = None, constant_alpha = None, method = \"RAW\"):\n",
    "    t = np.arange(0, TotalTime, dt)\n",
    "    # Generate the parameters\n",
    "    if constant_k != None:\n",
    "        k_param = np.repeat(constant_k, n_sim)\n",
    "    else:\n",
    "        k_param = np.random.uniform(prior_limits[\"k\"][0], prior_limits[\"k\"][1], n_sim)\n",
    "    \n",
    "    if constant_omega != None:\n",
    "        omega_param = np.repeat(constant_omega, n_sim)\n",
    "    else:\n",
    "        omega_param = np.random.uniform(prior_limits[\"omega\"][0], prior_limits[\"omega\"][1], n_sim)\n",
    "        \n",
    "    if constant_alpha != None:\n",
    "        alpha_param = np.repeat(constant_alpha, n_sim)\n",
    "    else:\n",
    "        alpha_param = np.random.uniform(prior_limits[\"alpha\"][0], prior_limits[\"alpha\"][1], n_sim)\n",
    "    \n",
    "    params = np.array([k_param, omega_param, alpha_param])    \n",
    "    # Simulate the data\n",
    "    trace = RunTumble(params, n_sim, dt, TotalTime)[0]\n",
    "    # Save the trace and the parameters in the correct format\n",
    "    trace = torch.tensor(np.array(trace)).float()\n",
    "    params = torch.tensor(np.array(params)).float()\n",
    "    \n",
    "    prior = utils.BoxUniform(low=torch.tensor([prior_limits[\"k\"][0], prior_limits[\"omega\"][0],prior_limits[\"alpha\"][0]]), high=torch.tensor([prior_limits[\"k\"][1], prior_limits[\"omega\"][1],prior_limits[\"alpha\"][1]]))\n",
    "    prior, _, _ = process_prior(prior)\n",
    "    \n",
    "    if method == \"RAW\":\n",
    "        return trace, params.T, prior\n",
    "    \n",
    "    if method == \"correlation\":\n",
    "        trace = trace.reshape(n_sim, len(t))\n",
    "        autocorrelation = np.zeros_like(trace)\n",
    "        for i in range(n_sim):\n",
    "            autocorrelation[i,:] = stat_corr_single(np.array(trace[i,:]), dt)\n",
    "            autocorrelation[i,:] = autocorrelation[i,:] / autocorrelation[i,0]\n",
    "\n",
    "        trace = torch.tensor(autocorrelation, dtype=torch.float32)\n",
    "        return trace, params.T, prior\n",
    "    \n",
    "    if method == \"correlation_fit\":\n",
    "        trace = trace.reshape(n_sim, len(t))\n",
    "        autocorrelation = np.zeros_like(trace)\n",
    "        for i in range(n_sim):\n",
    "            autocorrelation[i,:] = stat_corr_single(np.array(trace[i,:]), dt)\n",
    "            autocorrelation[i,:] = autocorrelation[i,:] / autocorrelation[i,0]\n",
    "\n",
    "        trace = torch.tensor(autocorrelation, dtype=torch.float32)\n",
    "        \n",
    "        fit_param = FitAutocorrelationFunctions(trace.numpy(), dt)\n",
    "        fit_param = torch.tensor(fit_param).float()\n",
    "        \n",
    "        return fit_param, params.T, prior\n",
    "    if method == \"correlation_subsampling\":\n",
    "        # Do the correlation\n",
    "        return 0\n",
    "    \n",
    "    return trace, params.T, prior\n",
    "\n",
    "def LimitsForPlot(prior_limits):\n",
    "    limits = []\n",
    "    for key in prior_limits.keys():\n",
    "        limits.append(prior_limits[key])\n",
    "    return limits\n",
    "\n",
    "def GetCentroid(samples):\n",
    "    centroids = samples.mean(axis=0)\n",
    "    centroid_spread = samples.std(axis=0)\n",
    "    \n",
    "    return centroids, centroid_spread\n",
    "\n",
    "def PlotSBIResults(samples, theta_test, prior_limits, labels=[r\"$k$\", r\"$\\omega$\", r\"$\\alpha$\"], **kwargs):\n",
    "    centroids, centroid_spread = GetCentroid(samples)\n",
    "    fig, axes = analysis.pairplot(samples, points=theta_test, limits=LimitsForPlot(prior_limits), figsize=(5, 3), labels=[r\"$k$\", r\"$\\omega$\", r\"$\\alpha$\"], **kwargs)\n",
    "    \n",
    "    textstr1 = '\\n'.join((\n",
    "        r'$k_{SBI}=%.2f \\pm %.2f$' % (centroids[0], centroid_spread[0]),\n",
    "        r'$\\omega_{SBI}=%.2f\\pm %.2f$' % (centroids[1], centroid_spread[1]),\n",
    "        r'$\\alpha_{SBI}=%.2f\\pm %.2f$' % (centroids[2], centroid_spread[2])))\n",
    "    \n",
    "    textstr2 = '\\n'.join((\n",
    "        r'$k_{True}=%.2f$' % theta_test[0][0],\n",
    "        r'$\\omega_{True}=%.2f$' % theta_test[0][1],\n",
    "        r'$\\alpha_{True}=%.2f$' % theta_test[0][2]))\n",
    "\n",
    "    # these are matplotlib.patch.Patch properties\n",
    "    props = dict(boxstyle='round', facecolor='wheat', alpha=0.5)\n",
    "\n",
    "    # place a text box in upper left in axes coords\n",
    "    axes[2,1].text(-0.2, 0.1, textstr1, transform=axes[2,1].transAxes, fontsize=12,\n",
    "            verticalalignment='top', bbox=props);\n",
    "    \n",
    "    axes[2,0].text(-0.1, 1, textstr2, transform=axes[2,0].transAxes, fontsize=12,\n",
    "            verticalalignment='top', bbox=props);\n",
    "    \n",
    "    return centroids, centroid_spread\n",
    "\n",
    "def CompleteSBIPipeline(n_sim, prior_limits, dt, TotalTime, method = \"RAW\", rounds = 1, constant_k = None, constant_omega = None, constant_alpha = None):\n",
    "    t = np.arange(0, TotalTime, dt)\n",
    "    x, theta, prior = GenerateDataForSBI(n_sim, prior_limits, dt, TotalTime, method = method, constant_k = constant_k, constant_omega = constant_omega, constant_alpha = constant_alpha)\n",
    "    x_test, theta_test, _ = GenerateDataForSBI(1, prior_limits, dt, TotalTime, method = method, constant_k = constant_k, constant_omega = constant_omega, constant_alpha = constant_alpha)\n",
    "    inference = SNPE(prior=prior)\n",
    "    proposal = prior\n",
    "    \n",
    "    for _ in np.arange(rounds):\n",
    "        density_estimator = inference.append_simulations(theta, x, proposal = proposal).train()\n",
    "        posterior = inference.build_posterior(density_estimator)\n",
    "        print(\"\\n\")\n",
    "        proposal = posterior.set_default_x(x_test)\n",
    "    \n",
    "    \n",
    "    samples = posterior.sample((100000,), x=x_test.reshape(1, x_test.shape[1]), show_progress_bars=False)\n",
    "    centroids, centroid_spread = PlotSBIResults(samples, theta_test, prior_limits)\n",
    "    prior_ranges = np.array([prior_limits[\"k\"][1] - prior_limits[\"k\"][0], prior_limits[\"omega\"][1] - prior_limits[\"omega\"][0], prior_limits[\"alpha\"][1] - prior_limits[\"alpha\"][0]])\n",
    "    compat = np.abs((centroids - theta_test) / prior_ranges) # Cambiare con i limiti della prior\n",
    "    \n",
    "    return centroids, centroid_spread, theta_test, compat\n",
    "    \n",
    "def TwoPointCorrelationFunction(k, alpha, omega, t, t1):\n",
    "    D = omega*omega / alpha\n",
    "    A1 = np.exp(-k * (t - t1))\n",
    "    B1 = (D / k) * (1 - np.exp(-2 * k * t1)) \n",
    "    B2 = 2*omega**2 * (np.exp(-2*k*t1) * 1/(2*k**(k-alpha)) + np.exp(-(k+alpha)*t1)*1/((k+alpha)*(alpha-k)) + 1/(2*k*(k+alpha)))\n",
    "    A2 = omega/(k + alpha) * (1- np.exp(-(k+alpha)*(t-t1)))\n",
    "    B3 = omega/(k + alpha) * (1 - np.exp(-(k+alpha)*t1))\n",
    "    return -A1 * (B1 + B2) - A2 * B3"
   ]
  },
  {
   "cell_type": "markdown",
   "metadata": {},
   "source": [
    "### SBI: Raw Traces"
   ]
  },
  {
   "cell_type": "code",
   "execution_count": 5,
   "metadata": {},
   "outputs": [
    {
     "name": "stdout",
     "output_type": "stream",
     "text": [
      " Fitting trace:  2332"
     ]
    },
    {
     "ename": "KeyboardInterrupt",
     "evalue": "",
     "output_type": "error",
     "traceback": [
      "\u001b[0;31m---------------------------------------------------------------------------\u001b[0m",
      "\u001b[0;31mKeyboardInterrupt\u001b[0m                         Traceback (most recent call last)",
      "Cell \u001b[0;32mIn[5], line 7\u001b[0m\n\u001b[1;32m      4\u001b[0m dt \u001b[38;5;241m=\u001b[39m \u001b[38;5;241m0.01\u001b[39m\n\u001b[1;32m      5\u001b[0m TotalTime \u001b[38;5;241m=\u001b[39m \u001b[38;5;241m1\u001b[39m\n\u001b[0;32m----> 7\u001b[0m centroids, centroid_spread, theta_test, compat \u001b[38;5;241m=\u001b[39m \u001b[43mCompleteSBIPipeline\u001b[49m\u001b[43m(\u001b[49m\u001b[43mn_sim\u001b[49m\u001b[43m,\u001b[49m\u001b[43m \u001b[49m\u001b[43mprior_limits\u001b[49m\u001b[43m,\u001b[49m\u001b[43m \u001b[49m\u001b[43mdt\u001b[49m\u001b[43m,\u001b[49m\u001b[43m \u001b[49m\u001b[43mTotalTime\u001b[49m\u001b[43m,\u001b[49m\u001b[43m \u001b[49m\u001b[43mmethod\u001b[49m\u001b[43m \u001b[49m\u001b[38;5;241;43m=\u001b[39;49m\u001b[43m \u001b[49m\u001b[38;5;124;43m\"\u001b[39;49m\u001b[38;5;124;43mcorrelation_fit\u001b[39;49m\u001b[38;5;124;43m\"\u001b[39;49m\u001b[43m)\u001b[49m\n",
      "Cell \u001b[0;32mIn[3], line 102\u001b[0m, in \u001b[0;36mCompleteSBIPipeline\u001b[0;34m(n_sim, prior_limits, dt, TotalTime, method, rounds, constant_k, constant_omega, constant_alpha)\u001b[0m\n\u001b[1;32m    100\u001b[0m \u001b[38;5;28;01mdef\u001b[39;00m \u001b[38;5;21mCompleteSBIPipeline\u001b[39m(n_sim, prior_limits, dt, TotalTime, method \u001b[38;5;241m=\u001b[39m \u001b[38;5;124m\"\u001b[39m\u001b[38;5;124mRAW\u001b[39m\u001b[38;5;124m\"\u001b[39m, rounds \u001b[38;5;241m=\u001b[39m \u001b[38;5;241m1\u001b[39m, constant_k \u001b[38;5;241m=\u001b[39m \u001b[38;5;28;01mNone\u001b[39;00m, constant_omega \u001b[38;5;241m=\u001b[39m \u001b[38;5;28;01mNone\u001b[39;00m, constant_alpha \u001b[38;5;241m=\u001b[39m \u001b[38;5;28;01mNone\u001b[39;00m):\n\u001b[1;32m    101\u001b[0m     t \u001b[38;5;241m=\u001b[39m np\u001b[38;5;241m.\u001b[39marange(\u001b[38;5;241m0\u001b[39m, TotalTime, dt)\n\u001b[0;32m--> 102\u001b[0m     x, theta, prior \u001b[38;5;241m=\u001b[39m \u001b[43mGenerateDataForSBI\u001b[49m\u001b[43m(\u001b[49m\u001b[43mn_sim\u001b[49m\u001b[43m,\u001b[49m\u001b[43m \u001b[49m\u001b[43mprior_limits\u001b[49m\u001b[43m,\u001b[49m\u001b[43m \u001b[49m\u001b[43mdt\u001b[49m\u001b[43m,\u001b[49m\u001b[43m \u001b[49m\u001b[43mTotalTime\u001b[49m\u001b[43m,\u001b[49m\u001b[43m \u001b[49m\u001b[43mmethod\u001b[49m\u001b[43m \u001b[49m\u001b[38;5;241;43m=\u001b[39;49m\u001b[43m \u001b[49m\u001b[43mmethod\u001b[49m\u001b[43m,\u001b[49m\u001b[43m \u001b[49m\u001b[43mconstant_k\u001b[49m\u001b[43m \u001b[49m\u001b[38;5;241;43m=\u001b[39;49m\u001b[43m \u001b[49m\u001b[43mconstant_k\u001b[49m\u001b[43m,\u001b[49m\u001b[43m \u001b[49m\u001b[43mconstant_omega\u001b[49m\u001b[43m \u001b[49m\u001b[38;5;241;43m=\u001b[39;49m\u001b[43m \u001b[49m\u001b[43mconstant_omega\u001b[49m\u001b[43m,\u001b[49m\u001b[43m \u001b[49m\u001b[43mconstant_alpha\u001b[49m\u001b[43m \u001b[49m\u001b[38;5;241;43m=\u001b[39;49m\u001b[43m \u001b[49m\u001b[43mconstant_alpha\u001b[49m\u001b[43m)\u001b[49m\n\u001b[1;32m    103\u001b[0m     x_test, theta_test, _ \u001b[38;5;241m=\u001b[39m GenerateDataForSBI(\u001b[38;5;241m1\u001b[39m, prior_limits, dt, TotalTime, method \u001b[38;5;241m=\u001b[39m method, constant_k \u001b[38;5;241m=\u001b[39m constant_k, constant_omega \u001b[38;5;241m=\u001b[39m constant_omega, constant_alpha \u001b[38;5;241m=\u001b[39m constant_alpha)\n\u001b[1;32m    104\u001b[0m     inference \u001b[38;5;241m=\u001b[39m SNPE(prior\u001b[38;5;241m=\u001b[39mprior)\n",
      "Cell \u001b[0;32mIn[3], line 52\u001b[0m, in \u001b[0;36mGenerateDataForSBI\u001b[0;34m(n_sim, prior_limits, dt, TotalTime, constant_k, constant_omega, constant_alpha, method)\u001b[0m\n\u001b[1;32m     48\u001b[0m     autocorrelation[i,:] \u001b[38;5;241m=\u001b[39m autocorrelation[i,:] \u001b[38;5;241m/\u001b[39m autocorrelation[i,\u001b[38;5;241m0\u001b[39m]\n\u001b[1;32m     50\u001b[0m trace \u001b[38;5;241m=\u001b[39m torch\u001b[38;5;241m.\u001b[39mtensor(autocorrelation, dtype\u001b[38;5;241m=\u001b[39mtorch\u001b[38;5;241m.\u001b[39mfloat32)\n\u001b[0;32m---> 52\u001b[0m fit_param \u001b[38;5;241m=\u001b[39m \u001b[43mFitAutocorrelationFunctions\u001b[49m\u001b[43m(\u001b[49m\u001b[43mtrace\u001b[49m\u001b[38;5;241;43m.\u001b[39;49m\u001b[43mnumpy\u001b[49m\u001b[43m(\u001b[49m\u001b[43m)\u001b[49m\u001b[43m,\u001b[49m\u001b[43m \u001b[49m\u001b[43mdt\u001b[49m\u001b[43m)\u001b[49m\n\u001b[1;32m     53\u001b[0m fit_param \u001b[38;5;241m=\u001b[39m torch\u001b[38;5;241m.\u001b[39mtensor(fit_param)\u001b[38;5;241m.\u001b[39mfloat()\n\u001b[1;32m     55\u001b[0m \u001b[38;5;28;01mreturn\u001b[39;00m fit_param, params\u001b[38;5;241m.\u001b[39mT, prior\n",
      "Cell \u001b[0;32mIn[4], line 12\u001b[0m, in \u001b[0;36mFitAutocorrelationFunctions\u001b[0;34m(multiple_corr_traces, DeltaT)\u001b[0m\n\u001b[1;32m     10\u001b[0m     \u001b[38;5;28mprint\u001b[39m(\u001b[38;5;124m\"\u001b[39m\u001b[38;5;130;01m\\r\u001b[39;00m\u001b[38;5;124m Fitting trace: \u001b[39m\u001b[38;5;124m\"\u001b[39m, i, end\u001b[38;5;241m=\u001b[39m\u001b[38;5;124m\"\u001b[39m\u001b[38;5;124m\"\u001b[39m)\n\u001b[1;32m     11\u001b[0m     x \u001b[38;5;241m=\u001b[39m np\u001b[38;5;241m.\u001b[39marange(\u001b[38;5;241m0\u001b[39m,multiple_corr_traces\u001b[38;5;241m.\u001b[39mshape[\u001b[38;5;241m1\u001b[39m]\u001b[38;5;241m*\u001b[39mDeltaT, DeltaT)\n\u001b[0;32m---> 12\u001b[0m     popt, pcov \u001b[38;5;241m=\u001b[39m \u001b[43mcurve_fit\u001b[49m\u001b[43m(\u001b[49m\u001b[43mfunc\u001b[49m\u001b[43m,\u001b[49m\u001b[43m \u001b[49m\u001b[43mx\u001b[49m\u001b[43m,\u001b[49m\u001b[43m \u001b[49m\u001b[43mmultiple_corr_traces\u001b[49m\u001b[43m[\u001b[49m\u001b[43mi\u001b[49m\u001b[43m,\u001b[49m\u001b[43m:\u001b[49m\u001b[43m]\u001b[49m\u001b[43m,\u001b[49m\u001b[43m \u001b[49m\u001b[43mmaxfev\u001b[49m\u001b[43m \u001b[49m\u001b[38;5;241;43m=\u001b[39;49m\u001b[43m \u001b[49m\u001b[38;5;241;43m100_000\u001b[39;49m\u001b[43m,\u001b[49m\u001b[43m \u001b[49m\u001b[43mp0\u001b[49m\u001b[43m \u001b[49m\u001b[38;5;241;43m=\u001b[39;49m\u001b[43m \u001b[49m\u001b[43mnp\u001b[49m\u001b[38;5;241;43m.\u001b[39;49m\u001b[43mones\u001b[49m\u001b[43m(\u001b[49m\u001b[38;5;241;43m1\u001b[39;49m\u001b[43m)\u001b[49m\u001b[43m,\u001b[49m\u001b[43m \u001b[49m\u001b[43mbounds\u001b[49m\u001b[43m \u001b[49m\u001b[38;5;241;43m=\u001b[39;49m\u001b[43m \u001b[49m\u001b[43m(\u001b[49m\u001b[38;5;241;43m0\u001b[39;49m\u001b[43m,\u001b[49m\u001b[43m \u001b[49m\u001b[43mnp\u001b[49m\u001b[38;5;241;43m.\u001b[39;49m\u001b[43minf\u001b[49m\u001b[43m)\u001b[49m\u001b[43m)\u001b[49m\n\u001b[1;32m     13\u001b[0m     output[i,:] \u001b[38;5;241m=\u001b[39m popt\n\u001b[1;32m     14\u001b[0m \u001b[38;5;28mprint\u001b[39m(\u001b[38;5;124m\"\u001b[39m\u001b[38;5;130;01m\\r\u001b[39;00m\u001b[38;5;124m                                           \u001b[39m\u001b[38;5;124m\"\u001b[39m)\n",
      "File \u001b[0;32m~/miniconda3/envs/CompLab/lib/python3.9/site-packages/scipy/optimize/_minpack_py.py:988\u001b[0m, in \u001b[0;36mcurve_fit\u001b[0;34m(f, xdata, ydata, p0, sigma, absolute_sigma, check_finite, bounds, method, jac, full_output, nan_policy, **kwargs)\u001b[0m\n\u001b[1;32m    985\u001b[0m \u001b[38;5;28;01mif\u001b[39;00m \u001b[38;5;124m'\u001b[39m\u001b[38;5;124mmax_nfev\u001b[39m\u001b[38;5;124m'\u001b[39m \u001b[38;5;129;01mnot\u001b[39;00m \u001b[38;5;129;01min\u001b[39;00m kwargs:\n\u001b[1;32m    986\u001b[0m     kwargs[\u001b[38;5;124m'\u001b[39m\u001b[38;5;124mmax_nfev\u001b[39m\u001b[38;5;124m'\u001b[39m] \u001b[38;5;241m=\u001b[39m kwargs\u001b[38;5;241m.\u001b[39mpop(\u001b[38;5;124m'\u001b[39m\u001b[38;5;124mmaxfev\u001b[39m\u001b[38;5;124m'\u001b[39m, \u001b[38;5;28;01mNone\u001b[39;00m)\n\u001b[0;32m--> 988\u001b[0m res \u001b[38;5;241m=\u001b[39m \u001b[43mleast_squares\u001b[49m\u001b[43m(\u001b[49m\u001b[43mfunc\u001b[49m\u001b[43m,\u001b[49m\u001b[43m \u001b[49m\u001b[43mp0\u001b[49m\u001b[43m,\u001b[49m\u001b[43m \u001b[49m\u001b[43mjac\u001b[49m\u001b[38;5;241;43m=\u001b[39;49m\u001b[43mjac\u001b[49m\u001b[43m,\u001b[49m\u001b[43m \u001b[49m\u001b[43mbounds\u001b[49m\u001b[38;5;241;43m=\u001b[39;49m\u001b[43mbounds\u001b[49m\u001b[43m,\u001b[49m\u001b[43m \u001b[49m\u001b[43mmethod\u001b[49m\u001b[38;5;241;43m=\u001b[39;49m\u001b[43mmethod\u001b[49m\u001b[43m,\u001b[49m\n\u001b[1;32m    989\u001b[0m \u001b[43m                    \u001b[49m\u001b[38;5;241;43m*\u001b[39;49m\u001b[38;5;241;43m*\u001b[39;49m\u001b[43mkwargs\u001b[49m\u001b[43m)\u001b[49m\n\u001b[1;32m    991\u001b[0m \u001b[38;5;28;01mif\u001b[39;00m \u001b[38;5;129;01mnot\u001b[39;00m res\u001b[38;5;241m.\u001b[39msuccess:\n\u001b[1;32m    992\u001b[0m     \u001b[38;5;28;01mraise\u001b[39;00m \u001b[38;5;167;01mRuntimeError\u001b[39;00m(\u001b[38;5;124m\"\u001b[39m\u001b[38;5;124mOptimal parameters not found: \u001b[39m\u001b[38;5;124m\"\u001b[39m \u001b[38;5;241m+\u001b[39m res\u001b[38;5;241m.\u001b[39mmessage)\n",
      "File \u001b[0;32m~/miniconda3/envs/CompLab/lib/python3.9/site-packages/scipy/optimize/_lsq/least_squares.py:941\u001b[0m, in \u001b[0;36mleast_squares\u001b[0;34m(fun, x0, jac, bounds, method, ftol, xtol, gtol, x_scale, loss, f_scale, diff_step, tr_solver, tr_options, jac_sparsity, max_nfev, verbose, args, kwargs)\u001b[0m\n\u001b[1;32m    937\u001b[0m     result \u001b[38;5;241m=\u001b[39m call_minpack(fun_wrapped, x0, jac_wrapped, ftol, xtol, gtol,\n\u001b[1;32m    938\u001b[0m                           max_nfev, x_scale, diff_step)\n\u001b[1;32m    940\u001b[0m \u001b[38;5;28;01melif\u001b[39;00m method \u001b[38;5;241m==\u001b[39m \u001b[38;5;124m'\u001b[39m\u001b[38;5;124mtrf\u001b[39m\u001b[38;5;124m'\u001b[39m:\n\u001b[0;32m--> 941\u001b[0m     result \u001b[38;5;241m=\u001b[39m \u001b[43mtrf\u001b[49m\u001b[43m(\u001b[49m\u001b[43mfun_wrapped\u001b[49m\u001b[43m,\u001b[49m\u001b[43m \u001b[49m\u001b[43mjac_wrapped\u001b[49m\u001b[43m,\u001b[49m\u001b[43m \u001b[49m\u001b[43mx0\u001b[49m\u001b[43m,\u001b[49m\u001b[43m \u001b[49m\u001b[43mf0\u001b[49m\u001b[43m,\u001b[49m\u001b[43m \u001b[49m\u001b[43mJ0\u001b[49m\u001b[43m,\u001b[49m\u001b[43m \u001b[49m\u001b[43mlb\u001b[49m\u001b[43m,\u001b[49m\u001b[43m \u001b[49m\u001b[43mub\u001b[49m\u001b[43m,\u001b[49m\u001b[43m \u001b[49m\u001b[43mftol\u001b[49m\u001b[43m,\u001b[49m\u001b[43m \u001b[49m\u001b[43mxtol\u001b[49m\u001b[43m,\u001b[49m\n\u001b[1;32m    942\u001b[0m \u001b[43m                 \u001b[49m\u001b[43mgtol\u001b[49m\u001b[43m,\u001b[49m\u001b[43m \u001b[49m\u001b[43mmax_nfev\u001b[49m\u001b[43m,\u001b[49m\u001b[43m \u001b[49m\u001b[43mx_scale\u001b[49m\u001b[43m,\u001b[49m\u001b[43m \u001b[49m\u001b[43mloss_function\u001b[49m\u001b[43m,\u001b[49m\u001b[43m \u001b[49m\u001b[43mtr_solver\u001b[49m\u001b[43m,\u001b[49m\n\u001b[1;32m    943\u001b[0m \u001b[43m                 \u001b[49m\u001b[43mtr_options\u001b[49m\u001b[38;5;241;43m.\u001b[39;49m\u001b[43mcopy\u001b[49m\u001b[43m(\u001b[49m\u001b[43m)\u001b[49m\u001b[43m,\u001b[49m\u001b[43m \u001b[49m\u001b[43mverbose\u001b[49m\u001b[43m)\u001b[49m\n\u001b[1;32m    945\u001b[0m \u001b[38;5;28;01melif\u001b[39;00m method \u001b[38;5;241m==\u001b[39m \u001b[38;5;124m'\u001b[39m\u001b[38;5;124mdogbox\u001b[39m\u001b[38;5;124m'\u001b[39m:\n\u001b[1;32m    946\u001b[0m     \u001b[38;5;28;01mif\u001b[39;00m tr_solver \u001b[38;5;241m==\u001b[39m \u001b[38;5;124m'\u001b[39m\u001b[38;5;124mlsmr\u001b[39m\u001b[38;5;124m'\u001b[39m \u001b[38;5;129;01mand\u001b[39;00m \u001b[38;5;124m'\u001b[39m\u001b[38;5;124mregularize\u001b[39m\u001b[38;5;124m'\u001b[39m \u001b[38;5;129;01min\u001b[39;00m tr_options:\n",
      "File \u001b[0;32m~/miniconda3/envs/CompLab/lib/python3.9/site-packages/scipy/optimize/_lsq/trf.py:123\u001b[0m, in \u001b[0;36mtrf\u001b[0;34m(fun, jac, x0, f0, J0, lb, ub, ftol, xtol, gtol, max_nfev, x_scale, loss_function, tr_solver, tr_options, verbose)\u001b[0m\n\u001b[1;32m    119\u001b[0m     \u001b[38;5;28;01mreturn\u001b[39;00m trf_no_bounds(\n\u001b[1;32m    120\u001b[0m         fun, jac, x0, f0, J0, ftol, xtol, gtol, max_nfev, x_scale,\n\u001b[1;32m    121\u001b[0m         loss_function, tr_solver, tr_options, verbose)\n\u001b[1;32m    122\u001b[0m \u001b[38;5;28;01melse\u001b[39;00m:\n\u001b[0;32m--> 123\u001b[0m     \u001b[38;5;28;01mreturn\u001b[39;00m \u001b[43mtrf_bounds\u001b[49m\u001b[43m(\u001b[49m\n\u001b[1;32m    124\u001b[0m \u001b[43m        \u001b[49m\u001b[43mfun\u001b[49m\u001b[43m,\u001b[49m\u001b[43m \u001b[49m\u001b[43mjac\u001b[49m\u001b[43m,\u001b[49m\u001b[43m \u001b[49m\u001b[43mx0\u001b[49m\u001b[43m,\u001b[49m\u001b[43m \u001b[49m\u001b[43mf0\u001b[49m\u001b[43m,\u001b[49m\u001b[43m \u001b[49m\u001b[43mJ0\u001b[49m\u001b[43m,\u001b[49m\u001b[43m \u001b[49m\u001b[43mlb\u001b[49m\u001b[43m,\u001b[49m\u001b[43m \u001b[49m\u001b[43mub\u001b[49m\u001b[43m,\u001b[49m\u001b[43m \u001b[49m\u001b[43mftol\u001b[49m\u001b[43m,\u001b[49m\u001b[43m \u001b[49m\u001b[43mxtol\u001b[49m\u001b[43m,\u001b[49m\u001b[43m \u001b[49m\u001b[43mgtol\u001b[49m\u001b[43m,\u001b[49m\u001b[43m \u001b[49m\u001b[43mmax_nfev\u001b[49m\u001b[43m,\u001b[49m\u001b[43m \u001b[49m\u001b[43mx_scale\u001b[49m\u001b[43m,\u001b[49m\n\u001b[1;32m    125\u001b[0m \u001b[43m        \u001b[49m\u001b[43mloss_function\u001b[49m\u001b[43m,\u001b[49m\u001b[43m \u001b[49m\u001b[43mtr_solver\u001b[49m\u001b[43m,\u001b[49m\u001b[43m \u001b[49m\u001b[43mtr_options\u001b[49m\u001b[43m,\u001b[49m\u001b[43m \u001b[49m\u001b[43mverbose\u001b[49m\u001b[43m)\u001b[49m\n",
      "File \u001b[0;32m~/miniconda3/envs/CompLab/lib/python3.9/site-packages/scipy/optimize/_lsq/trf.py:374\u001b[0m, in \u001b[0;36mtrf_bounds\u001b[0;34m(fun, jac, x0, f0, J0, lb, ub, ftol, xtol, gtol, max_nfev, x_scale, loss_function, tr_solver, tr_options, verbose)\u001b[0m\n\u001b[1;32m    370\u001b[0m f_true \u001b[38;5;241m=\u001b[39m f\u001b[38;5;241m.\u001b[39mcopy()\n\u001b[1;32m    372\u001b[0m cost \u001b[38;5;241m=\u001b[39m cost_new\n\u001b[0;32m--> 374\u001b[0m J \u001b[38;5;241m=\u001b[39m \u001b[43mjac\u001b[49m\u001b[43m(\u001b[49m\u001b[43mx\u001b[49m\u001b[43m,\u001b[49m\u001b[43m \u001b[49m\u001b[43mf\u001b[49m\u001b[43m)\u001b[49m\n\u001b[1;32m    375\u001b[0m njev \u001b[38;5;241m+\u001b[39m\u001b[38;5;241m=\u001b[39m \u001b[38;5;241m1\u001b[39m\n\u001b[1;32m    377\u001b[0m \u001b[38;5;28;01mif\u001b[39;00m loss_function \u001b[38;5;129;01mis\u001b[39;00m \u001b[38;5;129;01mnot\u001b[39;00m \u001b[38;5;28;01mNone\u001b[39;00m:\n",
      "File \u001b[0;32m~/miniconda3/envs/CompLab/lib/python3.9/site-packages/scipy/optimize/_lsq/least_squares.py:898\u001b[0m, in \u001b[0;36mleast_squares.<locals>.jac_wrapped\u001b[0;34m(x, f)\u001b[0m\n\u001b[1;32m    897\u001b[0m \u001b[38;5;28;01mdef\u001b[39;00m \u001b[38;5;21mjac_wrapped\u001b[39m(x, f):\n\u001b[0;32m--> 898\u001b[0m     J \u001b[38;5;241m=\u001b[39m \u001b[43mapprox_derivative\u001b[49m\u001b[43m(\u001b[49m\u001b[43mfun\u001b[49m\u001b[43m,\u001b[49m\u001b[43m \u001b[49m\u001b[43mx\u001b[49m\u001b[43m,\u001b[49m\u001b[43m \u001b[49m\u001b[43mrel_step\u001b[49m\u001b[38;5;241;43m=\u001b[39;49m\u001b[43mdiff_step\u001b[49m\u001b[43m,\u001b[49m\u001b[43m \u001b[49m\u001b[43mmethod\u001b[49m\u001b[38;5;241;43m=\u001b[39;49m\u001b[43mjac\u001b[49m\u001b[43m,\u001b[49m\n\u001b[1;32m    899\u001b[0m \u001b[43m                          \u001b[49m\u001b[43mf0\u001b[49m\u001b[38;5;241;43m=\u001b[39;49m\u001b[43mf\u001b[49m\u001b[43m,\u001b[49m\u001b[43m \u001b[49m\u001b[43mbounds\u001b[49m\u001b[38;5;241;43m=\u001b[39;49m\u001b[43mbounds\u001b[49m\u001b[43m,\u001b[49m\u001b[43m \u001b[49m\u001b[43margs\u001b[49m\u001b[38;5;241;43m=\u001b[39;49m\u001b[43margs\u001b[49m\u001b[43m,\u001b[49m\n\u001b[1;32m    900\u001b[0m \u001b[43m                          \u001b[49m\u001b[43mkwargs\u001b[49m\u001b[38;5;241;43m=\u001b[39;49m\u001b[43mkwargs\u001b[49m\u001b[43m,\u001b[49m\u001b[43m \u001b[49m\u001b[43msparsity\u001b[49m\u001b[38;5;241;43m=\u001b[39;49m\u001b[43mjac_sparsity\u001b[49m\u001b[43m)\u001b[49m\n\u001b[1;32m    901\u001b[0m     \u001b[38;5;28;01mif\u001b[39;00m J\u001b[38;5;241m.\u001b[39mndim \u001b[38;5;241m!=\u001b[39m \u001b[38;5;241m2\u001b[39m:  \u001b[38;5;66;03m# J is guaranteed not sparse.\u001b[39;00m\n\u001b[1;32m    902\u001b[0m         J \u001b[38;5;241m=\u001b[39m np\u001b[38;5;241m.\u001b[39matleast_2d(J)\n",
      "File \u001b[0;32m~/miniconda3/envs/CompLab/lib/python3.9/site-packages/scipy/optimize/_numdiff.py:483\u001b[0m, in \u001b[0;36mapprox_derivative\u001b[0;34m(fun, x0, method, rel_step, abs_step, f0, bounds, sparsity, as_linear_operator, args, kwargs)\u001b[0m\n\u001b[1;32m    480\u001b[0m     \u001b[38;5;28;01mif\u001b[39;00m f0\u001b[38;5;241m.\u001b[39mndim \u001b[38;5;241m>\u001b[39m \u001b[38;5;241m1\u001b[39m:\n\u001b[1;32m    481\u001b[0m         \u001b[38;5;28;01mraise\u001b[39;00m \u001b[38;5;167;01mValueError\u001b[39;00m(\u001b[38;5;124m\"\u001b[39m\u001b[38;5;124m`f0` passed has more than 1 dimension.\u001b[39m\u001b[38;5;124m\"\u001b[39m)\n\u001b[0;32m--> 483\u001b[0m \u001b[38;5;28;01mif\u001b[39;00m np\u001b[38;5;241m.\u001b[39many(\u001b[43m(\u001b[49m\u001b[43mx0\u001b[49m\u001b[43m \u001b[49m\u001b[38;5;241;43m<\u001b[39;49m\u001b[43m \u001b[49m\u001b[43mlb\u001b[49m\u001b[43m)\u001b[49m\u001b[43m \u001b[49m\u001b[38;5;241;43m|\u001b[39;49m\u001b[43m \u001b[49m\u001b[43m(\u001b[49m\u001b[43mx0\u001b[49m\u001b[43m \u001b[49m\u001b[38;5;241;43m>\u001b[39;49m\u001b[43m \u001b[49m\u001b[43mub\u001b[49m\u001b[43m)\u001b[49m):\n\u001b[1;32m    484\u001b[0m     \u001b[38;5;28;01mraise\u001b[39;00m \u001b[38;5;167;01mValueError\u001b[39;00m(\u001b[38;5;124m\"\u001b[39m\u001b[38;5;124m`x0` violates bound constraints.\u001b[39m\u001b[38;5;124m\"\u001b[39m)\n\u001b[1;32m    486\u001b[0m \u001b[38;5;28;01mif\u001b[39;00m as_linear_operator:\n",
      "\u001b[0;31mKeyboardInterrupt\u001b[0m: "
     ]
    }
   ],
   "source": [
    "# Define the simulation parameters\n",
    "n_sim = 10_000\n",
    "prior_limits = {\"k\": [0, 4], \"omega\": [0, 2], \"alpha\": [0, 1]}\n",
    "dt = 0.01\n",
    "TotalTime = 1\n",
    "\n",
    "centroids, centroid_spread, theta_test, compat = CompleteSBIPipeline(n_sim, prior_limits, dt, TotalTime, method = \"correlation_fit\")"
   ]
  },
  {
   "cell_type": "code",
   "execution_count": 6,
   "metadata": {},
   "outputs": [
    {
     "name": "stdout",
     "output_type": "stream",
     "text": [
      "                                           \n"
     ]
    }
   ],
   "source": [
    "def FitAutocorrelationFunctions(multiple_corr_traces, DeltaT):\n",
    "    \"\"\"\n",
    "    Fit an exponential function to the autocorrelation functions with formula a*exp(-b*x)\n",
    "    \"\"\"\n",
    "    def func(x, b):\n",
    "        return np.exp(-b*x)*(x +1)\n",
    "    \n",
    "    output = np.zeros((multiple_corr_traces.shape[0], 1))\n",
    "    for i in range(multiple_corr_traces.shape[0]):\n",
    "        print(\"\\r Fitting trace: \", i, end=\"\")\n",
    "        x = np.arange(0,multiple_corr_traces.shape[1]*DeltaT, DeltaT)\n",
    "        popt, pcov = curve_fit(func, x, multiple_corr_traces[i,:], maxfev = 100_000, p0 = np.ones(1), bounds = (0, np.inf))\n",
    "        output[i,:] = popt\n",
    "    print(\"\\r                                           \")\n",
    "    return output\n",
    "\n",
    "x, theta, prior = GenerateDataForSBI(10000, prior_limits, dt, 5, method = \"correlation_fit\", constant_alpha=0.5, constant_k=1, constant_omega=1)"
   ]
  },
  {
   "cell_type": "code",
   "execution_count": 314,
   "metadata": {},
   "outputs": [
    {
     "data": {
      "text/plain": [
       "[<matplotlib.lines.Line2D at 0x37604f880>]"
      ]
     },
     "execution_count": 314,
     "metadata": {},
     "output_type": "execute_result"
    },
    {
     "data": {
      "image/png": "[encoded data removed]",
      "text/plain": [
       "<Figure size 640x480 with 1 Axes>"
      ]
     },
     "metadata": {},
     "output_type": "display_data"
    }
   ],
   "source": [
    "MEAN = x.mean(axis = 0)[1:]\n",
    "def func(x, b,c,a):\n",
    "    return np.exp(-b*x)*(c*x+a)\n",
    "\n",
    "\n",
    "t = np.arange(dt,x.shape[1]*dt, dt)\n",
    "popt, pcov = curve_fit(func, t, MEAN, maxfev = 100_000)\n",
    "plt.plot(t,MEAN)\n",
    "plt.plot(t, func(t, *popt))\n",
    "\n"
   ]
  },
  {
   "cell_type": "code",
   "execution_count": null,
   "metadata": {},
   "outputs": [],
   "source": []
  }
 ],
 "metadata": {
  "kernelspec": {
   "display_name": "CompLab",
   "language": "python",
   "name": "python3"
  },
  "language_info": {
   "codemirror_mode": {
    "name": "ipython",
    "version": 3
   },
   "file_extension": ".py",
   "mimetype": "text/x-python",
   "name": "python",
   "nbconvert_exporter": "python",
   "pygments_lexer": "ipython3",
   "version": "3.9.18"
  }
 },
 "nbformat": 4,
 "nbformat_minor": 2
}
