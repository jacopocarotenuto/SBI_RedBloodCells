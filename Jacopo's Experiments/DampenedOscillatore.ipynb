{
 "cells": [
  {
   "cell_type": "code",
   "execution_count": 2,
   "metadata": {},
   "outputs": [
    {
     "name": "stderr",
     "output_type": "stream",
     "text": [
      "2024-05-06 08:52:06.569837: I tensorflow/core/util/port.cc:113] oneDNN custom operations are on. You may see slightly different numerical results due to floating-point round-off errors from different computation orders. To turn them off, set the environment variable `TF_ENABLE_ONEDNN_OPTS=0`.\n",
      "2024-05-06 08:52:06.835246: E external/local_xla/xla/stream_executor/cuda/cuda_dnn.cc:9261] Unable to register cuDNN factory: Attempting to register factory for plugin cuDNN when one has already been registered\n",
      "2024-05-06 08:52:06.835314: E external/local_xla/xla/stream_executor/cuda/cuda_fft.cc:607] Unable to register cuFFT factory: Attempting to register factory for plugin cuFFT when one has already been registered\n",
      "2024-05-06 08:52:06.875676: E external/local_xla/xla/stream_executor/cuda/cuda_blas.cc:1515] Unable to register cuBLAS factory: Attempting to register factory for plugin cuBLAS when one has already been registered\n",
      "2024-05-06 08:52:07.526229: I tensorflow/core/platform/cpu_feature_guard.cc:182] This TensorFlow binary is optimized to use available CPU instructions in performance-critical operations.\n",
      "To enable the following instructions: AVX2 AVX512F AVX512_VNNI FMA, in other operations, rebuild TensorFlow with the appropriate compiler flags.\n",
      "2024-05-06 08:52:08.547233: W tensorflow/compiler/tf2tensorrt/utils/py_utils.cc:38] TF-TRT Warning: Could not find TensorRT\n"
     ]
    }
   ],
   "source": [
    "import torch\n",
    "\n",
    "from sbi import analysis as analysis\n",
    "from sbi import utils as utils\n",
    "from sbi.inference import SNPE, simulate_for_sbi\n",
    "from sbi.utils.user_input_checks import (\n",
    "    check_sbi_inputs,\n",
    "    process_prior,\n",
    "    process_simulator,\n",
    ")\n",
    "import numpy as np\n",
    "import matplotlib.pyplot as plt\n",
    "from scipy.stats import norm"
   ]
  },
  {
   "cell_type": "code",
   "execution_count": 3,
   "metadata": {},
   "outputs": [],
   "source": [
    "# Define the simulator. This is one of the TWO bottlenecks of the pipeline\n",
    "def Simulator(theta):\n",
    "    omega, phi = theta\n",
    "    trace = torch.zeros((1,100))\n",
    "    for t in np.arange(0, 10, 0.1):\n",
    "        trace[0,int(t*10)] = np.sin(omega * t + phi)\n",
    "    return trace.reshape_as(torch.zeros((100)))\n",
    "\n",
    "true_theta = torch.tensor([1, 1])"
   ]
  },
  {
   "cell_type": "code",
   "execution_count": 4,
   "metadata": {},
   "outputs": [
    {
     "data": {
      "text/plain": [
       "tensor([ 0.8415,  0.8912,  0.9320,  0.9636,  0.9854,  0.9975,  0.9996,  0.9917,\n",
       "         0.9738,  0.9463,  0.9093,  0.8632,  0.8085,  0.7457,  0.6755,  0.5985,\n",
       "         0.5155,  0.4274,  0.3350,  0.2392,  0.1411,  0.0416, -0.0584, -0.1577,\n",
       "        -0.2555, -0.3508, -0.4425, -0.5298, -0.6119, -0.6878, -0.7568, -0.8183,\n",
       "        -0.8716, -0.9162, -0.9516, -0.9775, -0.9937, -0.9999, -0.9962, -0.9825,\n",
       "        -0.9589, -0.9258, -0.8835, -0.8323, -0.7728, -0.7055, -0.6313, -0.5507,\n",
       "        -0.4646, -0.3739, -0.2794, -0.1822, -0.0831,  0.0168,  0.1165,  0.2151,\n",
       "         0.3115,  0.4048,  0.4941,  0.5784,  0.6570,  0.7290,  0.7937,  0.8504,\n",
       "         0.8987,  0.9380,  0.9679,  0.9882,  0.9985,  0.9989,  0.9894,  0.9699,\n",
       "         0.9407,  0.9022,  0.8546,  0.7985,  0.7344,  0.6630,  0.5849,  0.5010,\n",
       "         0.4121,  0.3191,  0.2229,  0.1245,  0.0248, -0.0752, -0.1743, -0.2718,\n",
       "        -0.3665, -0.4575, -0.5440, -0.6251, -0.6999, -0.7677, -0.8278, -0.8797,\n",
       "        -0.9228, -0.9566, -0.9809, -0.9954])"
      ]
     },
     "execution_count": 4,
     "metadata": {},
     "output_type": "execute_result"
    }
   ],
   "source": [
    "Simulator(true_theta)"
   ]
  },
  {
   "cell_type": "markdown",
   "metadata": {},
   "source": [
    "$$\n",
    "x(t) = Ae^{-\\frac{bt}{2m}} \\cos{(\\omega_{damp}t + \\phi)}\n",
    "$$\n",
    "\n",
    "$$\n",
    "\\omega_{damp} = \\frac{k}{m} - \\frac{b^2}{4m^2}\n",
    "$$"
   ]
  },
  {
   "cell_type": "code",
   "execution_count": 5,
   "metadata": {},
   "outputs": [],
   "source": [
    "# Define the prior. PRIOR is used to sample (and only for that)\n",
    "Prior = utils.BoxUniform(low=torch.tensor([0.0, 0.0]), high=torch.tensor([5.0, 5.0]))"
   ]
  },
  {
   "cell_type": "code",
   "execution_count": 6,
   "metadata": {},
   "outputs": [],
   "source": [
    "# This cell is a safety check to ensure everything returns the right type of object. These function effectvley create\n",
    "# new functions that adhere to the sbi API. They are not necessary to understand, but they are necessary to run the code.\n",
    "\n",
    "# Check prior, return PyTorch prior.\n",
    "Prior, num_parameters, prior_returns_numpy = process_prior(Prior)\n",
    "\n",
    "# Check simulator, returns PyTorch simulator able to simulate batches.\n",
    "Simulator = process_simulator(Simulator, Prior, prior_returns_numpy)\n",
    "\n",
    "# Consistency check after making ready for sbi.\n",
    "check_sbi_inputs(Simulator, Prior)"
   ]
  },
  {
   "cell_type": "code",
   "execution_count": 7,
   "metadata": {},
   "outputs": [],
   "source": [
    "# This is the meat of the method. TODO: Understand this better!!\n",
    "inference = SNPE(prior=Prior)"
   ]
  },
  {
   "cell_type": "code",
   "execution_count": 8,
   "metadata": {},
   "outputs": [
    {
     "data": {
      "application/vnd.jupyter.widget-view+json": {
       "model_id": "94fa28df329a481ebfb4027479e852b8",
       "version_major": 2,
       "version_minor": 0
      },
      "text/plain": [
       "Running 10000 simulations.:   0%|          | 0/10000 [00:00<?, ?it/s]"
      ]
     },
     "metadata": {},
     "output_type": "display_data"
    },
    {
     "data": {
      "text/plain": [
       "tensor([[0.9621, 1.3047],\n",
       "        [1.7064, 3.0654],\n",
       "        [3.7903, 4.9122],\n",
       "        ...,\n",
       "        [2.5076, 1.7802],\n",
       "        [3.3400, 3.2783],\n",
       "        [4.4004, 2.5652]])"
      ]
     },
     "execution_count": 8,
     "metadata": {},
     "output_type": "execute_result"
    }
   ],
   "source": [
    "# THE SIMULATION CAN BE DONE ELSEWHERE!!! With this function it seems that the prior is sampled randomly.\n",
    "# This bitch don't parallelize, its a lie!!\n",
    "theta, x = simulate_for_sbi(Simulator, proposal=Prior, num_simulations=10000, num_workers=1)\n",
    "theta"
   ]
  },
  {
   "cell_type": "code",
   "execution_count": 9,
   "metadata": {},
   "outputs": [
    {
     "name": "stdout",
     "output_type": "stream",
     "text": [
      "Shape theta torch.Size([10000, 2])\n",
      "Shape x:  torch.Size([10000, 100])\n"
     ]
    }
   ],
   "source": [
    "print(\"Shape theta\", theta.shape)\n",
    "print(\"Shape x: \", x.shape)"
   ]
  },
  {
   "cell_type": "code",
   "execution_count": null,
   "metadata": {},
   "outputs": [],
   "source": [
    "inference = inference.append_simulations(theta, x) # Give the simulations to the inference objects! This is where we would use our simulation"
   ]
  },
  {
   "cell_type": "code",
   "execution_count": null,
   "metadata": {},
   "outputs": [
    {
     "name": "stdout",
     "output_type": "stream",
     "text": [
      " Neural network successfully converged after 159 epochs."
     ]
    }
   ],
   "source": [
    "# Seems like smaller batch sizes are better for training. See: https://stats.stackexchange.com/questions/164876/what-is-the-trade-off-between-batch-size-and-number-of-iterations-to-train-a-neu\n",
    "\n",
    "# Idea: use multi-round inference to get better results. See: https://sbi-dev.github.io/sbi/tutorial/03_multiround_inference/\n",
    "\n",
    "density_estimator = inference.train() # This is almost a neural network object (there are more things inside, to be understoo better)"
   ]
  },
  {
   "cell_type": "code",
   "execution_count": null,
   "metadata": {},
   "outputs": [
    {
     "name": "stdout",
     "output_type": "stream",
     "text": [
      "Posterior conditional density p(θ|x) of type DirectPosterior. It samples the posterior network and rejects samples that\n",
      "            lie outside of the prior bounds.\n"
     ]
    }
   ],
   "source": [
    "posterior = inference.build_posterior(density_estimator)\n",
    "\n",
    "print(posterior) # prints how the posterior was trained"
   ]
  },
  {
   "cell_type": "code",
   "execution_count": 7,
   "metadata": {},
   "outputs": [
    {
     "data": {
      "text/plain": [
       "torch.Size([1, 100])"
      ]
     },
     "execution_count": 7,
     "metadata": {},
     "output_type": "execute_result"
    }
   ],
   "source": [
    "theta_true = torch.tensor([[1.0, 1.0]])\n",
    "# generate our observation\n",
    "x_obs = Simulator(theta_true)\n",
    "x_obs.shape"
   ]
  },
  {
   "cell_type": "code",
   "execution_count": null,
   "metadata": {},
   "outputs": [
    {
     "data": {
      "application/vnd.jupyter.widget-view+json": {
       "model_id": "4440d79b788f4e88bdc87c2162100889",
       "version_major": 2,
       "version_minor": 0
      },
      "text/plain": [
       "Drawing 1000000 posterior samples:   0%|          | 0/1000000 [00:00<?, ?it/s]"
      ]
     },
     "metadata": {},
     "output_type": "display_data"
    },
    {
     "data": {
      "image/png": "[encoded data removed]",
      "text/plain": [
       "<Figure size 600x600 with 4 Axes>"
      ]
     },
     "metadata": {},
     "output_type": "display_data"
    }
   ],
   "source": [
    "samples = posterior.sample((1000000,), x=x_obs)\n",
    "_ = analysis.pairplot(samples, points=theta_true, limits=[[0.95, 1.1], [0.95, 1.1]], figsize=(6, 6), labels=[r\"$\\theta_1$\", r\"$\\theta_2$\"])\n",
    "\n",
    "# I really don't like this error! More samples don't seem to help. The distribution is the same anyway... Look at the multi-round inference\n",
    "# More simulation to train the neural network in this case worsened the results...\n",
    "# See plot in the end of the notebook for visual error"
   ]
  },
  {
   "cell_type": "code",
   "execution_count": null,
   "metadata": {},
   "outputs": [],
   "source": [
    "# first sample an alternative parameter set from the prior\n",
    "theta_diff = Prior.sample((1,))"
   ]
  },
  {
   "cell_type": "code",
   "execution_count": null,
   "metadata": {},
   "outputs": [
    {
     "name": "stdout",
     "output_type": "stream",
     "text": [
      "high for true theta : tensor([5.6236])\n",
      "low for different theta : tensor([-3766.6738])\n",
      "range of posterior samples: min: tensor(-8.3609)  max : tensor(6.1805)\n"
     ]
    }
   ],
   "source": [
    "log_probability_true_theta = posterior.log_prob(theta_true, x=x_obs)\n",
    "log_probability_diff_theta = posterior.log_prob(theta_diff, x=x_obs)\n",
    "log_probability_samples = posterior.log_prob(samples, x=x_obs)\n",
    "\n",
    "print( r'high for true theta :', log_probability_true_theta)\n",
    "print( r'low for different theta :', log_probability_diff_theta)\n",
    "print( r'range of posterior samples: min:', torch.min(log_probability_samples),' max :', torch.max(log_probability_samples))"
   ]
  },
  {
   "cell_type": "code",
   "execution_count": null,
   "metadata": {},
   "outputs": [
    {
     "data": {
      "image/png": "[encoded data removed]",
      "text/plain": [
       "<Figure size 640x480 with 1 Axes>"
      ]
     },
     "metadata": {},
     "output_type": "display_data"
    }
   ],
   "source": [
    "# This is really bad! The true value is outside one sigma!!\n",
    "\n",
    "data = samples[:,0]\n",
    "mean,std=norm.fit(data)\n",
    "plt.hist(data, bins=30, density=True)\n",
    "xmin, xmax = plt.xlim()\n",
    "x = np.linspace(xmin, xmax, 100)\n",
    "y = norm.pdf(x, mean, std)\n",
    "plt.vlines(x=mean, ymin=0, ymax=40, color='g')\n",
    "plt.ylim(0, 40)\n",
    "plt.vlines(x=mean-std, ymin=0, ymax=40, color='g')\n",
    "plt.vlines(x=mean+std, ymin=0, ymax=40, color='g')\n",
    "plt.vlines(x=theta_true[0,0], ymin=0, ymax=40, color='r')\n",
    "plt.plot(x, y)\n",
    "plt.show()"
   ]
  },
  {
   "cell_type": "code",
   "execution_count": null,
   "metadata": {},
   "outputs": [],
   "source": []
  }
 ],
 "metadata": {
  "kernelspec": {
   "display_name": "CompLab",
   "language": "python",
   "name": "python3"
  },
  "language_info": {
   "codemirror_mode": {
    "name": "ipython",
    "version": 3
   },
   "file_extension": ".py",
   "mimetype": "text/x-python",
   "name": "python",
   "nbconvert_exporter": "python",
   "pygments_lexer": "ipython3",
   "version": "3.10.12"
  }
 },
 "nbformat": 4,
 "nbformat_minor": 2
}
