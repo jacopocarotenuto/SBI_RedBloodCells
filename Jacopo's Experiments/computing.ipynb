{
 "cells": [
  {
   "cell_type": "code",
   "execution_count": 1,
   "metadata": {},
   "outputs": [],
   "source": [
    "from numba import jit\n",
    "import numpy as np\n",
    "import torch\n",
    "from tqdm import tqdm\n",
    "import matplotlib.pyplot as plt\n",
    "import time"
   ]
  },
  {
   "cell_type": "markdown",
   "metadata": {},
   "source": [
    "TO DO\n",
    "- Fix the time steps (the relation between dt and simul time)\n",
    "- Implement sampling time != dt\n",
    "- The process is Markovin: we can extend the dynamics starting from the end of a simulation (less memory intensive if we use a sampling time different from the integration time)"
   ]
  },
  {
   "cell_type": "markdown",
   "metadata": {},
   "source": [
    "### CPU "
   ]
  },
  {
   "cell_type": "code",
   "execution_count": 61,
   "metadata": {},
   "outputs": [],
   "source": [
    "@jit\n",
    "def simul(N, simul_time, dt, params, random_numbers, init_state=None):\n",
    "    \"\"\"\n",
    "    - simul_time: number of integration time steps\n",
    "    \"\"\"\n",
    "    # Unpack parameters\n",
    "    mu_x, mu_y, k_x, k_y, k_int, D_x, D_y, tau, eps = params\n",
    "    \n",
    "    # Unpack stochastic variables (needed for numba)\n",
    "    delta_x = random_numbers[0]\n",
    "    delta_y = random_numbers[1]\n",
    "    delta_f = random_numbers[2]\n",
    "\n",
    "    # Initialize state variables\n",
    "    x = np.zeros((N, simul_time))\n",
    "    y = np.zeros((N, simul_time))\n",
    "    f = np.zeros((N, simul_time))\n",
    "\n",
    "    # Initial conditions\n",
    "    if init_state is not None:\n",
    "        x[:, 0] = init_state[0]\n",
    "        print(x[:, 0])\n",
    "        y[:, 0] = init_state[1]\n",
    "        f[:, 0] = init_state[2]\n",
    "\n",
    "    # Time evolution (Langvine dynamics)\n",
    "    for t in range(simul_time-1):\n",
    "        dx = mu_x*(-k_x*x[:, t] + k_int*y[:, t])*dt + np.sqrt(2*mu_x*D_x*dt)*delta_x[:, t]\n",
    "        dy = mu_y*(-k_y*y[:, t] + k_int*x[:, t] + f[:, t])*dt + np.sqrt(2*mu_y*D_y*dt)*delta_y[:, t]\n",
    "        df = -(f[:, t]/tau)*dt + np.sqrt(2*eps**2*dt/tau)*delta_f[:, t]\n",
    "\n",
    "        x[:, t+1] = x[:, t] + dx\n",
    "        y[:, t+1] = y[:, t] + dy\n",
    "        f[:, t+1] = f[:, t] + df\n",
    "         \n",
    "    return x, y, f"
   ]
  },
  {
   "cell_type": "code",
   "execution_count": 65,
   "metadata": {},
   "outputs": [],
   "source": [
    "def run_simul(N, simul_time, dt):\n",
    "    \n",
    "    N, simul_time = int(N), int(simul_time)\n",
    "\n",
    "    # Define the parameters (drawn from the uniform prior)\n",
    "    mu_x = np.random.uniform(0.1, 0.5, size=N)\n",
    "    mu_y = np.random.uniform(0.1, 0.5, size=N)\n",
    "    k_x = np.random.uniform(0.1, 0.5, size=N)\n",
    "    k_y = np.random.uniform(0.1, 0.5, size=N)\n",
    "    k_int = np.random.uniform(0.1, 0.5, size=N)\n",
    "    D_x = np.random.uniform(0.1, 0.5, size=N)\n",
    "    D_y = np.random.uniform(0.1, 0.5, size=N)\n",
    "    tau = np.random.uniform(0.1, 0.5, size=N)\n",
    "    eps = np.random.uniform(0.1, 0.5, size=N)\n",
    "\n",
    "    # Initial state\n",
    "    init_state = [np.random.normal(0, 1, size=N), \n",
    "                  np.random.normal(0, 1, size=N), \n",
    "                  np.random.normal(0, 1, size=N)]\n",
    "\n",
    "    # Generate random numbers for the stochastic variables\n",
    "    delta_x = np.random.normal(0, 1, size=(N, simul_time))\n",
    "    delta_y = np.random.normal(0, 1, size=(N, simul_time))\n",
    "    delta_f = np.random.normal(0, 1, size=(N, simul_time))\n",
    "    random_numbers = [delta_x, delta_y, delta_f]\n",
    "\n",
    "    # Run the N simulations in parallel\n",
    "    x, y, f = simul(N, simul_time=simul_time, dt=dt, \n",
    "                    params=[mu_x, mu_y, k_x, k_y, k_int, D_x, D_y, tau, eps], \n",
    "                    random_numbers=random_numbers, init_state=init_state)\n",
    "    \n",
    "    del mu_x, mu_y, k_x, k_y, k_int, D_x, D_y, tau, eps\n",
    "    del delta_x, delta_y, delta_f, random_numbers\n",
    "\n",
    "    return x, y, f"
   ]
  },
  {
   "cell_type": "code",
   "execution_count": 66,
   "metadata": {},
   "outputs": [
    {
     "ename": "SyntaxError",
     "evalue": "incomplete input (3476837357.py, line 2)",
     "output_type": "error",
     "traceback": [
      "\u001b[0;36m  Cell \u001b[0;32mIn[66], line 2\u001b[0;36m\u001b[0m\n\u001b[0;31m    \u001b[0m\n\u001b[0m    ^\u001b[0m\n\u001b[0;31mSyntaxError\u001b[0m\u001b[0;31m:\u001b[0m incomplete input\n"
     ]
    }
   ],
   "source": [
    "def extend_simul(N, simul_time, sample_time, dt, repetitions):\n",
    "    "
   ]
  },
  {
   "cell_type": "code",
   "execution_count": 67,
   "metadata": {},
   "outputs": [
    {
     "name": "stdout",
     "output_type": "stream",
     "text": [
      "[-1.64337274 -1.12261656]\n"
     ]
    }
   ],
   "source": [
    "# Easy call to the simulation to compile simul()\n",
    "x, y, f = run_simul(N=2, simul_time=1000, dt=0.01)"
   ]
  },
  {
   "cell_type": "code",
   "execution_count": 68,
   "metadata": {},
   "outputs": [
    {
     "name": "stdout",
     "output_type": "stream",
     "text": [
      "[ 1.94551852  0.93839594  0.43052778  0.34114622 -0.15530234 -0.1691907\n",
      " -1.37710871  0.17948455  1.31532809 -0.6422507 ]\n",
      "CPU times: user 344 ms, sys: 0 ns, total: 344 ms\n",
      "Wall time: 350 ms\n"
     ]
    }
   ],
   "source": [
    "%%time\n",
    "x, y, f = run_simul(N=1e1, simul_time=3e5, dt=0.000001)"
   ]
  },
  {
   "cell_type": "code",
   "execution_count": 69,
   "metadata": {},
   "outputs": [
    {
     "data": {
      "image/png": "[encoded data removed]",
      "text/plain": [
       "<Figure size 640x480 with 1 Axes>"
      ]
     },
     "metadata": {},
     "output_type": "display_data"
    }
   ],
   "source": [
    "for n in range(10):\n",
    "    plt.plot(x[n, :], label=f\"Trajectory {n}\")"
   ]
  },
  {
   "cell_type": "code",
   "execution_count": 7,
   "metadata": {},
   "outputs": [
    {
     "name": "stderr",
     "output_type": "stream",
     "text": [
      "100%|██████████| 10/10 [00:15<00:00,  1.53s/it]"
     ]
    },
    {
     "name": "stdout",
     "output_type": "stream",
     "text": [
      "CPU times: user 14 s, sys: 1.31 s, total: 15.3 s\n",
      "Wall time: 15.3 s\n"
     ]
    },
    {
     "name": "stderr",
     "output_type": "stream",
     "text": [
      "\n"
     ]
    }
   ],
   "source": [
    "%%time\n",
    "N, times = int(1e4), 10\n",
    "T = int(1e3)\n",
    "\n",
    "x = np.zeros((N*times, T))\n",
    "y = np.zeros((N*times, T))\n",
    "f = np.zeros((N*times, T))\n",
    "\n",
    "for t in tqdm(range(times)):\n",
    "    x_t, y_t, f_t = run_simul(N, T)\n",
    "\n",
    "    x[N*t:N*(t+1), :] = x_t\n",
    "    x[N*t:N*(t+1), :] = y_t\n",
    "    x[N*t:N*(t+1), :] = f_t\n",
    "\n",
    "    #time.sleep(1)"
   ]
  },
  {
   "cell_type": "markdown",
   "metadata": {},
   "source": [
    "### GPU with torch"
   ]
  },
  {
   "cell_type": "markdown",
   "metadata": {},
   "source": [
    "NOT UPDATED!!!"
   ]
  },
  {
   "cell_type": "code",
   "execution_count": 6,
   "metadata": {},
   "outputs": [],
   "source": [
    "def simul_torch(N, T, dt, params, random_numbers, init_state=None, device='cpu'):\n",
    "    # Unpack parameters\n",
    "    mu_x, mu_y, k_x, k_y, k_int, D_x, D_y, tau, eps = params\n",
    "    \n",
    "    # Unpack stochastic variables\n",
    "    delta_x, delta_y, delta_f = random_numbers\n",
    "\n",
    "    # Initialize state variables as PyTorch tensors\n",
    "    x = torch.zeros((N, T), dtype=torch.float64, device=device)\n",
    "    y = torch.zeros((N, T), dtype=torch.float64, device=device)\n",
    "    f = torch.zeros((N, T), dtype=torch.float64, device=device)\n",
    "\n",
    "    # Initial conditions\n",
    "    if init_state is not None:\n",
    "        x[:, 0] = init_state[0].clone().detach().to(torch.float64)\n",
    "        y[:, 0] = init_state[1].clone().detach().to(torch.float64)\n",
    "        f[:, 0] = init_state[2].clone().detach().to(torch.float64)\n",
    "\n",
    "    # Time evolution (Langvine dynamics)\n",
    "    for t in range(T-1):\n",
    "        dx = mu_x*(-k_x*x[:, t] + k_int*y[:, t])*dt + torch.sqrt(2*mu_x*D_x*dt)*delta_x[:, t]\n",
    "        dy = mu_y*(-k_y*y[:, t] + k_int*x[:, t] + f[:, t])*dt + torch.sqrt(2*mu_y*D_y*dt)*delta_y[:, t]\n",
    "        df = -(f[:, t]/tau)*dt + torch.sqrt(2*eps**2*dt/tau)*delta_f[:, t]\n",
    "\n",
    "        x[:, t+1] = x[:, t] + dx\n",
    "        y[:, t+1] = y[:, t] + dy\n",
    "        f[:, t+1] = f[:, t] + df\n",
    "        \n",
    "    return x, y, f\n"
   ]
  },
  {
   "cell_type": "code",
   "execution_count": 7,
   "metadata": {},
   "outputs": [],
   "source": [
    "def run_simul_torch(N, T):\n",
    "    N, T = int(N), int(T)\n",
    "\n",
    "    # Define the parameters (drawn from the uniform prior)\n",
    "    mu_x = torch.rand(N) * 0.4 + 0.1\n",
    "    mu_y = torch.rand(N) * 0.4 + 0.1\n",
    "    k_x = torch.rand(N) * 0.4 + 0.1\n",
    "    k_y = torch.rand(N) * 0.4 + 0.1\n",
    "    k_int = torch.rand(N) * 0.4 + 0.1\n",
    "    D_x = torch.rand(N) * 0.4 + 0.1\n",
    "    D_y = torch.rand(N) * 0.4 + 0.1\n",
    "    tau = torch.rand(N) * 0.4 + 0.1\n",
    "    eps = torch.rand(N) * 0.4 + 0.1\n",
    "\n",
    "    # Initial state\n",
    "    init_state = [\n",
    "        torch.normal(-20, 20, size=(N,)).clone().detach(),\n",
    "        torch.normal(-20, 20, size=(N,)).clone().detach(),\n",
    "        torch.normal(-0.5, 0.5, size=(N,)).clone().detach()\n",
    "    ]\n",
    "\n",
    "    # Generate random numbers for the stochastic variables\n",
    "    delta_x = torch.normal(0, 1, size=(N, T))\n",
    "    delta_y = torch.normal(0, 1, size=(N, T))\n",
    "    delta_f = torch.normal(0, 1, size=(N, T))\n",
    "    random_numbers = [delta_x, delta_y, delta_f]\n",
    "\n",
    "    # Run the N simulations in parallel\n",
    "    x, y, f = simul_torch(N, T, 0.01, [mu_x, mu_y, k_x, k_y, k_int, D_x, D_y, tau, eps], \n",
    "                          random_numbers, init_state, device='cpu')\n",
    "\n",
    "    return x, y, f\n"
   ]
  },
  {
   "cell_type": "code",
   "execution_count": 36,
   "metadata": {},
   "outputs": [
    {
     "name": "stdout",
     "output_type": "stream",
     "text": [
      "Using 'cpu' as device\n"
     ]
    }
   ],
   "source": [
    "# Trying the same with torch\n",
    "device = torch.device('cuda' if torch.cuda.is_available() else 'cpu')\n",
    "print(\"Using '\" + str('cuda' if torch.cuda.is_available() else 'cpu') + \"' as device\")\n",
    "x, y, f = run_simul_torch(N=2, T=100)"
   ]
  },
  {
   "cell_type": "code",
   "execution_count": null,
   "metadata": {},
   "outputs": [],
   "source": []
  }
 ],
 "metadata": {
  "kernelspec": {
   "display_name": "Python 3",
   "language": "python",
   "name": "python3"
  },
  "language_info": {
   "codemirror_mode": {
    "name": "ipython",
    "version": 3
   },
   "file_extension": ".py",
   "mimetype": "text/x-python",
   "name": "python",
   "nbconvert_exporter": "python",
   "pygments_lexer": "ipython3",
   "version": "3.10.12"
  }
 },
 "nbformat": 4,
 "nbformat_minor": 2
}
