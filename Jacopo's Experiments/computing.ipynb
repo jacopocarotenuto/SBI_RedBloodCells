{
 "cells": [
  {
   "cell_type": "markdown",
   "metadata": {},
   "source": [
    "Stochastic differential equations:\n",
    "$$ dx = \\mu_x(-k_x x[t] + k_{int} y[t])dt + \\sqrt{2\\mu_x D_x dt} \\delta_x[t] $$\n",
    "$$ dy = \\mu_y(-k_y y[t] + k_{int} x[t] + f[t])dt + \\sqrt{2\\mu_y D_y dt} \\delta_y[t] $$\n",
    "$$ df = -\\frac{f[t]}{\\tau} dt + \\sqrt{\\frac{2\\epsilon^2 dt}{\\tau}} \\delta_f[t] $$"
   ]
  },
  {
   "cell_type": "markdown",
   "metadata": {},
   "source": [
    "Theoretical things:\n",
    "- OT stretching, OT sensing, and OM refer to different techniques used to measure the mechanical properties of red blood cells (RBCs). OT stretching involves mechanically stretching RBCs using beads nonspecifically attached to the membrane with different optical trap stiffness. OT sensing, on the other hand, measures cell contour fluctuations by membrane flickering segmentation tracking of free-standing RBCs using ultrafast optical microscopy (OM). These techniques are used to study the deformability and mechanical properties of RBCs"
   ]
  },
  {
   "cell_type": "markdown",
   "metadata": {},
   "source": [
    "Parameters, prior:\n",
    "- Sampling rates = 40 kHz for OT stretching, 25 kHz for OT sensing, 2 kHz for OM\n",
    "Considering 40 kHz as sampling rate, and 30 s the duration of the experiment. We need to sample 1.2e6 points.\n",
    "So if the frequency is 40 kHz, in our simulation we need to have this relation:\n",
    "$$\\text{{Total simulation time}} = dt \\times \\text{{Number of steps}}$$ \n",
    "$$30 \\, \\text{{s}} = dt \\times \\text{{Number of steps}}$$\n",
    "- Parameters \n",
    "\n",
    "| RBC | $k_x$ [10^-3 pN/nm] | $\\mu_x$ [10^4 nm/(pN s)] | $k_y$ [10^-2 pN/nm] | $\\mu_y$ [10^4 nm/(pN s)] | $k_{int}$ [10^-3 pN/nm] | $\\varepsilon$ [pN] | $\\tau$ [10^-2 s] | $\\Theta$ [10^2 kB T/s] |\n",
    "| --- | --- | --- | --- | --- | --- | --- | --- | --- |\n",
    "| P1 | 6.0±0.7 | 2.6±0.3 | 1.7±0.5 | 140±10 | 1.8±0.6 | 0.7±0.1 | (2±1)·10^2 | 1.3±0.2 |\n",
    "| P2 | 8.1±0.5 | 2.1±0.4 | 29±8 | 31±8 | 6±2 | 2.1±0.5 | (4±1)·10^2 | 0.8±0.1 |\n",
    "| H1 | 6.5±0.6 | 2.8±0.5 | 1.6±0.2 | 2.9±0.4 | 4.5±0.5 | 2.6±0.1 | 8±1 | 16±2 |\n",
    "| H2 | 15.1±0.2 | 3.6±0.4 | 1.6±0.1 | 2.3±0.3 | 4.2±0.2 | 2.4±0.1 | 1.1±0.1 | 64±3 |\n",
    "| H3 | 3.7±0.6 | 2.6±0.2 | 2.9±0.5 | 0.57±0.08 | 2.3±0.4 | 4.7±0.3 | 2.5±0.3 | 10±2 |\n",
    "| H4 | 7.17±0.03 | 1.6±0.1 | 1.30±0.05 | 1.96±0.02 | 2.88±0.05 | 3.86±0.02 | 17±3 | 22±4 |\n",
    "| H5 | 9.5±0.4 | 1.7±0.2 | 1.78±0.06 | 1.94±0.02 | 2.84±0.06 | 4.41±0.03 | 7.7±0.1 | 39±5 |\n",
    "\n",
    "- Prior distributions,, we can just take the uniform distribution in those ranges without rescaling or anything, since the units of measurement are alsways in nm, pN and s.\n",
    "\n",
    "| Parameter      | Prior Distribution (Range) |\n",
    "| ----------- | ----------- |\n",
    "| $k_{x}$     | $\\mathcal{U}(3, 16)$ pN/nm       |\n",
    "| $k_{y}$  | $\\mathcal{U}(1, 4)$ nm/(pN s)        |\n",
    "| $k_{int}$ | $\\mathcal{U}(0, 5)$ pN |\n",
    "| $u_{x}$ | $\\mathcal{U}(0, 500)$ s |\n",
    "| $u_{y}$ | $\\mathcal{U}(e, f)$ (replace e and f with the actual range) |\n",
    "| $u_{int}$ | $\\mathcal{U}(g, h)$ (replace g and h with the actual range) |\n",
    "| $\\varepsilon$ | $\\mathcal{U}(i, j)$ (replace i and j with the actual range) |\n",
    "| $\\tau$ | $\\mathcal{U}(k, l)$ (replace k and l with the actual range) |\n",
    "| $\\sigma$ | $\\mathcal{U}(m, n)$ (replace m and n with the actual range) |\n"
   ]
  },
  {
   "cell_type": "code",
   "execution_count": 1,
   "metadata": {},
   "outputs": [],
   "source": [
    "import os\n",
    "os.environ['KMP_DUPLICATE_LIB_OK']='True'\n"
   ]
  },
  {
   "cell_type": "code",
   "execution_count": 2,
   "metadata": {},
   "outputs": [],
   "source": [
    "from numba import jit\n",
    "import numpy as np\n",
    "import torch\n",
    "from tqdm import tqdm\n",
    "import matplotlib.pyplot as plt\n",
    "import time"
   ]
  },
  {
   "cell_type": "markdown",
   "metadata": {},
   "source": [
    "TO DO\n",
    "- Fix the time steps (the relation between dt and simul time)\n",
    "- Implement sampling time != dt\n",
    "- The process is Markovin: we can extend the dynamics starting from the end of a simulation (less memory intensive if we use a sampling time different from the integration time)"
   ]
  },
  {
   "cell_type": "markdown",
   "metadata": {},
   "source": [
    "### CPU "
   ]
  },
  {
   "cell_type": "code",
   "execution_count": 3,
   "metadata": {},
   "outputs": [],
   "source": [
    "@jit\n",
    "def simul(N, simul_time, dt, params, random_numbers, init_state=None):\n",
    "    \"\"\"\n",
    "    - simul_time: number of integration time steps\n",
    "    \"\"\"\n",
    "    # Unpack parameters\n",
    "    mu_x, mu_y, k_x, k_y, k_int, D_x, D_y, tau, eps = params\n",
    "    \n",
    "    # Unpack stochastic variables (needed for numba)\n",
    "    delta_x = random_numbers[0]\n",
    "    delta_y = random_numbers[1]\n",
    "    delta_f = random_numbers[2]\n",
    "\n",
    "    # Initialize state variables\n",
    "    x = np.zeros((N, simul_time))\n",
    "    y = np.zeros((N, simul_time))\n",
    "    f = np.zeros((N, simul_time))\n",
    "\n",
    "    # Initial conditions\n",
    "    if init_state is not None:\n",
    "        x[:, 0] = init_state[0]\n",
    "        y[:, 0] = init_state[1]\n",
    "        f[:, 0] = init_state[2]\n",
    "\n",
    "    # Time evolution (Langvine dynamics)\n",
    "    for t in range(simul_time-1):\n",
    "        dx = mu_x*(-k_x*x[:, t] + k_int*y[:, t])*dt + np.sqrt(2*mu_x*D_x*dt)*delta_x[:, t]\n",
    "        dy = mu_y*(-k_y*y[:, t] + k_int*x[:, t] + f[:, t])*dt + np.sqrt(2*mu_y*D_y*dt)*delta_y[:, t]\n",
    "        df = -(f[:, t]/tau)*dt + np.sqrt(2*eps**2*dt/tau)*delta_f[:, t]\n",
    "\n",
    "        x[:, t+1] = x[:, t] + dx\n",
    "        y[:, t+1] = y[:, t] + dy\n",
    "        f[:, t+1] = f[:, t] + df\n",
    "         \n",
    "    return x, y, f"
   ]
  },
  {
   "cell_type": "code",
   "execution_count": 4,
   "metadata": {},
   "outputs": [],
   "source": [
    "def run_simul(N, simul_time, dt):\n",
    "    \n",
    "    N, simul_time = int(N), int(simul_time)\n",
    "\n",
    "    # Define the parameters (drawn from the uniform prior)\n",
    "    mu_x = np.random.uniform(0.1, 0.5, size=N)\n",
    "    mu_y = np.random.uniform(0.1, 0.5, size=N)\n",
    "    k_x = np.random.uniform(0.1, 0.5, size=N)\n",
    "    k_y = np.random.uniform(0.1, 0.5, size=N)\n",
    "    k_int = np.random.uniform(0.1, 0.5, size=N)\n",
    "    D_x = np.random.uniform(0.1, 0.5, size=N)\n",
    "    D_y = np.random.uniform(0.1, 0.5, size=N)\n",
    "    tau = np.random.uniform(0.1, 0.5, size=N)\n",
    "    eps = np.random.uniform(0.1, 0.5, size=N)\n",
    "\n",
    "    # Initial state\n",
    "    init_state = [np.random.normal(0, 1, size=N), \n",
    "                  np.random.normal(0, 1, size=N), \n",
    "                  np.random.normal(0, 1, size=N)]\n",
    "\n",
    "    # Generate random numbers for the stochastic variables\n",
    "    delta_x = np.random.normal(0, 1, size=(N, simul_time))\n",
    "    delta_y = np.random.normal(0, 1, size=(N, simul_time))\n",
    "    delta_f = np.random.normal(0, 1, size=(N, simul_time))\n",
    "    random_numbers = [delta_x, delta_y, delta_f]\n",
    "\n",
    "    # Run the N simulations in parallel\n",
    "    x, y, f = simul(N, simul_time=simul_time, dt=dt, \n",
    "                    params=[mu_x, mu_y, k_x, k_y, k_int, D_x, D_y, tau, eps], \n",
    "                    random_numbers=random_numbers, init_state=init_state)\n",
    "    \n",
    "    del mu_x, mu_y, k_x, k_y, k_int, D_x, D_y, tau, eps\n",
    "    del delta_x, delta_y, delta_f, random_numbers\n",
    "\n",
    "    return x, y, f"
   ]
  },
  {
   "cell_type": "code",
   "execution_count": null,
   "metadata": {},
   "outputs": [],
   "source": [
    "def extend_simul(N, simul_time, sample_time, dt, repetitions):\n",
    "    "
   ]
  },
  {
   "cell_type": "code",
   "execution_count": 5,
   "metadata": {},
   "outputs": [
    {
     "name": "stdout",
     "output_type": "stream",
     "text": [
      "[1.43292117 0.00692067]\n"
     ]
    }
   ],
   "source": [
    "# Easy call to the simulation to compile simul()\n",
    "x, y, f = run_simul(N=2, simul_time=1000, dt=0.01)"
   ]
  },
  {
   "cell_type": "code",
   "execution_count": 6,
   "metadata": {},
   "outputs": [
    {
     "name": "stdout",
     "output_type": "stream",
     "text": [
      "[ 0.0491984   0.02477199  0.70731145 -1.62490508  0.32790303 -0.59827165\n",
      "  0.13036362  1.78789082 -1.94695912 -0.11157568]\n",
      "CPU times: total: 500 ms\n",
      "Wall time: 624 ms\n"
     ]
    }
   ],
   "source": [
    "%%time\n",
    "x, y, f = run_simul(N=1e1, simul_time=3e5, dt=0.000001)"
   ]
  },
  {
   "cell_type": "code",
   "execution_count": 7,
   "metadata": {},
   "outputs": [
    {
     "data": {
      "image/png": "[encoded data removed]",
      "text/plain": [
       "<Figure size 640x480 with 1 Axes>"
      ]
     },
     "metadata": {},
     "output_type": "display_data"
    }
   ],
   "source": [
    "for n in range(10):\n",
    "    plt.plot(x[n, :], label=f\"Trajectory {n}\")"
   ]
  },
  {
   "cell_type": "code",
   "execution_count": null,
   "metadata": {},
   "outputs": [],
   "source": [
    "%%time\n",
    "N, times = int(1e4), 10\n",
    "T = int(1e3)\n",
    "\n",
    "x = np.zeros((N*times, T))\n",
    "y = np.zeros((N*times, T))\n",
    "f = np.zeros((N*times, T))\n",
    "\n",
    "for t in tqdm(range(times)):\n",
    "    x_t, y_t, f_t = run_simul(N, T)\n",
    "\n",
    "    x[N*t:N*(t+1), :] = x_t\n",
    "    x[N*t:N*(t+1), :] = y_t\n",
    "    x[N*t:N*(t+1), :] = f_t\n",
    "\n",
    "    #time.sleep(1)"
   ]
  },
  {
   "cell_type": "markdown",
   "metadata": {},
   "source": [
    "### GPU with torch"
   ]
  },
  {
   "cell_type": "markdown",
   "metadata": {},
   "source": [
    "NOT UPDATED!!!"
   ]
  },
  {
   "cell_type": "code",
   "execution_count": null,
   "metadata": {},
   "outputs": [],
   "source": [
    "def simul_torch(N, T, dt, params, random_numbers, init_state=None, device='cpu'):\n",
    "    # Unpack parameters\n",
    "    mu_x, mu_y, k_x, k_y, k_int, D_x, D_y, tau, eps = params\n",
    "    \n",
    "    # Unpack stochastic variables\n",
    "    delta_x, delta_y, delta_f = random_numbers\n",
    "\n",
    "    # Initialize state variables as PyTorch tensors\n",
    "    x = torch.zeros((N, T), dtype=torch.float64, device=device)\n",
    "    y = torch.zeros((N, T), dtype=torch.float64, device=device)\n",
    "    f = torch.zeros((N, T), dtype=torch.float64, device=device)\n",
    "\n",
    "    # Initial conditions\n",
    "    if init_state is not None:\n",
    "        x[:, 0] = init_state[0].clone().detach().to(torch.float64)\n",
    "        y[:, 0] = init_state[1].clone().detach().to(torch.float64)\n",
    "        f[:, 0] = init_state[2].clone().detach().to(torch.float64)\n",
    "\n",
    "    # Time evolution (Langvine dynamics)\n",
    "    for t in range(T-1):\n",
    "        dx = mu_x*(-k_x*x[:, t] + k_int*y[:, t])*dt + torch.sqrt(2*mu_x*D_x*dt)*delta_x[:, t]\n",
    "        dy = mu_y*(-k_y*y[:, t] + k_int*x[:, t] + f[:, t])*dt + torch.sqrt(2*mu_y*D_y*dt)*delta_y[:, t]\n",
    "        df = -(f[:, t]/tau)*dt + torch.sqrt(2*eps**2*dt/tau)*delta_f[:, t]\n",
    "\n",
    "        x[:, t+1] = x[:, t] + dx\n",
    "        y[:, t+1] = y[:, t] + dy\n",
    "        f[:, t+1] = f[:, t] + df\n",
    "        \n",
    "    return x, y, f\n"
   ]
  },
  {
   "cell_type": "code",
   "execution_count": null,
   "metadata": {},
   "outputs": [],
   "source": [
    "def run_simul_torch(N, T):\n",
    "    N, T = int(N), int(T)\n",
    "\n",
    "    # Define the parameters (drawn from the uniform prior)\n",
    "    mu_x = torch.rand(N) * 0.4 + 0.1\n",
    "    mu_y = torch.rand(N) * 0.4 + 0.1\n",
    "    k_x = torch.rand(N) * 0.4 + 0.1\n",
    "    k_y = torch.rand(N) * 0.4 + 0.1\n",
    "    k_int = torch.rand(N) * 0.4 + 0.1\n",
    "    D_x = torch.rand(N) * 0.4 + 0.1\n",
    "    D_y = torch.rand(N) * 0.4 + 0.1\n",
    "    tau = torch.rand(N) * 0.4 + 0.1\n",
    "    eps = torch.rand(N) * 0.4 + 0.1\n",
    "\n",
    "    # Initial state\n",
    "    init_state = [\n",
    "        torch.normal(-20, 20, size=(N,)).clone().detach(),\n",
    "        torch.normal(-20, 20, size=(N,)).clone().detach(),\n",
    "        torch.normal(-0.5, 0.5, size=(N,)).clone().detach()\n",
    "    ]\n",
    "\n",
    "    # Generate random numbers for the stochastic variables\n",
    "    delta_x = torch.normal(0, 1, size=(N, T))\n",
    "    delta_y = torch.normal(0, 1, size=(N, T))\n",
    "    delta_f = torch.normal(0, 1, size=(N, T))\n",
    "    random_numbers = [delta_x, delta_y, delta_f]\n",
    "\n",
    "    # Run the N simulations in parallel\n",
    "    x, y, f = simul_torch(N, T, 0.01, [mu_x, mu_y, k_x, k_y, k_int, D_x, D_y, tau, eps], \n",
    "                          random_numbers, init_state, device='cpu')\n",
    "\n",
    "    return x, y, f\n"
   ]
  },
  {
   "cell_type": "code",
   "execution_count": null,
   "metadata": {},
   "outputs": [],
   "source": [
    "# Trying the same with torch\n",
    "device = torch.device('cuda' if torch.cuda.is_available() else 'cpu')\n",
    "print(\"Using '\" + str('cuda' if torch.cuda.is_available() else 'cpu') + \"' as device\")\n",
    "x, y, f = run_simul_torch(N=2, T=100)"
   ]
  },
  {
   "cell_type": "code",
   "execution_count": null,
   "metadata": {},
   "outputs": [],
   "source": []
  }
 ],
 "metadata": {
  "kernelspec": {
   "display_name": "Python 3",
   "language": "python",
   "name": "python3"
  },
  "language_info": {
   "codemirror_mode": {
    "name": "ipython",
    "version": 3
   },
   "file_extension": ".py",
   "mimetype": "text/x-python",
   "name": "python",
   "nbconvert_exporter": "python",
   "pygments_lexer": "ipython3",
   "version": "3.11.5"
  }
 },
 "nbformat": 4,
 "nbformat_minor": 2
}
