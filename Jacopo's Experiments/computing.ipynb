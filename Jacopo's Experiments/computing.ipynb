{
 "cells": [
  {
   "cell_type": "markdown",
   "metadata": {},
   "source": [
    "Stochastic differential equations:\n",
    "$$ dx = \\mu_x(-k_x x[t] + k_{int} y[t])dt + \\sqrt{2\\mu_x D_x dt} \\delta_x[t] $$\n",
    "$$ dy = \\mu_y(-k_y y[t] + k_{int} x[t] + f[t])dt + \\sqrt{2\\mu_y D_y dt} \\delta_y[t] $$\n",
    "$$ df = -\\frac{f[t]}{\\tau} dt + \\sqrt{\\frac{2\\epsilon^2 dt}{\\tau}} \\delta_f[t] $$"
   ]
  },
  {
   "cell_type": "markdown",
   "metadata": {},
   "source": [
    "Theoretical things:\n",
    "- OT stretching, OT sensing, and OM refer to different techniques used to measure the mechanical properties of red blood cells (RBCs). OT stretching involves mechanically stretching RBCs using beads nonspecifically attached to the membrane with different optical trap stiffness. OT sensing, on the other hand, measures cell contour fluctuations by membrane flickering segmentation tracking of free-standing RBCs using ultrafast optical microscopy (OM). These techniques are used to study the deformability and mechanical properties of RBCs"
   ]
  },
  {
   "cell_type": "markdown",
   "metadata": {},
   "source": [
    "Parameters, prior:\n",
    "- Sampling rates = 40 kHz for OT stretching, 25 kHz for OT sensing, 2 kHz for OM\n",
    "Considering 40 kHz as sampling rate, and 30 s the duration of the experiment. We need to sample 1.2e6 points.\n",
    "So if the frequency is 40 kHz, in our simulation we need to have this relation:\n",
    "$$\\text{{Total simulation time}} = dt \\times \\text{{Number of steps}}$$ \n",
    "$$30 \\, \\text{{s}} = dt \\times \\text{{Number of steps}}$$\n",
    "- Parameters \n",
    "\n",
    "| RBC | $k_x$ [10^-3 pN/nm] | $\\mu_x$ [10^4 nm/(pN s)] | $k_y$ [10^-2 pN/nm] | $\\mu_y$ [10^4 nm/(pN s)] | $k_{int}$ [10^-3 pN/nm] | $\\varepsilon$ [pN] | $\\tau$ [10^-2 s] | $\\Theta$ [10^2 kB T/s] |\n",
    "| --- | --- | --- | --- | --- | --- | --- | --- | --- |\n",
    "| P1 | 6.0±0.7 | 2.6±0.3 | 1.7±0.5 | 140±10 | 1.8±0.6 | 0.7±0.1 | (2±1)·10^2 | 1.3±0.2 |\n",
    "| P2 | 8.1±0.5 | 2.1±0.4 | 29±8 | 31±8 | 6±2 | 2.1±0.5 | (4±1)·10^2 | 0.8±0.1 |\n",
    "| H1 | 6.5±0.6 | 2.8±0.5 | 1.6±0.2 | 2.9±0.4 | 4.5±0.5 | 2.6±0.1 | 8±1 | 16±2 |\n",
    "| H2 | 15.1±0.2 | 3.6±0.4 | 1.6±0.1 | 2.3±0.3 | 4.2±0.2 | 2.4±0.1 | 1.1±0.1 | 64±3 |\n",
    "| H3 | 3.7±0.6 | 2.6±0.2 | 2.9±0.5 | 0.57±0.08 | 2.3±0.4 | 4.7±0.3 | 2.5±0.3 | 10±2 |\n",
    "| H4 | 7.17±0.03 | 1.6±0.1 | 1.30±0.05 | 1.96±0.02 | 2.88±0.05 | 3.86±0.02 | 17±3 | 22±4 |\n",
    "| H5 | 9.5±0.4 | 1.7±0.2 | 1.78±0.06 | 1.94±0.02 | 2.84±0.06 | 4.41±0.03 | 7.7±0.1 | 39±5 |\n",
    "\n",
    "- Prior distributions,, we can just take the uniform distribution in those ranges without rescaling or anything, since the units of measurement are alsways in nm, pN and s.\n",
    "\n",
    "| Parameter      | Prior Distribution (Range) |\n",
    "| ----------- | ----------- |\n",
    "| $k_{x}$     | $\\mathcal{U}(3, 16)$ pN/nm   $10^-3$    | \n",
    "| $k_{y}$  | $\\mathcal{U}(1.5, 30)$ pN/nm  $10^-2$        |\n",
    "| $k_{int}$ | $\\mathcal{U}(1, 6)$ pN/nm  $10^-3$ |\n",
    "| $u_{x}$ | $\\mathcal{U}(1.5, 4)$ nm/ (pN s) $10^4$ |\n",
    "| $u_{y}$ | $\\mathcal{U}(1, 140)$ nm/ (pN s) $10^4$ |\n",
    "| $\\varepsilon$ | $\\mathcal{U}(0.5, 6)$ pN |\n",
    "| $\\tau$ | $\\mathcal{U}(2, 20)$ s $10^-2$ |\n",
    "| $\\sigma$ | $\\mathcal{U}(4, 260)$ (pN nm)/ s |\n",
    "| $D_{x}$ | $\\mathcal{U}(5.5, 15.5)$ nm ^2 / s |\n",
    "| $D_{y}$ | $\\mathcal{U}(1, 530)$ nm ^2 / s|\n"
   ]
  },
  {
   "cell_type": "markdown",
   "metadata": {},
   "source": [
    "| Parameter      | Prior Distribution (Range) |\n",
    "| ----------- | ----------- |\n",
    "| $k_{x}$     | $\\mathcal{U}(3 \\times 10^{-3}, 16 \\times 10^{-3})$ pN/nm       |\n",
    "| $k_{y}$  | $\\mathcal{U}(1.5 \\times 10^{-2}, 30 \\times 10^{-2})$ pN/nm        |\n",
    "| $k_{int}$ | $\\mathcal{U}(1 \\times 10^{-3}, 6 \\times 10^{-3})$ pN/nm |\n",
    "| $u_{x}$ | $\\mathcal{U}(1.5 \\times 10^{4}, 4 \\times 10^{4})$ nm/(pN s) |\n",
    "| $u_{y}$ | $\\mathcal{U}(1 \\times 10^{4}, 140 \\times 10^{4})$ nm/(pN s) |\n",
    "| $\\varepsilon$ | $\\mathcal{U}(0.5, 6)$ pN |\n",
    "| $\\tau$ | $\\mathcal{U}(2 \\times 10^{-2}, 20 \\times 10^{-2})$ s |\n",
    "| $\\sigma$ | $\\mathcal{U}(4, 260)$ (pN nm)/s |\n",
    "| $D_{x}$ | $\\mathcal{U}(5.5, 15.5)$ nm²/s |\n",
    "| $D_{y}$ | $\\mathcal{U}(1, 530)$ nm²/s |"
   ]
  },
  {
   "cell_type": "code",
   "execution_count": 1,
   "metadata": {},
   "outputs": [],
   "source": [
    "from numba import jit\n",
    "import numpy as np\n",
    "import torch\n",
    "from tqdm import tqdm\n",
    "import matplotlib.pyplot as plt\n",
    "import time"
   ]
  },
  {
   "cell_type": "markdown",
   "metadata": {},
   "source": [
    "# First simulator (not updated)"
   ]
  },
  {
   "cell_type": "markdown",
   "metadata": {},
   "source": [
    "TO DO\n",
    "- Fix the time steps (the relation between dt and simul time)\n",
    "- Implement sampling time != dt\n",
    "- The process is Markovin: we can extend the dynamics starting from the end of a simulation (less memory intensive if we use a sampling time different from the integration time)"
   ]
  },
  {
   "cell_type": "markdown",
   "metadata": {},
   "source": [
    "### CPU "
   ]
  },
  {
   "cell_type": "code",
   "execution_count": 5,
   "metadata": {},
   "outputs": [],
   "source": [
    "def corr(x,y,nmax,dt=False):\n",
    "    '''fft, pad 0s, non partial'''\n",
    "\n",
    "    assert len(x)==len(y)\n",
    "\n",
    "    n=len(x)\n",
    "    # pad 0s to 2n-1\n",
    "    ext_size=2*n-1\n",
    "    # nearest power of 2\n",
    "    fsize=2**np.ceil(np.log2(ext_size)).astype('int')\n",
    "\n",
    "    xp=x-np.mean(x)\n",
    "    yp=y-np.mean(y)\n",
    "\n",
    "    # do fft and ifft\n",
    "    cfx=np.fft.fft(xp,fsize)\n",
    "    cfy=np.fft.fft(yp,fsize)\n",
    "    if dt != False:\n",
    "        freq = np.fft.fftfreq(n, d=dt)\n",
    "        idx = np.where((freq<-1/(2*dt))+(freq>1/(2*dt)))[0]\n",
    "        \n",
    "        cfx[idx]=0\n",
    "        cfy[idx]=0\n",
    "        \n",
    "    sf=cfx.conjugate()*cfy\n",
    "    corr=np.fft.ifft(sf).real\n",
    "    corr=corr/n\n",
    "\n",
    "    return corr[:nmax]"
   ]
  },
  {
   "cell_type": "code",
   "execution_count": 6,
   "metadata": {},
   "outputs": [],
   "source": [
    "@jit\n",
    "def simul(N, simul_time, dt, params, random_numbers, init_state=None):\n",
    "    \"\"\"\n",
    "    - simul_time: number of integration time steps\n",
    "    \"\"\"\n",
    "    # Unpack parameters\n",
    "    mu_x, mu_y, k_x, k_y, k_int, D_x, D_y, tau, eps = params\n",
    "    \n",
    "    # Unpack stochastic variables (needed for numba)\n",
    "    delta_x = random_numbers[0]\n",
    "    delta_y = random_numbers[1]\n",
    "    delta_f = random_numbers[2]\n",
    "\n",
    "    # Initialize state variables\n",
    "    x = np.zeros((N, simul_time))\n",
    "    y = np.zeros((N, simul_time))\n",
    "    f = np.zeros((N, simul_time))\n",
    "\n",
    "    # Initial conditions\n",
    "    if init_state is not None:\n",
    "        x[:, 0] = init_state[0]\n",
    "        y[:, 0] = init_state[1]\n",
    "        f[:, 0] = init_state[2]\n",
    "\n",
    "    # Time evolution (Langvine dynamics)\n",
    "    for t in range(simul_time-1):\n",
    "        dx = mu_x*(-k_x*x[:, t] + k_int*y[:, t])*dt + np.sqrt(2*mu_x*D_x*dt)*delta_x[:, t]\n",
    "        dy = mu_y*(-k_y*y[:, t] + k_int*x[:, t] + f[:, t])*dt + np.sqrt(2*mu_y*D_y*dt)*delta_y[:, t]\n",
    "        df = -(f[:, t]/tau)*dt + np.sqrt(2*eps**2*dt/tau)*delta_f[:, t]\n",
    "\n",
    "        x[:, t+1] = x[:, t] + dx\n",
    "        y[:, t+1] = y[:, t] + dy\n",
    "        f[:, t+1] = f[:, t] + df\n",
    "         \n",
    "    return x, y, f"
   ]
  },
  {
   "cell_type": "code",
   "execution_count": 7,
   "metadata": {},
   "outputs": [],
   "source": [
    "def run_simul(N, simul_time, dt):\n",
    "    \n",
    "    N, simul_time = int(N), int(simul_time)\n",
    "\n",
    "    #Define the parameters (drawn from the uniform prior)\n",
    "    # mu_x = np.random.uniform(0.1, 0.5, size=N)\n",
    "    # mu_y = np.random.uniform(0.1, 0.5, size=N)\n",
    "    # k_x = np.random.uniform(0.1, 0.5, size=N)\n",
    "    # k_y = np.random.uniform(0.1, 0.5, size=N)\n",
    "    # k_int = np.random.uniform(0.1, 0.5, size=N)\n",
    "    # D_x = np.random.uniform(0.1, 0.5, size=N)\n",
    "    # D_y = np.random.uniform(0.1, 0.5, size=N)\n",
    "    # tau = np.random.uniform(0.1, 0.5, size=N)\n",
    "    # eps = np.random.uniform(0.1, 0.5, size=N)\n",
    "\n",
    "\n",
    "    k_x = np.random.uniform(3e-3, 16e-3, size=N)\n",
    "    k_y = np.random.uniform(1.5e-2, 30e-2, size=N)\n",
    "    k_int = np.random.uniform(1e-3, 6e-3, size=N)\n",
    "    mu_x = np.random.uniform(1.5e4, 4e4, size=N)\n",
    "    mu_y = np.random.uniform(1e4, 140e4, size=N)\n",
    "    eps = np.random.uniform(0.5, 6, size=N)\n",
    "    tau = np.random.uniform(2e-2, 20e-2, size=N)\n",
    "    sigma = np.random.uniform(4, 260, size=N)\n",
    "    D_x = np.random.uniform(5.5, 15.5, size=N)\n",
    "    D_y = np.random.uniform(1, 530, size=N)\n",
    "\n",
    "\n",
    "    # Initial state\n",
    "    init_state = [np.random.normal(0, 1, size=N), \n",
    "                  np.random.normal(0, 1, size=N), \n",
    "                  np.random.normal(0, 1, size=N)]\n",
    "\n",
    "    # Generate random numbers for the stochastic variables\n",
    "    delta_x = np.random.normal(0, 1, size=(N, simul_time))\n",
    "    delta_y = np.random.normal(0, 1, size=(N, simul_time))\n",
    "    delta_f = np.random.normal(0, 1, size=(N, simul_time))\n",
    "    random_numbers = [delta_x, delta_y, delta_f]\n",
    "\n",
    "    # Run the N simulations in parallel\n",
    "    x, y, f = simul(N, simul_time=simul_time, dt=dt, \n",
    "                    params=[mu_x, mu_y, k_x, k_y, k_int, D_x, D_y, tau, eps], \n",
    "                    random_numbers=random_numbers, init_state=init_state)\n",
    "    \n",
    "    del mu_x, mu_y, k_x, k_y, k_int, D_x, D_y, tau, eps\n",
    "    del delta_x, delta_y, delta_f, random_numbers\n",
    "\n",
    "    return x, y, f"
   ]
  },
  {
   "cell_type": "code",
   "execution_count": 8,
   "metadata": {},
   "outputs": [],
   "source": [
    "# Easy call to the simulation to compile simul()\n",
    "# remember that N * dt should be more or less between 10 and 30\n",
    "x, y, f = run_simul(N=2, simul_time=1000, dt=0.01)"
   ]
  },
  {
   "cell_type": "code",
   "execution_count": 18,
   "metadata": {},
   "outputs": [
    {
     "name": "stdout",
     "output_type": "stream",
     "text": [
      "CPU times: user 324 ms, sys: 36.3 ms, total: 361 ms\n",
      "Wall time: 360 ms\n"
     ]
    }
   ],
   "source": [
    "%%time\n",
    "x, y, f = run_simul(N=1e1, simul_time=3e5, dt=1e-6)"
   ]
  },
  {
   "cell_type": "code",
   "execution_count": 10,
   "metadata": {},
   "outputs": [],
   "source": [
    "# normalize x\n",
    "def normalize_numpy(array):\n",
    "    return (array - np.min(array)) / (np.max(array) - np.min(array))\n",
    "\n",
    "x_normalized = normalize_numpy(x[0])"
   ]
  },
  {
   "cell_type": "code",
   "execution_count": 11,
   "metadata": {},
   "outputs": [
    {
     "name": "stdout",
     "output_type": "stream",
     "text": [
      "[0.01822025 0.01821514 0.01821001 0.01820487 0.01819972 0.0181946\n",
      " 0.01818949 0.01818436 0.01817925 0.01817417 0.01816908 0.01816399\n",
      " 0.0181589  0.01815382 0.01814875 0.01814368 0.01813861 0.01813357\n",
      " 0.01812856 0.01812359 0.01811864 0.01811368 0.01810873 0.01810378\n",
      " 0.01809885 0.01809394 0.01808904 0.01808416 0.0180793  0.01807445\n",
      " 0.01806964 0.01806485 0.01806009 0.01805534 0.0180506  0.01804583\n",
      " 0.01804106 0.01803629 0.01803155 0.01802678 0.01802201 0.01801722\n",
      " 0.01801243 0.01800762 0.01800281 0.01799799 0.01799317 0.01798835\n",
      " 0.01798354 0.01797873 0.01797394 0.01796913 0.01796434 0.01795958\n",
      " 0.01795481 0.01795005 0.0179453  0.01794053 0.01793578 0.01793103\n",
      " 0.01792628 0.01792149 0.0179167  0.01791191 0.01790709 0.0179023\n",
      " 0.01789756 0.01789278 0.01788804 0.01788327 0.0178785  0.01787374\n",
      " 0.01786898 0.0178642  0.01785941 0.01785462 0.01784982 0.01784501\n",
      " 0.0178402  0.01783536 0.01783051 0.01782566 0.01782081 0.01781598\n",
      " 0.01781113 0.01780626 0.01780139 0.01779654 0.01779169 0.01778681\n",
      " 0.01778194 0.01777705 0.01777214 0.01776723 0.01776231 0.01775736\n",
      " 0.01775242 0.01774748 0.01774256 0.01773768 0.0177328  0.01772794\n",
      " 0.01772305 0.01771816 0.01771329 0.0177084  0.0177035  0.0176986\n",
      " 0.01769373 0.01768891 0.01768411 0.01767931 0.01767453 0.0176697\n",
      " 0.01766487 0.01766004 0.01765524 0.01765046 0.01764569 0.01764091\n",
      " 0.01763611 0.01763131 0.01762651 0.01762172 0.01761691 0.01761212\n",
      " 0.01760735 0.01760259 0.01759784 0.01759304 0.01758826 0.01758348\n",
      " 0.0175787  0.01757395 0.01756916 0.01756442 0.01755968 0.01755497\n",
      " 0.01755024 0.01754552 0.0175408  0.01753606 0.01753129 0.01752655\n",
      " 0.01752178 0.01751702 0.01751225 0.01750749 0.01750272 0.01749799\n",
      " 0.01749325 0.01748853 0.01748381 0.01747909 0.01747434 0.01746956\n",
      " 0.01746479 0.01746004 0.0174553  0.01745055 0.0174458  0.01744108\n",
      " 0.01743639 0.01743173 0.01742705 0.0174224  0.01741776 0.01741315\n",
      " 0.01740852 0.0174039  0.01739931 0.0173947  0.01739011 0.01738553\n",
      " 0.01738095 0.01737637 0.01737179 0.01736721 0.0173626  0.017358\n",
      " 0.0173534  0.01734877 0.01734411 0.01733946 0.01733482 0.0173302\n",
      " 0.01732559 0.01732098 0.01731635 0.01731175 0.01730713 0.01730251\n",
      " 0.0172979  0.01729329 0.01728866 0.01728405 0.01727946 0.01727486\n",
      " 0.01727023 0.01726559 0.01726093 0.01725628 0.01725165 0.01724705\n",
      " 0.01724244 0.01723778 0.01723314 0.0172285  0.01722388 0.01721927\n",
      " 0.01721467 0.01721004 0.01720544 0.01720086 0.01719626 0.01719165\n",
      " 0.01718704 0.01718244 0.01717784 0.01717328 0.01716873 0.01716416\n",
      " 0.01715961 0.01715504 0.01715048 0.01714591 0.01714137 0.01713683\n",
      " 0.01713234 0.01712784 0.01712334 0.01711885 0.01711437 0.01710987\n",
      " 0.01710539 0.0171009  0.01709642 0.01709192 0.01708741 0.0170829\n",
      " 0.01707839 0.01707386 0.01706932 0.0170648  0.01706027 0.01705577\n",
      " 0.0170513  0.01704686 0.01704243 0.01703802 0.0170336  0.0170292\n",
      " 0.0170248  0.0170204  0.01701598 0.01701158 0.01700718 0.01700277\n",
      " 0.01699837 0.01699397 0.01698957 0.01698514 0.01698072 0.01697627\n",
      " 0.01697183 0.0169674  0.01696297 0.01695854 0.01695413 0.01694973\n",
      " 0.01694533 0.01694096 0.0169366  0.01693225 0.01692789 0.01692353\n",
      " 0.01691921 0.01691489 0.01691056 0.01690624 0.01690195 0.01689769\n",
      " 0.01689345 0.01688919 0.01688497 0.0168807  0.01687645 0.0168722\n",
      " 0.01686796 0.01686373 0.01685952 0.01685531 0.01685112 0.01684689\n",
      " 0.01684264 0.01683837 0.0168341  0.01682981 0.01682551 0.01682119\n",
      " 0.01681688 0.01681255 0.01680826 0.01680397 0.01679971 0.01679546\n",
      " 0.01679124 0.01678702 0.0167828  0.01677859 0.01677437 0.01677012\n",
      " 0.01676584 0.01676154 0.01675729 0.01675305 0.01674883 0.01674458\n",
      " 0.01674031 0.01673603 0.01673175 0.01672749 0.01672326 0.01671904\n",
      " 0.01671482 0.01671061 0.01670641 0.01670222 0.01669799 0.01669376\n",
      " 0.01668951 0.01668527 0.01668102 0.01667677 0.01667253 0.01666825\n",
      " 0.01666397 0.0166597  0.01665543 0.01665113 0.01664682 0.01664252\n",
      " 0.01663825 0.01663397 0.01662969 0.01662538 0.01662106 0.01661673\n",
      " 0.01661243 0.01660812 0.0166038  0.01659946 0.01659515 0.01659083\n",
      " 0.0165865  0.01658218 0.01657787 0.01657358 0.01656928 0.01656495\n",
      " 0.01656064 0.01655634 0.01655202 0.0165477  0.01654337 0.01653905\n",
      " 0.01653475 0.01653045 0.01652611 0.01652177 0.01651743 0.01651306\n",
      " 0.01650872 0.01650436 0.01650003 0.01649569 0.01649138 0.01648711\n",
      " 0.01648284 0.01647857 0.01647429 0.01646999 0.01646568 0.01646135\n",
      " 0.01645699 0.01645263 0.01644826 0.0164439  0.01643957 0.01643518\n",
      " 0.0164308  0.01642639 0.01642196 0.01641756 0.01641313 0.01640868\n",
      " 0.01640424 0.01639978 0.01639533 0.01639086 0.01638639 0.01638189\n",
      " 0.01637739 0.01637292 0.01636843 0.01636393 0.01635942 0.01635489\n",
      " 0.01635038 0.01634588 0.01634139 0.01633691 0.0163324  0.01632789\n",
      " 0.0163234  0.01631887 0.01631436 0.01630987 0.01630541 0.01630091\n",
      " 0.0162964  0.01629192 0.01628741 0.01628293 0.01627846 0.01627399\n",
      " 0.0162695  0.01626501 0.0162605  0.01625602 0.01625157 0.01624712\n",
      " 0.01624267 0.01623822 0.01623379 0.01622936 0.01622497 0.01622058\n",
      " 0.0162162  0.01621182 0.01620746 0.01620313 0.01619882 0.01619454\n",
      " 0.01619027 0.01618602 0.01618176 0.0161775  0.01617324 0.01616897\n",
      " 0.01616472 0.01616047 0.01615622 0.01615197 0.0161477  0.01614342\n",
      " 0.01613917 0.01613492 0.01613068 0.01612644 0.01612223 0.01611802\n",
      " 0.0161138  0.01610959 0.01610538 0.01610117 0.01609697 0.01609279\n",
      " 0.01608857 0.01608436 0.0160802  0.01607603 0.01607187 0.01606769\n",
      " 0.01606352 0.01605932 0.01605511 0.01605091 0.01604669 0.0160425\n",
      " 0.0160383  0.01603407 0.01602983 0.0160256  0.01602135 0.01601708\n",
      " 0.0160128  0.01600853 0.01600424 0.01599995 0.01599565 0.01599136\n",
      " 0.01598706 0.01598274 0.01597841 0.01597406 0.01596973 0.01596538\n",
      " 0.015961   0.01595664 0.01595226 0.01594791 0.01594356 0.01593919\n",
      " 0.01593484 0.01593048 0.01592613 0.01592176 0.01591739 0.01591302\n",
      " 0.01590864 0.01590426 0.0158999  0.01589556 0.01589121 0.01588688\n",
      " 0.01588254 0.0158782  0.01587388 0.01586955 0.01586524 0.01586093\n",
      " 0.0158566  0.01585225 0.0158479  0.01584353 0.01583919 0.01583483\n",
      " 0.01583048 0.01582613 0.01582178 0.01581743 0.01581304 0.01580864\n",
      " 0.01580426 0.01579989 0.01579551 0.01579115 0.0157868  0.01578246\n",
      " 0.01577812 0.01577378 0.01576948 0.01576522 0.01576096 0.01575669\n",
      " 0.01575242 0.01574814 0.01574383 0.01573952 0.01573519 0.01573083\n",
      " 0.01572647 0.01572211 0.01571776 0.01571339 0.01570904 0.01570466\n",
      " 0.01570027 0.01569587 0.01569148 0.0156871  0.01568276 0.01567841\n",
      " 0.01567405 0.0156697  0.01566533 0.01566097 0.01565659 0.01565218\n",
      " 0.01564776 0.01564331 0.01563886 0.0156344  0.01562991 0.01562541\n",
      " 0.0156209  0.01561641 0.01561194 0.01560745 0.01560298 0.01559851\n",
      " 0.01559402 0.01558953 0.01558502 0.01558052 0.01557603 0.01557151\n",
      " 0.015567   0.01556251 0.015558   0.01555347 0.01554894 0.01554441\n",
      " 0.0155399  0.01553539 0.01553087 0.01552636 0.01552189 0.0155174\n",
      " 0.01551296 0.01550851 0.01550408 0.01549966 0.01549523 0.01549081\n",
      " 0.0154864  0.01548197 0.01547757 0.01547315 0.01546872 0.01546431\n",
      " 0.01545989 0.01545549 0.01545109 0.01544666 0.01544224 0.01543782\n",
      " 0.01543337 0.01542896 0.01542455 0.01542013 0.01541571 0.0154113\n",
      " 0.01540691 0.01540251 0.01539812 0.01539372 0.01538932 0.01538492\n",
      " 0.01538048 0.015376   0.01537149 0.01536698 0.01536248 0.01535799\n",
      " 0.01535351 0.01534902 0.01534452 0.01534003 0.01533556 0.01533105\n",
      " 0.01532655 0.01532204 0.01531756 0.01531306 0.01530858 0.01530411\n",
      " 0.01529963 0.0152952  0.01529077 0.01528635 0.01528194 0.01527752\n",
      " 0.0152731  0.01526868 0.01526423 0.01525981 0.01525541 0.01525102\n",
      " 0.01524666 0.01524228 0.01523791 0.01523352 0.01522914 0.01522475\n",
      " 0.01522033 0.0152159  0.01521145 0.01520701 0.01520256 0.01519814\n",
      " 0.01519373 0.01518934 0.01518499 0.01518066 0.01517631 0.01517199\n",
      " 0.01516765 0.01516332 0.01515899 0.01515468 0.01515037 0.01514606\n",
      " 0.01514176 0.01513742 0.01513305 0.01512864 0.01512416 0.0151197\n",
      " 0.01511522 0.01511073 0.01510621 0.01510168 0.01509717 0.01509263\n",
      " 0.0150881  0.01508356 0.01507903 0.01507449 0.01506994 0.01506536\n",
      " 0.01506075 0.01505616 0.0150516  0.01504705 0.0150425  0.01503796\n",
      " 0.0150334  0.01502885 0.0150243  0.01501974 0.01501522 0.01501069\n",
      " 0.01500615 0.0150016  0.01499707 0.01499255 0.01498805 0.01498355\n",
      " 0.01497905 0.01497456 0.01497006 0.01496557 0.01496109 0.01495661\n",
      " 0.01495212 0.01494763 0.01494312 0.01493862 0.0149341  0.01492956\n",
      " 0.01492503 0.01492046 0.01491591 0.01491134 0.01490674 0.01490215\n",
      " 0.01489755 0.01489297 0.01488839 0.01488383 0.01487927 0.01487471\n",
      " 0.01487015 0.01486559 0.01486105 0.01485651 0.01485195 0.01484741\n",
      " 0.01484289 0.01483833 0.01483378 0.01482922 0.01482463 0.01482006\n",
      " 0.01481552 0.01481098 0.01480643 0.01480186 0.01479729 0.01479272\n",
      " 0.01478813 0.01478355 0.01477899 0.01477445 0.01476991 0.01476537\n",
      " 0.01476083 0.01475628 0.01475174 0.01474719 0.01474263 0.01473808\n",
      " 0.01473351 0.01472895 0.01472439 0.01471986 0.01471534 0.01471086\n",
      " 0.01470638 0.01470191 0.01469746 0.01469303 0.01468863 0.01468418\n",
      " 0.01467978 0.01467537 0.01467097 0.01466655 0.01466213 0.01465772\n",
      " 0.01465327 0.01464881 0.01464437 0.01463994 0.01463554 0.01463115\n",
      " 0.01462675 0.01462234 0.01461796 0.01461359 0.01460924 0.01460493\n",
      " 0.01460065 0.01459634 0.01459205 0.01458777 0.01458352 0.0145793\n",
      " 0.01457509 0.01457086 0.01456663 0.01456241 0.01455817 0.01455397\n",
      " 0.01454978 0.01454563 0.0145415  0.01453734 0.01453317 0.01452899\n",
      " 0.01452486 0.01452076 0.01451666 0.01451257 0.01450844 0.01450433\n",
      " 0.01450024 0.01449616 0.01449208 0.01448797 0.01448388 0.01447981\n",
      " 0.01447574 0.01447167 0.01446762 0.01446354 0.01445946 0.01445539\n",
      " 0.01445132 0.01444725 0.0144432  0.01443911 0.01443501 0.01443095\n",
      " 0.01442689 0.01442285 0.01441881 0.01441478 0.01441075 0.01440676\n",
      " 0.01440275 0.01439874 0.01439472 0.0143907  0.01438671 0.01438271\n",
      " 0.01437872 0.01437474 0.01437076 0.01436677 0.01436281 0.01435886\n",
      " 0.0143549  0.01435091 0.01434689 0.01434287 0.01433886 0.01433484\n",
      " 0.01433086 0.01432684 0.01432285 0.01431887 0.01431492 0.01431096\n",
      " 0.014307   0.01430304 0.01429906 0.0142951  0.01429113 0.01428717\n",
      " 0.0142832  0.01427926 0.01427532 0.0142714  0.01426747 0.01426355\n",
      " 0.01425962 0.01425568 0.01425175 0.0142478  0.01424383 0.01423988\n",
      " 0.01423591 0.01423193 0.01422798 0.01422405 0.01422014 0.01421623\n",
      " 0.0142123  0.01420839 0.01420448 0.01420055 0.0141966  0.01419264\n",
      " 0.01418867 0.0141847  0.01418071 0.01417673 0.01417273 0.01416875\n",
      " 0.01416473 0.01416071 0.01415667 0.01415263 0.01414859 0.01414456\n",
      " 0.01414055 0.01413648 0.0141324  0.0141283  0.01412421 0.01412013\n",
      " 0.01411607 0.014112   0.01410793 0.01410384 0.01409976 0.01409569\n",
      " 0.01409162 0.01408754 0.01408345 0.01407935 0.0140753  0.01407125\n",
      " 0.01406724 0.01406324 0.01405925 0.01405528 0.01405127 0.01404725\n",
      " 0.01404328 0.01403931 0.01403534 0.01403136 0.01402738 0.0140234\n",
      " 0.0140194  0.01401538 0.01401138 0.01400738 0.01400335 0.0139993\n",
      " 0.01399524 0.01399116 0.01398707 0.01398302 0.01397896 0.01397488\n",
      " 0.01397081 0.01396674 0.01396269 0.01395865 0.01395461 0.01395057\n",
      " 0.01394655 0.01394253 0.01393849 0.01393445 0.01393041 0.01392638\n",
      " 0.01392239 0.01391837 0.01391432 0.01391027 0.01390625 0.01390225\n",
      " 0.01389824 0.01389419 0.01389015 0.01388611 0.01388206 0.01387804\n",
      " 0.01387403 0.01387001 0.01386598 0.01386195 0.0138579  0.0138539\n",
      " 0.01384991 0.01384589 0.01384187 0.01383788 0.01383391 0.01382995\n",
      " 0.01382599 0.01382204 0.0138181  0.01381416]\n"
     ]
    }
   ],
   "source": [
    "print(corr(x_normalized, x_normalized, 1000, dt=1e-6))"
   ]
  },
  {
   "cell_type": "code",
   "execution_count": 19,
   "metadata": {},
   "outputs": [
    {
     "data": {
      "image/png": "[encoded data removed]",
      "text/plain": [
       "<Figure size 640x480 with 1 Axes>"
      ]
     },
     "metadata": {},
     "output_type": "display_data"
    }
   ],
   "source": [
    "for n in range(2):\n",
    "    plt.plot(x[n,:], label=f\"Trajectory {n}\")"
   ]
  },
  {
   "cell_type": "code",
   "execution_count": null,
   "metadata": {},
   "outputs": [],
   "source": [
    "%%time\n",
    "N, times = int(1e4), 10\n",
    "T = int(1e3)\n",
    "\n",
    "x = np.zeros((N*times, T))\n",
    "y = np.zeros((N*times, T))\n",
    "f = np.zeros((N*times, T))\n",
    "\n",
    "for t in tqdm(range(times)):\n",
    "    x_t, y_t, f_t = run_simul(N, T)\n",
    "\n",
    "    x[N*t:N*(t+1), :] = x_t\n",
    "    x[N*t:N*(t+1), :] = y_t\n",
    "    x[N*t:N*(t+1), :] = f_t\n",
    "\n",
    "    #time.sleep(1)"
   ]
  },
  {
   "cell_type": "code",
   "execution_count": null,
   "metadata": {},
   "outputs": [],
   "source": []
  },
  {
   "cell_type": "markdown",
   "metadata": {},
   "source": [
    "### GPU with torch"
   ]
  },
  {
   "cell_type": "markdown",
   "metadata": {},
   "source": [
    "NOT UPDATED!!!"
   ]
  },
  {
   "cell_type": "code",
   "execution_count": null,
   "metadata": {},
   "outputs": [],
   "source": [
    "def simul_torch(N, T, dt, params, random_numbers, init_state=None, device='cpu'):\n",
    "    # Unpack parameters\n",
    "    mu_x, mu_y, k_x, k_y, k_int, D_x, D_y, tau, eps = params\n",
    "    \n",
    "    # Unpack stochastic variables\n",
    "    delta_x, delta_y, delta_f = random_numbers\n",
    "\n",
    "    # Initialize state variables as PyTorch tensors\n",
    "    x = torch.zeros((N, T), dtype=torch.float64, device=device)\n",
    "    y = torch.zeros((N, T), dtype=torch.float64, device=device)\n",
    "    f = torch.zeros((N, T), dtype=torch.float64, device=device)\n",
    "\n",
    "    # Initial conditions\n",
    "    if init_state is not None:\n",
    "        x[:, 0] = init_state[0].clone().detach().to(torch.float64)\n",
    "        y[:, 0] = init_state[1].clone().detach().to(torch.float64)\n",
    "        f[:, 0] = init_state[2].clone().detach().to(torch.float64)\n",
    "\n",
    "    # Time evolution (Langvine dynamics)\n",
    "    for t in range(T-1):\n",
    "        dx = mu_x*(-k_x*x[:, t] + k_int*y[:, t])*dt + torch.sqrt(2*mu_x*D_x*dt)*delta_x[:, t]\n",
    "        dy = mu_y*(-k_y*y[:, t] + k_int*x[:, t] + f[:, t])*dt + torch.sqrt(2*mu_y*D_y*dt)*delta_y[:, t]\n",
    "        df = -(f[:, t]/tau)*dt + torch.sqrt(2*eps**2*dt/tau)*delta_f[:, t]\n",
    "\n",
    "        x[:, t+1] = x[:, t] + dx\n",
    "        y[:, t+1] = y[:, t] + dy\n",
    "        f[:, t+1] = f[:, t] + df\n",
    "        \n",
    "    return x, y, f\n"
   ]
  },
  {
   "cell_type": "code",
   "execution_count": null,
   "metadata": {},
   "outputs": [],
   "source": [
    "def run_simul_torch(N, T):\n",
    "    N, T = int(N), int(T)\n",
    "\n",
    "    # Define the parameters (drawn from the uniform prior)\n",
    "    mu_x = torch.rand(N) * 0.4 + 0.1\n",
    "    mu_y = torch.rand(N) * 0.4 + 0.1\n",
    "    k_x = torch.rand(N) * 0.4 + 0.1\n",
    "    k_y = torch.rand(N) * 0.4 + 0.1\n",
    "    k_int = torch.rand(N) * 0.4 + 0.1\n",
    "    D_x = torch.rand(N) * 0.4 + 0.1\n",
    "    D_y = torch.rand(N) * 0.4 + 0.1\n",
    "    tau = torch.rand(N) * 0.4 + 0.1\n",
    "    eps = torch.rand(N) * 0.4 + 0.1\n",
    "\n",
    "    # Initial state\n",
    "    init_state = [\n",
    "        torch.normal(-20, 20, size=(N,)).clone().detach(),\n",
    "        torch.normal(-20, 20, size=(N,)).clone().detach(),\n",
    "        torch.normal(-0.5, 0.5, size=(N,)).clone().detach()\n",
    "    ]\n",
    "\n",
    "    # Generate random numbers for the stochastic variables\n",
    "    delta_x = torch.normal(0, 1, size=(N, T))\n",
    "    delta_y = torch.normal(0, 1, size=(N, T))\n",
    "    delta_f = torch.normal(0, 1, size=(N, T))\n",
    "    random_numbers = [delta_x, delta_y, delta_f]\n",
    "\n",
    "    # Run the N simulations in parallel\n",
    "    x, y, f = simul_torch(N, T, 0.01, [mu_x, mu_y, k_x, k_y, k_int, D_x, D_y, tau, eps], \n",
    "                          random_numbers, init_state, device='cpu')\n",
    "\n",
    "    return x, y, f\n"
   ]
  },
  {
   "cell_type": "code",
   "execution_count": null,
   "metadata": {},
   "outputs": [],
   "source": [
    "# Trying the same with torch\n",
    "device = torch.device('cuda' if torch.cuda.is_available() else 'cpu')\n",
    "print(\"Using '\" + str('cuda' if torch.cuda.is_available() else 'cpu') + \"' as device\")\n",
    "x, y, f = run_simul_torch(N=2, T=100)"
   ]
  },
  {
   "cell_type": "markdown",
   "metadata": {},
   "source": [
    "# Complexity analysis"
   ]
  },
  {
   "cell_type": "code",
   "execution_count": 25,
   "metadata": {},
   "outputs": [],
   "source": [
    "from SuperSonic import Simulator_noGPU\n",
    "\n",
    "dt = 0.1\n",
    "DeltaT = 1\n",
    "TotalT = 100\n",
    "n_sim = 100\n",
    "theta = [np.ones((n_sim,1)), np.ones((n_sim,1)), np.ones((n_sim,1)), np.ones((n_sim,1)), np.ones((n_sim,1)),np.ones((n_sim,1)), np.ones((n_sim,1)), np.ones((n_sim,1)), np.ones((n_sim,1))]"
   ]
  },
  {
   "cell_type": "code",
   "execution_count": 26,
   "metadata": {},
   "outputs": [
    {
     "name": "stdout",
     "output_type": "stream",
     "text": [
      "CPU times: user 11.6 ms, sys: 0 ns, total: 11.6 ms\n",
      "Wall time: 11.4 ms\n"
     ]
    }
   ],
   "source": [
    "%%time\n",
    "x_trace, state = Simulator_noGPU(dt, DeltaT, TotalT, n_sim, theta)"
   ]
  },
  {
   "cell_type": "markdown",
   "metadata": {},
   "source": [
    "### Single run complexity"
   ]
  },
  {
   "cell_type": "code",
   "execution_count": 27,
   "metadata": {},
   "outputs": [],
   "source": [
    "n = np.logspace(2, 8, num=5, base=10, dtype=int)\n",
    "times_n_sim = []\n",
    "times_totalT = []"
   ]
  },
  {
   "cell_type": "code",
   "execution_count": 28,
   "metadata": {},
   "outputs": [
    {
     "name": "stdout",
     "output_type": "stream",
     "text": [
      "100 0.013124942779541016\n",
      "3162 0.31635236740112305\n"
     ]
    },
    {
     "ename": "SystemError",
     "evalue": "CPUDispatcher(<function Simulator_noGPU at 0x79a0bf672950>) returned a result with an exception set",
     "output_type": "error",
     "traceback": [
      "\u001b[0;31m---------------------------------------------------------------------------\u001b[0m",
      "\u001b[0;31mKeyboardInterrupt\u001b[0m                         Traceback (most recent call last)",
      "File \u001b[0;32m~/.local/lib/python3.10/site-packages/numba/core/serialize.py:30\u001b[0m, in \u001b[0;36m_numba_unpickle\u001b[0;34m(address, bytedata, hashed)\u001b[0m\n\u001b[1;32m     27\u001b[0m _unpickled_memo \u001b[38;5;241m=\u001b[39m {}\n\u001b[0;32m---> 30\u001b[0m \u001b[38;5;28;01mdef\u001b[39;00m \u001b[38;5;21m_numba_unpickle\u001b[39m(address, bytedata, hashed):\n\u001b[1;32m     31\u001b[0m \u001b[38;5;250m    \u001b[39m\u001b[38;5;124;03m\"\"\"Used by `numba_unpickle` from _helperlib.c\u001b[39;00m\n\u001b[1;32m     32\u001b[0m \n\u001b[1;32m     33\u001b[0m \u001b[38;5;124;03m    Parameters\u001b[39;00m\n\u001b[0;32m   (...)\u001b[0m\n\u001b[1;32m     42\u001b[0m \u001b[38;5;124;03m        unpickled object\u001b[39;00m\n\u001b[1;32m     43\u001b[0m \u001b[38;5;124;03m    \"\"\"\u001b[39;00m\n",
      "\u001b[0;31mKeyboardInterrupt\u001b[0m: ",
      "\nThe above exception was the direct cause of the following exception:\n",
      "\u001b[0;31mSystemError\u001b[0m                               Traceback (most recent call last)",
      "\u001b[0;31mSystemError\u001b[0m: _PyEval_EvalFrameDefault returned a result with an exception set",
      "\nThe above exception was the direct cause of the following exception:\n",
      "\u001b[0;31mSystemError\u001b[0m                               Traceback (most recent call last)",
      "\u001b[0;31mSystemError\u001b[0m: _PyEval_EvalFrameDefault returned a result with an exception set",
      "\nThe above exception was the direct cause of the following exception:\n",
      "\u001b[0;31mSystemError\u001b[0m                               Traceback (most recent call last)",
      "\u001b[0;31mSystemError\u001b[0m: _PyEval_EvalFrameDefault returned a result with an exception set",
      "\nThe above exception was the direct cause of the following exception:\n",
      "\u001b[0;31mSystemError\u001b[0m                               Traceback (most recent call last)",
      "Cell \u001b[0;32mIn[28], line 7\u001b[0m\n\u001b[1;32m      4\u001b[0m theta \u001b[38;5;241m=\u001b[39m [np\u001b[38;5;241m.\u001b[39mones((n_sim,\u001b[38;5;241m1\u001b[39m)), np\u001b[38;5;241m.\u001b[39mones((n_sim,\u001b[38;5;241m1\u001b[39m)), np\u001b[38;5;241m.\u001b[39mones((n_sim,\u001b[38;5;241m1\u001b[39m)), np\u001b[38;5;241m.\u001b[39mones((n_sim,\u001b[38;5;241m1\u001b[39m)), np\u001b[38;5;241m.\u001b[39mones((n_sim,\u001b[38;5;241m1\u001b[39m)),np\u001b[38;5;241m.\u001b[39mones((n_sim,\u001b[38;5;241m1\u001b[39m)), np\u001b[38;5;241m.\u001b[39mones((n_sim,\u001b[38;5;241m1\u001b[39m)), np\u001b[38;5;241m.\u001b[39mones((n_sim,\u001b[38;5;241m1\u001b[39m)), np\u001b[38;5;241m.\u001b[39mones((n_sim,\u001b[38;5;241m1\u001b[39m))]\n\u001b[1;32m      6\u001b[0m start \u001b[38;5;241m=\u001b[39m time\u001b[38;5;241m.\u001b[39mtime()\n\u001b[0;32m----> 7\u001b[0m x_trace, state \u001b[38;5;241m=\u001b[39m \u001b[43mSimulator_noGPU\u001b[49m\u001b[43m(\u001b[49m\u001b[43mdt\u001b[49m\u001b[43m,\u001b[49m\u001b[43m \u001b[49m\u001b[43mDeltaT\u001b[49m\u001b[43m,\u001b[49m\u001b[43m \u001b[49m\u001b[43mTotalT\u001b[49m\u001b[43m,\u001b[49m\u001b[43m \u001b[49m\u001b[43mn_sim\u001b[49m\u001b[43m,\u001b[49m\u001b[43m \u001b[49m\u001b[43mtheta\u001b[49m\u001b[43m)\u001b[49m\n\u001b[1;32m      8\u001b[0m stop \u001b[38;5;241m=\u001b[39m time\u001b[38;5;241m.\u001b[39mtime()\n\u001b[1;32m     10\u001b[0m \u001b[38;5;28mprint\u001b[39m(i, stop \u001b[38;5;241m-\u001b[39m start)\n",
      "\u001b[0;31mSystemError\u001b[0m: CPUDispatcher(<function Simulator_noGPU at 0x79a0bf672950>) returned a result with an exception set"
     ]
    }
   ],
   "source": [
    "# Complexity on n_simul\n",
    "for i in n:\n",
    "    n_sim = i\n",
    "    theta = [np.ones((n_sim,1)), np.ones((n_sim,1)), np.ones((n_sim,1)), np.ones((n_sim,1)), np.ones((n_sim,1)),np.ones((n_sim,1)), np.ones((n_sim,1)), np.ones((n_sim,1)), np.ones((n_sim,1))]\n",
    "\n",
    "    start = time.time()\n",
    "    x_trace, state = Simulator_noGPU(dt, DeltaT, TotalT, n_sim, theta)\n",
    "    stop = time.time()\n",
    "\n",
    "    print(i, stop - start)\n",
    "    times_n_sim.append(stop - start)"
   ]
  },
  {
   "cell_type": "code",
   "execution_count": null,
   "metadata": {},
   "outputs": [],
   "source": [
    "# Complexity on totalT\n",
    "n_sim = 100\n",
    "theta = [np.ones((n_sim,1)), np.ones((n_sim,1)), np.ones((n_sim,1)), np.ones((n_sim,1)), np.ones((n_sim,1)),np.ones((n_sim,1)), np.ones((n_sim,1)), np.ones((n_sim,1)), np.ones((n_sim,1))]\n",
    "\n",
    "for i in n:\n",
    "    totalT = i\n",
    "    \n",
    "    start = time.time()\n",
    "    x_trace, state = Simulator_noGPU(dt, DeltaT, TotalT, n_sim, theta)\n",
    "    stop = time.time()\n",
    "\n",
    "    print(i, stop - start)\n",
    "    times_n_sim.append(stop - start)"
   ]
  },
  {
   "cell_type": "markdown",
   "metadata": {},
   "source": [
    "### Multiple run complexity"
   ]
  },
  {
   "cell_type": "code",
   "execution_count": 10,
   "metadata": {},
   "outputs": [
    {
     "name": "stdout",
     "output_type": "stream",
     "text": [
      "0 0.06430721282958984 0.07457470893859863\n",
      "1 0.6431775093078613 0.7565479278564453\n",
      "2 6.325743198394775 6.1464457511901855\n",
      "3 66.20423531532288 65.68721103668213\n"
     ]
    }
   ],
   "source": [
    "t_range = [100, 1000, 10000, 100000, 1000000]\n",
    "rep = 5\n",
    "times_dir = []\n",
    "times_markov = []\n",
    "\n",
    "for t in range(len(t_range)):\n",
    "    TotalT = t_range[t]\n",
    "    x_trace_total = np.zeros((n_sim, TotalT*rep))\n",
    "\n",
    "    start = time.time()\n",
    "    for c in range(rep):\n",
    "      x_trace, state = Simulator_noGPU(dt, DeltaT, TotalT, n_sim, theta, i_state=state)\n",
    "      x_trace_total[:, c*TotalT:(c+1)*TotalT] = x_trace\n",
    "    stop = time.time()\n",
    "    times_markov.append(stop - start)\n",
    "\n",
    "    start = time.time()\n",
    "    x_trace, state = Simulator_noGPU(dt, DeltaT, TotalT*rep, n_sim, theta, i_state=state)\n",
    "    stop = time.time()\n",
    "    times_dir.append(stop - start)\n",
    "\n",
    "    print(t, times_dir[t], times_markov[t])"
   ]
  },
  {
   "cell_type": "code",
   "execution_count": 29,
   "metadata": {},
   "outputs": [
    {
     "ename": "NameError",
     "evalue": "name 't_range' is not defined",
     "output_type": "error",
     "traceback": [
      "\u001b[0;31m---------------------------------------------------------------------------\u001b[0m",
      "\u001b[0;31mNameError\u001b[0m                                 Traceback (most recent call last)",
      "Cell \u001b[0;32mIn[29], line 5\u001b[0m\n\u001b[1;32m      3\u001b[0m plt\u001b[38;5;241m.\u001b[39msubplot(\u001b[38;5;241m121\u001b[39m)\n\u001b[1;32m      4\u001b[0m plt\u001b[38;5;241m.\u001b[39mtitle(\u001b[38;5;124m\"\u001b[39m\u001b[38;5;124mIncreasing TotalT\u001b[39m\u001b[38;5;124m\"\u001b[39m)\n\u001b[0;32m----> 5\u001b[0m plt\u001b[38;5;241m.\u001b[39mscatter(\u001b[43mt_range\u001b[49m, times_dir, label\u001b[38;5;241m=\u001b[39m\u001b[38;5;124m'\u001b[39m\u001b[38;5;124mDirect\u001b[39m\u001b[38;5;124m'\u001b[39m)\n\u001b[1;32m      6\u001b[0m plt\u001b[38;5;241m.\u001b[39mscatter(t_range, times_markov, label\u001b[38;5;241m=\u001b[39m\u001b[38;5;124m'\u001b[39m\u001b[38;5;124mMarkov\u001b[39m\u001b[38;5;124m'\u001b[39m)\n\u001b[1;32m      7\u001b[0m plt\u001b[38;5;241m.\u001b[39mxlabel(\u001b[38;5;124m'\u001b[39m\u001b[38;5;124mTotalT\u001b[39m\u001b[38;5;124m'\u001b[39m)\n",
      "\u001b[0;31mNameError\u001b[0m: name 't_range' is not defined"
     ]
    },
    {
     "data": {
      "image/png": "[encoded data removed]",
      "text/plain": [
       "<Figure size 1000x500 with 1 Axes>"
      ]
     },
     "metadata": {},
     "output_type": "display_data"
    }
   ],
   "source": [
    "plt.figure(figsize=(10, 5))\n",
    "\n",
    "plt.subplot(121)\n",
    "plt.title(\"Increasing TotalT\")\n",
    "plt.scatter(t_range, times_dir, label='Direct')\n",
    "plt.scatter(t_range, times_markov, label='Markov')\n",
    "plt.xlabel('TotalT')\n",
    "plt.ylabel('Time (s)')\n",
    "plt.legend()\n",
    "plt.xscale('log')\n",
    "plt.yscale('log')\n",
    "\n",
    "plt.subplot(122)\n",
    "plt.title(\"Increasing complexity)\")\n",
    "plt.scatter(n, times_n_sim, label=\"n_sim\")\n",
    "plt.scatter(n, times_totalT, label=\"TotalT\")\n",
    "plt.xlabel('complexity')\n",
    "plt.ylabel('Time (s)')\n",
    "plt.legend()\n",
    "plt.xscale('log')\n",
    "plt.yscale('log')\n",
    "\n",
    "plt.show();"
   ]
  },
  {
   "cell_type": "code",
   "execution_count": null,
   "metadata": {},
   "outputs": [],
   "source": []
  }
 ],
 "metadata": {
  "kernelspec": {
   "display_name": "Python 3",
   "language": "python",
   "name": "python3"
  },
  "language_info": {
   "codemirror_mode": {
    "name": "ipython",
    "version": 3
   },
   "file_extension": ".py",
   "mimetype": "text/x-python",
   "name": "python",
   "nbconvert_exporter": "python",
   "pygments_lexer": "ipython3",
   "version": "3.10.12"
  }
 },
 "nbformat": 4,
 "nbformat_minor": 2
}
