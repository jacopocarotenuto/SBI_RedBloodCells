{
 "cells": [
  {
   "cell_type": "markdown",
   "metadata": {},
   "source": [
    "Ideas for performance improvement:\n",
    "- Static Tipying: NO!\n",
    "- Numba: NoPyton, Parallelize, TypeSpecification, Nogil?\n",
    "- For Random Numbers two function (Cuda vs NoCuda)"
   ]
  },
  {
   "cell_type": "markdown",
   "metadata": {},
   "source": [
    "# PRODUCTION READY FUNCTION => Simulator_noGPU"
   ]
  },
  {
   "cell_type": "code",
   "execution_count": 210,
   "metadata": {},
   "outputs": [],
   "source": [
    "# Load the minimum required library to run the functions\n",
    "from numba import jit\n",
    "from numpy import zeros, arange, uint8, int32, float32, sqrt, uint32\n",
    "from numpy.random import randn\n",
    "from timeit import timeit\n",
    "import time\n",
    "import matplotlib.pyplot as plt\n",
    "import numpy as np\n",
    "from numba import cuda\n",
    "\n",
    "from numba.cuda.random import create_xoroshiro128p_states, xoroshiro128p_uniform_float32, xoroshiro128p_normal_float32"
   ]
  },
  {
   "cell_type": "code",
   "execution_count": 211,
   "metadata": {},
   "outputs": [],
   "source": [
    "@jit(nopython = True)\n",
    "def Simulator_noGPU(dt, DeltaT, TotalT, n_sim, theta, i_state = None):\n",
    "    time_steps_amount = uint32(TotalT/dt) # Number of steps\n",
    "    sampled_point_amount = uint32(TotalT/DeltaT) # Number of sampled points\n",
    "    sampling_delta_time_steps = uint32(DeltaT/dt) # Number of steps between samples\n",
    "    \n",
    "    # Unpack Parameters\n",
    "\n",
    "    mu_x, mu_y, k_x, k_y, k_int, tau, eps, D_x, D_y = theta\n",
    "    \n",
    "    # Handle initial state\n",
    "    if i_state is None:\n",
    "        x = zeros((n_sim,1), dtype = float32)\n",
    "        y = zeros((n_sim,1), dtype = float32)\n",
    "        f = zeros((n_sim,1), dtype = float32)\n",
    "    else:\n",
    "        if x.shape == (n_sim,1) or y.shape == (n_sim,1) or f.shape == (n_sim,1):\n",
    "            raise Exception(\"Initial state has wrong shape, each should be (n_sim,1)\")\n",
    "        x, y, f = i_state\n",
    "    \n",
    "    # Initialize x_trace array\n",
    "    \n",
    "    x_trace = zeros((n_sim, sampled_point_amount), dtype = float32)\n",
    "    \n",
    "    sampling_counter = uint8(1)\n",
    "    # POSSIBLE OPTIM: You could overwrite the last used row of the trace to save memory and not create a proxy array\n",
    "    \n",
    "    # TRADEOFF: Memory vs Speed. We can generate the numbers here, or before. Maybe the time is the same... Should test\n",
    "    \n",
    "    # CHECK: Benchmark the version with the explicit dx, dy, df and the one with the x, y, f arrays with the calculation in the assigment\n",
    "    \n",
    "    for t in arange(time_steps_amount - 1):\n",
    "        x[:,] = x[:,] + mu_x*(-k_x*x[:,] + k_int*y[:,])*dt                +          sqrt(2*mu_x*D_x*dt)     *randn(n_sim,1)\n",
    "        y[:,] = y[:,] + mu_y*(-k_y*y[:,] + k_int*x[:,] + f[:,])*dt        +          sqrt(2*mu_y*D_y*dt)     *randn(n_sim,1)\n",
    "        f[:,] = f[:,] + -(f[:,]/tau)*dt                                   +          sqrt(2*eps**2*dt/tau)   *randn(n_sim,1)\n",
    "\n",
    "        sampling_counter = sampling_counter + 1\n",
    "        if sampling_counter == sampling_delta_time_steps:\n",
    "            x_trace[:, int(t/sampling_delta_time_steps)] = x[:,0]\n",
    "            sampling_counter = uint8(1)\n",
    "    \n",
    "    return x_trace, (x, y, f)"
   ]
  },
  {
   "cell_type": "code",
   "execution_count": 212,
   "metadata": {},
   "outputs": [],
   "source": [
    "@cuda.jit(nopython = True)\n",
    "def Simulator_GPU(dt, DeltaT, TotalT, n_sim, theta, rng_states, i_state = None):\n",
    "    thread_id = cuda.grid(1)\n",
    "    time_steps_amount = uint32(TotalT/dt) # Number of steps\n",
    "    sampled_point_amount = uint32(TotalT/DeltaT) # Number of sampled points\n",
    "    sampling_delta_time_steps = uint32(DeltaT/dt) # Number of steps between samples\n",
    "    \n",
    "    # Unpack Parameters\n",
    "\n",
    "    mu_x, mu_y, k_x, k_y, k_int, tau, eps, D_x, D_y = theta\n",
    "    \n",
    "    # Handle initial state\n",
    "    if i_state is None:\n",
    "        x = zeros((n_sim,1), dtype = float32)\n",
    "        y = zeros((n_sim,1), dtype = float32)\n",
    "        f = zeros((n_sim,1), dtype = float32)\n",
    "    else:\n",
    "        if x.shape == (n_sim,1) or y.shape == (n_sim,1) or f.shape == (n_sim,1):\n",
    "            raise Exception(\"Initial state has wrong shape, each should be (n_sim,1)\")\n",
    "        x, y, f = i_state\n",
    "    \n",
    "    # Initialize x_trace array\n",
    "    x_trace = zeros((n_sim, sampled_point_amount), dtype = float32)\n",
    "    \n",
    "    sampling_counter = uint8(1)\n",
    "    # POSSIBLE OPTIM: You could overwrite the last used row of the trace to save memory and not create a proxy array\n",
    "    \n",
    "    # TRADEOFF: Memory vs Speed. We can generate the numbers here, or before. Maybe the time is the same... Should test\n",
    "    \n",
    "    # CHECK: Benchmark the version with the explicit dx, dy, df and the one with the x, y, f arrays with the calculation in the assigment\n",
    "    \n",
    "    \n",
    "    for t in arange(time_steps_amount - 1):\n",
    "        for i in range(n_sim):\n",
    "            x[i,] = x[i,] + mu_x*(-k_x*x[i,] + k_int*y[i,])*dt                +          sqrt(2*mu_x*D_x*dt)     *xoroshiro128p_normal_float32(rng_states, thread_id)\n",
    "            y[i,] = y[i,] + mu_y*(-k_y*y[i,] + k_int*x[i,] + f[:,])*dt        +          sqrt(2*mu_y*D_y*dt)     *xoroshiro128p_normal_float32(rng_states, thread_id)\n",
    "            f[i,] = f[i,] + -(f[i,]/tau)*dt                                   +          sqrt(2*eps**2*dt/tau)   *xoroshiro128p_normal_float32(rng_states, thread_id)\n",
    "        sampling_counter = sampling_counter + 1\n",
    "        if sampling_counter == sampling_delta_time_steps:\n",
    "            x_trace[:, int(t/sampling_delta_time_steps)] = x[:,0]\n",
    "            sampling_counter = uint8(1)\n",
    "    \n",
    "    \n",
    "    return x_trace, (x, y, f)"
   ]
  },
  {
   "cell_type": "code",
   "execution_count": 213,
   "metadata": {},
   "outputs": [],
   "source": [
    "@jit(nopython = True)\n",
    "def Simulator_noGPU_preallocating(dt, DeltaT, TotalT, n_sim, theta, x_trace, i_state = None):\n",
    "    time_steps_amount = uint32(TotalT/dt) # Number of steps\n",
    "    sampled_point_amount = uint32(TotalT/DeltaT) # Number of sampled points\n",
    "    sampling_delta_time_steps = uint32(DeltaT/dt) # Number of steps between samples\n",
    "    \n",
    "    # Unpack Parameters\n",
    "\n",
    "    mu_x, mu_y, k_x, k_y, k_int, tau, eps, D_x, D_y = theta\n",
    "    \n",
    "    # Handle initial state\n",
    "    if i_state is None:\n",
    "        x = zeros((n_sim,1), dtype = float32)\n",
    "        y = zeros((n_sim,1), dtype = float32)\n",
    "        f = zeros((n_sim,1), dtype = float32)\n",
    "    else:\n",
    "        if x.shape == (n_sim,1) or y.shape == (n_sim,1) or f.shape == (n_sim,1):\n",
    "            raise Exception(\"Initial state has wrong shape, each should be (n_sim,1)\")\n",
    "        x, y, f = i_state\n",
    "    \n",
    "    # Initialize x_trace array\n",
    "    if x_trace is None:\n",
    "        x_trace = zeros((n_sim, sampled_point_amount), dtype = float32)\n",
    "    else:\n",
    "        if x_trace.shape != (n_sim, sampled_point_amount):\n",
    "            raise Exception(\"x_trace has wrong shape, should be (n_sim, sampled_point_amount)\")\n",
    "    \n",
    "    sampling_counter = uint8(1)\n",
    "    # POSSIBLE OPTIM: You could overwrite the last used row of the trace to save memory and not create a proxy array\n",
    "    \n",
    "    # TRADEOFF: Memory vs Speed. We can generate the numbers here, or before. Maybe the time is the same... Should test\n",
    "    \n",
    "    # CHECK: Benchmark the version with the explicit dx, dy, df and the one with the x, y, f arrays with the calculation in the assigment\n",
    "    \n",
    "    for t in arange(time_steps_amount - 1):\n",
    "        x[:,] = x[:,] + mu_x*(-k_x*x[:,] + k_int*y[:,])*dt                +          sqrt(2*mu_x*D_x*dt)     *randn(n_sim,1)\n",
    "        y[:,] = y[:,] + mu_y*(-k_y*y[:,] + k_int*x[:,] + f[:,])*dt        +          sqrt(2*mu_y*D_y*dt)     *randn(n_sim,1)\n",
    "        f[:,] = f[:,] + -(f[:,]/tau)*dt                                   +          sqrt(2*eps**2*dt/tau)   *randn(n_sim,1)\n",
    "\n",
    "        sampling_counter = sampling_counter + 1\n",
    "        if sampling_counter == sampling_delta_time_steps:\n",
    "            x_trace[:, int(t/sampling_delta_time_steps)] = x[:,0]\n",
    "            sampling_counter = uint8(1)\n",
    "\n",
    "    return (x, y, f)"
   ]
  },
  {
   "cell_type": "code",
   "execution_count": 214,
   "metadata": {},
   "outputs": [],
   "source": [
    "dt = 1\n",
    "DeltaT = 1\n",
    "TotalT = 1000\n",
    "n_sim = 1000\n",
    "theta = [1, 1, 1, 1, 1, 1, 1, 1, 1]\n",
    "x_trace = zeros((n_sim, uint32(TotalT/DeltaT)), dtype = float32)"
   ]
  },
  {
   "cell_type": "code",
   "execution_count": 215,
   "metadata": {},
   "outputs": [
    {
     "name": "stdout",
     "output_type": "stream",
     "text": [
      "CPU times: user 511 ms, sys: 12 ms, total: 523 ms\n",
      "Wall time: 524 ms\n"
     ]
    }
   ],
   "source": [
    "%%time\n",
    "x_trace, state = Simulator_noGPU(dt, DeltaT, TotalT, n_sim, theta)"
   ]
  },
  {
   "cell_type": "code",
   "execution_count": 216,
   "metadata": {},
   "outputs": [
    {
     "name": "stdout",
     "output_type": "stream",
     "text": [
      "CPU times: user 669 ms, sys: 12.5 ms, total: 682 ms\n",
      "Wall time: 684 ms\n"
     ]
    }
   ],
   "source": [
    "%%time\n",
    "state = Simulator_noGPU_preallocating(dt, DeltaT, TotalT, n_sim, theta, x_trace)"
   ]
  },
  {
   "cell_type": "markdown",
   "metadata": {},
   "source": [
    "# Preallocating The Output seems unnecessary !"
   ]
  },
  {
   "cell_type": "code",
   "execution_count": 220,
   "metadata": {},
   "outputs": [
    {
     "ename": "CudaSupportError",
     "evalue": "Error at driver init: \n\nCUDA driver library cannot be found.\nIf you are sure that a CUDA driver is installed,\ntry setting environment variable NUMBA_CUDA_DRIVER\nwith the file path of the CUDA driver shared library.\n:",
     "output_type": "error",
     "traceback": [
      "\u001b[0;31m---------------------------------------------------------------------------\u001b[0m",
      "\u001b[0;31mCudaSupportError\u001b[0m                          Traceback (most recent call last)",
      "File \u001b[0;32m<timed exec>:3\u001b[0m\n",
      "File \u001b[0;32m~/miniconda3/envs/CompLab/lib/python3.9/site-packages/numba/cuda/random.py:290\u001b[0m, in \u001b[0;36mcreate_xoroshiro128p_states\u001b[0;34m(n, seed, subsequence_start, stream)\u001b[0m\n\u001b[1;32m    269\u001b[0m \u001b[38;5;28;01mdef\u001b[39;00m \u001b[38;5;21mcreate_xoroshiro128p_states\u001b[39m(n, seed, subsequence_start\u001b[38;5;241m=\u001b[39m\u001b[38;5;241m0\u001b[39m, stream\u001b[38;5;241m=\u001b[39m\u001b[38;5;241m0\u001b[39m):\n\u001b[1;32m    270\u001b[0m \u001b[38;5;250m    \u001b[39m\u001b[38;5;124;03m'''Returns a new device array initialized for n random number generators.\u001b[39;00m\n\u001b[1;32m    271\u001b[0m \n\u001b[1;32m    272\u001b[0m \u001b[38;5;124;03m    This initializes the RNG states so that each state in the array corresponds\u001b[39;00m\n\u001b[0;32m   (...)\u001b[0m\n\u001b[1;32m    288\u001b[0m \u001b[38;5;124;03m    :param stream: stream to run initialization kernel on\u001b[39;00m\n\u001b[1;32m    289\u001b[0m \u001b[38;5;124;03m    '''\u001b[39;00m\n\u001b[0;32m--> 290\u001b[0m     states \u001b[38;5;241m=\u001b[39m \u001b[43mcuda\u001b[49m\u001b[38;5;241;43m.\u001b[39;49m\u001b[43mdevice_array\u001b[49m\u001b[43m(\u001b[49m\u001b[43mn\u001b[49m\u001b[43m,\u001b[49m\u001b[43m \u001b[49m\u001b[43mdtype\u001b[49m\u001b[38;5;241;43m=\u001b[39;49m\u001b[43mxoroshiro128p_dtype\u001b[49m\u001b[43m,\u001b[49m\u001b[43m \u001b[49m\u001b[43mstream\u001b[49m\u001b[38;5;241;43m=\u001b[39;49m\u001b[43mstream\u001b[49m\u001b[43m)\u001b[49m\n\u001b[1;32m    291\u001b[0m     init_xoroshiro128p_states(states, seed, subsequence_start, stream)\n\u001b[1;32m    292\u001b[0m     \u001b[38;5;28;01mreturn\u001b[39;00m states\n",
      "File \u001b[0;32m~/miniconda3/envs/CompLab/lib/python3.9/site-packages/numba/cuda/cudadrv/devices.py:231\u001b[0m, in \u001b[0;36mrequire_context.<locals>._require_cuda_context\u001b[0;34m(*args, **kws)\u001b[0m\n\u001b[1;32m    229\u001b[0m \u001b[38;5;129m@functools\u001b[39m\u001b[38;5;241m.\u001b[39mwraps(fn)\n\u001b[1;32m    230\u001b[0m \u001b[38;5;28;01mdef\u001b[39;00m \u001b[38;5;21m_require_cuda_context\u001b[39m(\u001b[38;5;241m*\u001b[39margs, \u001b[38;5;241m*\u001b[39m\u001b[38;5;241m*\u001b[39mkws):\n\u001b[0;32m--> 231\u001b[0m     \u001b[38;5;28;01mwith\u001b[39;00m _runtime\u001b[38;5;241m.\u001b[39mensure_context():\n\u001b[1;32m    232\u001b[0m         \u001b[38;5;28;01mreturn\u001b[39;00m fn(\u001b[38;5;241m*\u001b[39margs, \u001b[38;5;241m*\u001b[39m\u001b[38;5;241m*\u001b[39mkws)\n",
      "File \u001b[0;32m~/miniconda3/envs/CompLab/lib/python3.9/contextlib.py:119\u001b[0m, in \u001b[0;36m_GeneratorContextManager.__enter__\u001b[0;34m(self)\u001b[0m\n\u001b[1;32m    117\u001b[0m \u001b[38;5;28;01mdel\u001b[39;00m \u001b[38;5;28mself\u001b[39m\u001b[38;5;241m.\u001b[39margs, \u001b[38;5;28mself\u001b[39m\u001b[38;5;241m.\u001b[39mkwds, \u001b[38;5;28mself\u001b[39m\u001b[38;5;241m.\u001b[39mfunc\n\u001b[1;32m    118\u001b[0m \u001b[38;5;28;01mtry\u001b[39;00m:\n\u001b[0;32m--> 119\u001b[0m     \u001b[38;5;28;01mreturn\u001b[39;00m \u001b[38;5;28;43mnext\u001b[39;49m\u001b[43m(\u001b[49m\u001b[38;5;28;43mself\u001b[39;49m\u001b[38;5;241;43m.\u001b[39;49m\u001b[43mgen\u001b[49m\u001b[43m)\u001b[49m\n\u001b[1;32m    120\u001b[0m \u001b[38;5;28;01mexcept\u001b[39;00m \u001b[38;5;167;01mStopIteration\u001b[39;00m:\n\u001b[1;32m    121\u001b[0m     \u001b[38;5;28;01mraise\u001b[39;00m \u001b[38;5;167;01mRuntimeError\u001b[39;00m(\u001b[38;5;124m\"\u001b[39m\u001b[38;5;124mgenerator didn\u001b[39m\u001b[38;5;124m'\u001b[39m\u001b[38;5;124mt yield\u001b[39m\u001b[38;5;124m\"\u001b[39m) \u001b[38;5;28;01mfrom\u001b[39;00m \u001b[38;5;28;01mNone\u001b[39;00m\n",
      "File \u001b[0;32m~/miniconda3/envs/CompLab/lib/python3.9/site-packages/numba/cuda/cudadrv/devices.py:121\u001b[0m, in \u001b[0;36m_Runtime.ensure_context\u001b[0;34m(self)\u001b[0m\n\u001b[1;32m    110\u001b[0m \u001b[38;5;129m@contextmanager\u001b[39m\n\u001b[1;32m    111\u001b[0m \u001b[38;5;28;01mdef\u001b[39;00m \u001b[38;5;21mensure_context\u001b[39m(\u001b[38;5;28mself\u001b[39m):\n\u001b[1;32m    112\u001b[0m \u001b[38;5;250m    \u001b[39m\u001b[38;5;124;03m\"\"\"Ensure a CUDA context is available inside the context.\u001b[39;00m\n\u001b[1;32m    113\u001b[0m \n\u001b[1;32m    114\u001b[0m \u001b[38;5;124;03m    On entrance, queries the CUDA driver for an active CUDA context and\u001b[39;00m\n\u001b[0;32m   (...)\u001b[0m\n\u001b[1;32m    119\u001b[0m \u001b[38;5;124;03m    any top-level Numba CUDA API.\u001b[39;00m\n\u001b[1;32m    120\u001b[0m \u001b[38;5;124;03m    \"\"\"\u001b[39;00m\n\u001b[0;32m--> 121\u001b[0m     \u001b[38;5;28;01mwith\u001b[39;00m driver\u001b[38;5;241m.\u001b[39mget_active_context():\n\u001b[1;32m    122\u001b[0m         oldctx \u001b[38;5;241m=\u001b[39m \u001b[38;5;28mself\u001b[39m\u001b[38;5;241m.\u001b[39m_get_attached_context()\n\u001b[1;32m    123\u001b[0m         newctx \u001b[38;5;241m=\u001b[39m \u001b[38;5;28mself\u001b[39m\u001b[38;5;241m.\u001b[39mget_or_create_context(\u001b[38;5;28;01mNone\u001b[39;00m)\n",
      "File \u001b[0;32m~/miniconda3/envs/CompLab/lib/python3.9/site-packages/numba/cuda/cudadrv/driver.py:495\u001b[0m, in \u001b[0;36m_ActiveContext.__enter__\u001b[0;34m(self)\u001b[0m\n\u001b[1;32m    493\u001b[0m \u001b[38;5;28;01melse\u001b[39;00m:\n\u001b[1;32m    494\u001b[0m     hctx \u001b[38;5;241m=\u001b[39m drvapi\u001b[38;5;241m.\u001b[39mcu_context(\u001b[38;5;241m0\u001b[39m)\n\u001b[0;32m--> 495\u001b[0m     \u001b[43mdriver\u001b[49m\u001b[38;5;241;43m.\u001b[39;49m\u001b[43mcuCtxGetCurrent\u001b[49m(byref(hctx))\n\u001b[1;32m    496\u001b[0m     hctx \u001b[38;5;241m=\u001b[39m hctx \u001b[38;5;28;01mif\u001b[39;00m hctx\u001b[38;5;241m.\u001b[39mvalue \u001b[38;5;28;01melse\u001b[39;00m \u001b[38;5;28;01mNone\u001b[39;00m\n\u001b[1;32m    498\u001b[0m \u001b[38;5;28;01mif\u001b[39;00m hctx \u001b[38;5;129;01mis\u001b[39;00m \u001b[38;5;28;01mNone\u001b[39;00m:\n",
      "File \u001b[0;32m~/miniconda3/envs/CompLab/lib/python3.9/site-packages/numba/cuda/cudadrv/driver.py:295\u001b[0m, in \u001b[0;36mDriver.__getattr__\u001b[0;34m(self, fname)\u001b[0m\n\u001b[1;32m    292\u001b[0m \u001b[38;5;28mself\u001b[39m\u001b[38;5;241m.\u001b[39mensure_initialized()\n\u001b[1;32m    294\u001b[0m \u001b[38;5;28;01mif\u001b[39;00m \u001b[38;5;28mself\u001b[39m\u001b[38;5;241m.\u001b[39minitialization_error \u001b[38;5;129;01mis\u001b[39;00m \u001b[38;5;129;01mnot\u001b[39;00m \u001b[38;5;28;01mNone\u001b[39;00m:\n\u001b[0;32m--> 295\u001b[0m     \u001b[38;5;28;01mraise\u001b[39;00m CudaSupportError(\u001b[38;5;124m\"\u001b[39m\u001b[38;5;124mError at driver init: \u001b[39m\u001b[38;5;130;01m\\n\u001b[39;00m\u001b[38;5;132;01m%s\u001b[39;00m\u001b[38;5;124m:\u001b[39m\u001b[38;5;124m\"\u001b[39m \u001b[38;5;241m%\u001b[39m\n\u001b[1;32m    296\u001b[0m                            \u001b[38;5;28mself\u001b[39m\u001b[38;5;241m.\u001b[39minitialization_error)\n\u001b[1;32m    298\u001b[0m \u001b[38;5;28;01mif\u001b[39;00m USE_NV_BINDING:\n\u001b[1;32m    299\u001b[0m     \u001b[38;5;28;01mreturn\u001b[39;00m \u001b[38;5;28mself\u001b[39m\u001b[38;5;241m.\u001b[39m_cuda_python_wrap_fn(fname)\n",
      "\u001b[0;31mCudaSupportError\u001b[0m: Error at driver init: \n\nCUDA driver library cannot be found.\nIf you are sure that a CUDA driver is installed,\ntry setting environment variable NUMBA_CUDA_DRIVER\nwith the file path of the CUDA driver shared library.\n:"
     ]
    }
   ],
   "source": [
    "%%time\n",
    "threads_per_block = 64\n",
    "blocks = 24\n",
    "rng_states = create_xoroshiro128p_states(threads_per_block * blocks, seed=1)\n",
    "x_trace, state = Simulator_GPU[blocks, threads_per_block](dt, DeltaT, TotalT, n_sim, theta, rng_states)\n",
    "# THIS IS FOR THE CUDA GPU"
   ]
  },
  {
   "cell_type": "code",
   "execution_count": 221,
   "metadata": {},
   "outputs": [
    {
     "data": {
      "image/png": "[encoded data removed]",
      "text/plain": [
       "<Figure size 640x480 with 1 Axes>"
      ]
     },
     "metadata": {},
     "output_type": "display_data"
    }
   ],
   "source": [
    "times_n_sim = np.array([750e-6,2e-3,10e-3,60e-3,650e-3,5.5,55])\n",
    "total_time_steps_n_sims = np.array([1,10,100,1000,10000,100000,1000000])*1000\n",
    "times_single_sim = np.array([100e-6,100e-6,600e-6,6e-3,50e-3,350e-3,3.4,35])\n",
    "total_time_steps_single_sim = np.array([10,100,1000,10000,100000,1000000,10000000,100000000])\n",
    "\n",
    "\n",
    "plt.scatter(total_time_steps_n_sims, times_n_sim, label = 'Multiple Simulation Time')\n",
    "plt.scatter(total_time_steps_single_sim, times_single_sim, label = 'Single Simulation Time')\n",
    "plt.xscale('log')\n",
    "plt.yscale('log')\n",
    "plt.title('Time vs Total Time Steps')\n",
    "plt.xlabel('Total Time Steps')\n",
    "plt.ylabel('Time (s)')\n",
    "plt.legend();"
   ]
  }
 ],
 "metadata": {
  "kernelspec": {
   "display_name": "CompLab",
   "language": "python",
   "name": "python3"
  },
  "language_info": {
   "codemirror_mode": {
    "name": "ipython",
    "version": 3
   },
   "file_extension": ".py",
   "mimetype": "text/x-python",
   "name": "python",
   "nbconvert_exporter": "python",
   "pygments_lexer": "ipython3",
   "version": "3.9.18"
  }
 },
 "nbformat": 4,
 "nbformat_minor": 2
}
