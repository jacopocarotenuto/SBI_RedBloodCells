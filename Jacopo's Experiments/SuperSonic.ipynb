{
 "cells": [
  {
   "cell_type": "markdown",
   "metadata": {},
   "source": [
    "Ideas for performance improvement:\n",
    "- Static Tipying: NO!\n",
    "- Numba: NoPyton, Parallelize, TypeSpecification, Nogil?\n",
    "- For Random Numbers two function (Cuda vs NoCuda)"
   ]
  },
  {
   "cell_type": "markdown",
   "metadata": {},
   "source": [
    "# PRODUCTION READY FUNCTION => Simulator_noGPU"
   ]
  },
  {
   "cell_type": "code",
   "execution_count": 31,
   "metadata": {},
   "outputs": [],
   "source": [
    "# Load the minimum required library to run the functions\n",
    "from numba import jit\n",
    "from numpy import zeros, arange, uint8, int32, float32, sqrt, uint32, ones, int64\n",
    "from numpy.random import randn\n",
    "from timeit import timeit\n",
    "import time\n",
    "import matplotlib.pyplot as plt\n",
    "import numpy as np\n",
    "from numba import cuda\n",
    "\n",
    "from numba.cuda.random import create_xoroshiro128p_states, xoroshiro128p_uniform_float32, xoroshiro128p_normal_float32"
   ]
  },
  {
   "cell_type": "code",
   "execution_count": 32,
   "metadata": {},
   "outputs": [],
   "source": [
    "@jit(nopython = True)\n",
    "def Simulator_noGPU(dt, DeltaT, TotalT, n_sim, theta, i_state = None):\n",
    "    \n",
    "    time_steps_amount = int64(TotalT/dt) # Number of steps\n",
    "    sampled_point_amount = int64(TotalT/DeltaT) # Number of sampled points\n",
    "    sampling_delta_time_steps = int64(DeltaT/dt) # Number of steps between samples\n",
    "    \n",
    "    # Aggiugnere controllo sul TotalT effettivo a fine simulazione\n",
    "    # Aggiungere controllo sul sampling_delta_time_steps per sanity check\n",
    "    # Controllare che sampled_point_amount*sampling_delta_time_steps = time_steps_amount\n",
    "    \n",
    "        \n",
    "    # Unpack Parameters\n",
    "    mu_x = theta[0]\n",
    "    mu_y = theta[1]\n",
    "    k_x = theta[2]\n",
    "    k_y = theta[3]\n",
    "    k_int = theta[4]\n",
    "    tau = theta[5]\n",
    "    eps = theta[6]\n",
    "    D_x = theta[7]\n",
    "    D_y = theta[8]\n",
    "    \n",
    "    # Handle initial state\n",
    "    if i_state is None:\n",
    "        x = zeros((n_sim,1), dtype = float32)\n",
    "        y = zeros((n_sim,1), dtype = float32)\n",
    "        f = zeros((n_sim,1), dtype = float32)\n",
    "    else:\n",
    "        if x.shape == (n_sim,1) or y.shape == (n_sim,1) or f.shape == (n_sim,1):\n",
    "            raise Exception(\"Initial state has wrong shape, each should be (n_sim,1)\")\n",
    "        x, y, f = i_state\n",
    "    \n",
    "    # Initialize x_trace array\n",
    "    \n",
    "    x_trace = zeros((n_sim, sampled_point_amount), dtype = float32)\n",
    "    \n",
    "    sampling_counter = int64(1)\n",
    "    \n",
    "    # POSSIBLE OPTIM: You could overwrite the last used row of the trace to save memory and not create a proxy array\n",
    "    \n",
    "    # TRADEOFF: Memory vs Speed. We can generate the numbers here, or before. Maybe the time is the same... Should test\n",
    "    \n",
    "    # CHECK: Benchmark the version with the explicit dx, dy, df and the one with the x, y, f arrays with the calculation in the assigment\n",
    "    \n",
    "    for t in arange(time_steps_amount - 1):\n",
    "        x[:,] = x[:,] + mu_x*(- k_x * x[:,] + k_int*y[:,])*dt                +          sqrt(2*mu_x*D_x*dt)     *randn(n_sim,1)\n",
    "        y[:,] = y[:,] + mu_y*(-k_y*y[:,] + k_int*x[:,] + f[:,])*dt        +          sqrt(2*mu_y*D_y*dt)     *randn(n_sim,1)\n",
    "        f[:,] = f[:,] + -(f[:,]/tau)*dt                                   +          sqrt(2*eps**2*dt/tau)   *randn(n_sim,1)\n",
    "\n",
    "        sampling_counter = sampling_counter + 1\n",
    "        if sampling_counter == sampling_delta_time_steps:\n",
    "            x_trace[:, int(t/sampling_delta_time_steps)] = x[:,0]\n",
    "            sampling_counter = int64(1)\n",
    "    \n",
    "    return x_trace, (x, y, f) # Check if this is right"
   ]
  },
  {
   "cell_type": "code",
   "execution_count": null,
   "metadata": {},
   "outputs": [],
   "source": [
    "@cuda.jit(nopython = True)\n",
    "def Simulator_GPU(dt, DeltaT, TotalT, n_sim, theta, rng_states, i_state = None):\n",
    "    thread_id = cuda.grid(1)\n",
    "    time_steps_amount = uint32(TotalT/dt) # Number of steps\n",
    "    sampled_point_amount = uint32(TotalT/DeltaT) # Number of sampled points\n",
    "    sampling_delta_time_steps = uint32(DeltaT/dt) # Number of steps between samples\n",
    "    \n",
    "    # Unpack Parameters\n",
    "\n",
    "    mu_x = theta[0]\n",
    "    mu_y = theta[1]\n",
    "    k_x = theta[2]\n",
    "    k_y = theta[3]\n",
    "    k_int = theta[4]\n",
    "    tau = theta[5]\n",
    "    eps = theta[6]\n",
    "    D_x = theta[7]\n",
    "    D_y = theta[8]\n",
    "    \n",
    "    # Handle initial state\n",
    "    if i_state is None:\n",
    "        x = zeros((n_sim,1), dtype = float32)\n",
    "        y = zeros((n_sim,1), dtype = float32)\n",
    "        f = zeros((n_sim,1), dtype = float32)\n",
    "    else:\n",
    "        if x.shape == (n_sim,1) or y.shape == (n_sim,1) or f.shape == (n_sim,1):\n",
    "            raise Exception(\"Initial state has wrong shape, each should be (n_sim,1)\")\n",
    "        x, y, f = i_state\n",
    "    \n",
    "    # Initialize x_trace array\n",
    "    x_trace = zeros((n_sim, sampled_point_amount), dtype = float32)\n",
    "    \n",
    "    sampling_counter = uint8(1)\n",
    "    # POSSIBLE OPTIM: You could overwrite the last used row of the trace to save memory and not create a proxy array\n",
    "    \n",
    "    # TRADEOFF: Memory vs Speed. We can generate the numbers here, or before. Maybe the time is the same... Should test\n",
    "    \n",
    "    # CHECK: Benchmark the version with the explicit dx, dy, df and the one with the x, y, f arrays with the calculation in the assigment\n",
    "    \n",
    "    \n",
    "    for t in arange(time_steps_amount - 1):\n",
    "        for i in range(n_sim):\n",
    "            x[i,] = x[i,] + mu_x*(-k_x*x[i,] + k_int*y[i,])*dt                +          sqrt(2*mu_x*D_x*dt)     *xoroshiro128p_normal_float32(rng_states, thread_id)\n",
    "            y[i,] = y[i,] + mu_y*(-k_y*y[i,] + k_int*x[i,] + f[:,])*dt        +          sqrt(2*mu_y*D_y*dt)     *xoroshiro128p_normal_float32(rng_states, thread_id)\n",
    "            f[i,] = f[i,] + -(f[i,]/tau)*dt                                   +          sqrt(2*eps**2*dt/tau)   *xoroshiro128p_normal_float32(rng_states, thread_id)\n",
    "        sampling_counter = sampling_counter + 1\n",
    "        if sampling_counter == sampling_delta_time_steps:\n",
    "            x_trace[:, int(t/sampling_delta_time_steps)] = x[:,0]\n",
    "            sampling_counter = uint8(1)\n",
    "    \n",
    "    \n",
    "    return x_trace, (x, y, f)"
   ]
  },
  {
   "cell_type": "code",
   "execution_count": null,
   "metadata": {},
   "outputs": [],
   "source": [
    "@jit(nopython = True)\n",
    "def Simulator_noGPU_preallocating(dt, DeltaT, TotalT, n_sim, theta, x_trace, i_state = None):\n",
    "    time_steps_amount = uint32(TotalT/dt) # Number of steps\n",
    "    sampled_point_amount = uint32(TotalT/DeltaT) # Number of sampled points\n",
    "    sampling_delta_time_steps = uint32(DeltaT/dt) # Number of steps between samples\n",
    "    \n",
    "    # Unpack Parameters\n",
    "\n",
    "    mu_x, mu_y, k_x, k_y, k_int, tau, eps, D_x, D_y = theta\n",
    "    \n",
    "    # Handle initial state\n",
    "    if i_state is None:\n",
    "        x = zeros((n_sim,1), dtype = float32)\n",
    "        y = zeros((n_sim,1), dtype = float32)\n",
    "        f = zeros((n_sim,1), dtype = float32)\n",
    "    else:\n",
    "        if x.shape == (n_sim,1) or y.shape == (n_sim,1) or f.shape == (n_sim,1):\n",
    "            raise Exception(\"Initial state has wrong shape, each should be (n_sim,1)\")\n",
    "        x, y, f = i_state\n",
    "    \n",
    "    # Initialize x_trace array\n",
    "    if x_trace is None:\n",
    "        x_trace = zeros((n_sim, sampled_point_amount), dtype = float32)\n",
    "    else:\n",
    "        if x_trace.shape != (n_sim, sampled_point_amount):\n",
    "            raise Exception(\"x_trace has wrong shape, should be (n_sim, sampled_point_amount)\")\n",
    "    \n",
    "    sampling_counter = uint8(1)\n",
    "    # POSSIBLE OPTIM: You could overwrite the last used row of the trace to save memory and not create a proxy array\n",
    "    \n",
    "    # TRADEOFF: Memory vs Speed. We can generate the numbers here, or before. Maybe the time is the same... Should test\n",
    "    \n",
    "    # CHECK: Benchmark the version with the explicit dx, dy, df and the one with the x, y, f arrays with the calculation in the assigment\n",
    "    \n",
    "    for t in arange(time_steps_amount - 1):\n",
    "        x[:,] = x[:,] + mu_x*(-k_x*x[:,] + k_int*y[:,])*dt                +          sqrt(2*mu_x*D_x*dt)     *randn(n_sim,1)\n",
    "        y[:,] = y[:,] + mu_y*(-k_y*y[:,] + k_int*x[:,] + f[:,])*dt        +          sqrt(2*mu_y*D_y*dt)     *randn(n_sim,1)\n",
    "        f[:,] = f[:,] + -(f[:,]/tau)*dt                                   +          sqrt(2*eps**2*dt/tau)   *randn(n_sim,1)\n",
    "\n",
    "        sampling_counter = sampling_counter + 1\n",
    "        if sampling_counter == sampling_delta_time_steps:\n",
    "            x_trace[:, int(t/sampling_delta_time_steps)] = x[:,0]\n",
    "            sampling_counter = uint8(1)\n",
    "\n",
    "    return (x, y, f)"
   ]
  },
  {
   "cell_type": "code",
   "execution_count": 33,
   "metadata": {},
   "outputs": [],
   "source": [
    "dt = 0.1\n",
    "DeltaT = 1\n",
    "TotalT = 10\n",
    "n_sim = 1000\n",
    "theta = [ones((n_sim,1)), ones((n_sim,1)), ones((n_sim,1)), ones((n_sim,1)), ones((n_sim,1)),ones((n_sim,1)), ones((n_sim,1)), ones((n_sim,1)), ones((n_sim,1))]"
   ]
  },
  {
   "cell_type": "code",
   "execution_count": 34,
   "metadata": {},
   "outputs": [
    {
     "name": "stdout",
     "output_type": "stream",
     "text": [
      "CPU times: user 525 ms, sys: 6.46 ms, total: 532 ms\n",
      "Wall time: 533 ms\n"
     ]
    },
    {
     "data": {
      "text/plain": [
       "array([[ 0.789312  ,  1.9892548 ,  0.55230844, ..., -0.53788847,\n",
       "        -0.16436556,  0.32206517],\n",
       "       [ 1.522421  ,  1.1614512 ,  0.5316256 , ...,  2.7330604 ,\n",
       "         4.547913  ,  5.176199  ],\n",
       "       [ 0.46067524,  0.18862724,  0.32298893, ..., -0.6913722 ,\n",
       "         1.6298584 ,  1.4657143 ],\n",
       "       ...,\n",
       "       [ 0.78224087,  0.3805572 ,  2.4318173 , ...,  0.55004317,\n",
       "        -0.6685909 , -1.0656058 ],\n",
       "       [-3.1752584 , -6.145828  , -8.316406  , ..., -1.2172557 ,\n",
       "        -4.117844  , -2.6542013 ],\n",
       "       [-0.4259308 , -1.7040229 , -2.7427874 , ..., -1.8521874 ,\n",
       "        -0.09503609,  0.910404  ]], dtype=float32)"
      ]
     },
     "execution_count": 34,
     "metadata": {},
     "output_type": "execute_result"
    }
   ],
   "source": [
    "%%time\n",
    "x_trace, state = Simulator_noGPU(dt, DeltaT, TotalT, n_sim, theta)\n",
    "x_trace"
   ]
  },
  {
   "cell_type": "code",
   "execution_count": null,
   "metadata": {},
   "outputs": [],
   "source": [
    "%%time\n",
    "threads_per_block = 64\n",
    "blocks = 24\n",
    "rng_states = create_xoroshiro128p_states(threads_per_block * blocks, seed=1)\n",
    "x_trace, state = Simulator_GPU[blocks, threads_per_block](dt, DeltaT, TotalT, n_sim, theta, rng_states)\n",
    "# THIS IS FOR THE CUDA GPU"
   ]
  },
  {
   "cell_type": "code",
   "execution_count": null,
   "metadata": {},
   "outputs": [],
   "source": [
    "times_n_sim = np.array([750e-6,2e-3,10e-3,60e-3,650e-3,5.5,55])\n",
    "total_time_steps_n_sims = np.array([1,10,100,1000,10000,100000,1000000])*1000\n",
    "times_single_sim = np.array([100e-6,100e-6,600e-6,6e-3,50e-3,350e-3,3.4,35])\n",
    "total_time_steps_single_sim = np.array([10,100,1000,10000,100000,1000000,10000000,100000000])\n",
    "\n",
    "\n",
    "plt.scatter(total_time_steps_n_sims, times_n_sim, label = 'Multiple Simulation Time')\n",
    "plt.scatter(total_time_steps_single_sim, times_single_sim, label = 'Single Simulation Time')\n",
    "plt.xscale('log')\n",
    "plt.yscale('log')\n",
    "plt.title('Time vs Total Time Steps')\n",
    "plt.xlabel('Total Time Steps')\n",
    "plt.ylabel('Time (s)')\n",
    "plt.legend();"
   ]
  },
  {
   "cell_type": "code",
   "execution_count": null,
   "metadata": {},
   "outputs": [],
   "source": [
    "# Provare a chainare diverse simulazione passando i_state"
   ]
  }
 ],
 "metadata": {
  "kernelspec": {
   "display_name": "CompLab",
   "language": "python",
   "name": "python3"
  },
  "language_info": {
   "codemirror_mode": {
    "name": "ipython",
    "version": 3
   },
   "file_extension": ".py",
   "mimetype": "text/x-python",
   "name": "python",
   "nbconvert_exporter": "python",
   "pygments_lexer": "ipython3",
   "version": "3.9.18"
  }
 },
 "nbformat": 4,
 "nbformat_minor": 2
}
