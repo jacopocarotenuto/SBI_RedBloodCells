{
 "cells": [
  {
   "cell_type": "code",
   "execution_count": 1,
   "metadata": {},
   "outputs": [],
   "source": [
    "import os\n",
    "os.environ['KMP_DUPLICATE_LIB_OK']='True'"
   ]
  },
  {
   "cell_type": "code",
   "execution_count": 2,
   "metadata": {},
   "outputs": [],
   "source": [
    "# Load the minimum required library to run the functions\n",
    "from Utils_functions import Simulator_noGPU, corr\n",
    "from numpy.random import uniform\n",
    "from numpy import array, int64, where, concatenate, linspace\n",
    "from scipy.integrate import cumtrapz"
   ]
  },
  {
   "cell_type": "code",
   "execution_count": 3,
   "metadata": {},
   "outputs": [],
   "source": [
    "dt = 0.01 # The time step size for the simulation. This is the amount of time that passes in the model for each step of the simulation\n",
    "DeltaT = 1 # The sampling period. This is the amount of time that passes in the model between each sample that is recorded\n",
    "TotalT = 100 # The total time for the simulation. This is the total amount of time that the simulation is intended to represent\n",
    "n_sim = 10\n",
    "t_corr = 10"
   ]
  },
  {
   "cell_type": "code",
   "execution_count": 4,
   "metadata": {},
   "outputs": [],
   "source": [
    "time_steps_amount = int64(TotalT/dt) # Number of steps\n",
    "sampled_point_amount = int64(TotalT/DeltaT) # Number of sampled points\n",
    "sampling_delta_time_steps = int64(DeltaT/dt) # Number of steps between samples\n",
    "t = linspace(0., TotalT,sampled_point_amount) # Time array\n",
    "    "
   ]
  },
  {
   "cell_type": "code",
   "execution_count": 5,
   "metadata": {},
   "outputs": [],
   "source": [
    "mu_x = uniform(1.5e4, 4e4, size=(n_sim,1))\n",
    "mu_y = uniform(1e4, 140e4, size=(n_sim,1))\n",
    "k_x = uniform(3e-3, 16e-3, size=(n_sim,1))\n",
    "k_y = uniform(1.5e-2, 30e-2, size=(n_sim,1))\n",
    "k_int = uniform(1e-3, 6e-3, size=(n_sim,1))\n",
    "tau = uniform(2e-2, 20e-2, size=(n_sim,1))\n",
    "eps = uniform(0.5, 6, size=(n_sim,1))\n",
    "D_x = uniform(5.5, 15.5, size=(n_sim,1))\n",
    "D_y = uniform(1, 530, size=(n_sim,1))\n",
    "sigma = uniform(4, 260, size=(n_sim,1))"
   ]
  },
  {
   "cell_type": "code",
   "execution_count": 6,
   "metadata": {},
   "outputs": [],
   "source": [
    "mu_x = uniform(0.1, 0.5, size=(n_sim,1))\n",
    "mu_y = uniform(0.1, 0.5, size=(n_sim,1))\n",
    "k_x = uniform(0.1, 0.5, size=(n_sim,1))\n",
    "k_y = uniform(0.1, 0.5, size=(n_sim,1))\n",
    "k_int = uniform(0.1, 0.5, size=(n_sim,1))\n",
    "tau = uniform(0.1, 0.5, size=(n_sim,1))\n",
    "eps = uniform(0.1, 0.5, size=(n_sim,1))\n",
    "D_x = uniform(0.1, 0.5, size=(n_sim,1))\n",
    "D_y = uniform(0.1, 0.5, size=(n_sim,1))\n",
    "sigma = uniform(0.1, 0.5, size=(n_sim,1))"
   ]
  },
  {
   "cell_type": "code",
   "execution_count": 7,
   "metadata": {},
   "outputs": [],
   "source": [
    "theta = [mu_x, mu_y, k_x, k_y, k_int, tau, eps, D_x, D_y]"
   ]
  },
  {
   "cell_type": "code",
   "execution_count": 8,
   "metadata": {},
   "outputs": [],
   "source": [
    "x_trace, f_trace, state = Simulator_noGPU(dt, DeltaT, TotalT, n_sim, theta)"
   ]
  },
  {
   "cell_type": "code",
   "execution_count": 9,
   "metadata": {},
   "outputs": [
    {
     "ename": "NameError",
     "evalue": "name 'S_red' is not defined",
     "output_type": "error",
     "traceback": [
      "\u001b[1;31m---------------------------------------------------------------------------\u001b[0m",
      "\u001b[1;31mNameError\u001b[0m                                 Traceback (most recent call last)",
      "Cell \u001b[1;32mIn[9], line 1\u001b[0m\n\u001b[1;32m----> 1\u001b[0m S_red\u001b[38;5;241m.\u001b[39mshape\n",
      "\u001b[1;31mNameError\u001b[0m: name 'S_red' is not defined"
     ]
    }
   ],
   "source": [
    "S_red.shape"
   ]
  },
  {
   "cell_type": "code",
   "execution_count": null,
   "metadata": {},
   "outputs": [
    {
     "data": {
      "text/plain": [
       "(9,)"
      ]
     },
     "execution_count": 11,
     "metadata": {},
     "output_type": "execute_result"
    }
   ],
   "source": [
    "Cxx[idx_corr].shape"
   ]
  },
  {
   "cell_type": "code",
   "execution_count": null,
   "metadata": {},
   "outputs": [
    {
     "data": {
      "text/plain": [
       "(10, 1)"
      ]
     },
     "execution_count": 27,
     "metadata": {},
     "output_type": "execute_result"
    }
   ],
   "source": [
    "mu_x.shape"
   ]
  },
  {
   "cell_type": "code",
   "execution_count": 11,
   "metadata": {},
   "outputs": [
    {
     "name": "stdout",
     "output_type": "stream",
     "text": [
      "The all x autocorrellation is [ 1.83329925  1.71645045  1.61080534  1.52660314  1.43383845  1.32919318\n",
      "  1.24158912  1.17669584  1.11394046  1.03596904  0.96708645  0.90125374\n",
      "  0.84996815  0.78589376  0.72017801  0.6530115   0.58961168  0.51588738\n",
      "  0.42180929  0.33631651  0.28434197  0.23788743  0.19403076  0.16095703\n",
      "  0.14878822  0.1265107   0.09252358  0.06876363  0.05046893  0.01190399\n",
      " -0.02172212 -0.04647941 -0.08417471 -0.11028104 -0.11934423 -0.11478328\n",
      " -0.10705835 -0.07877115 -0.05328103 -0.04019319 -0.00755818  0.02661247\n",
      "  0.03496916  0.04265173  0.03889183  0.03930025  0.03690783  0.03536901\n",
      "  0.034084    0.03549239  0.04106604  0.02599017  0.0041629  -0.02135065\n",
      " -0.0434135  -0.06935994 -0.10601058 -0.13552196 -0.16410476 -0.18061482\n",
      " -0.22509909 -0.28020142 -0.32205282 -0.37059288 -0.42048451 -0.45894049\n",
      " -0.49381512 -0.51040655 -0.52615739 -0.54507744 -0.57250956 -0.59462618\n",
      " -0.6050028  -0.63895282 -0.66942392 -0.67616698 -0.6852091  -0.71393514\n",
      " -0.73067637 -0.73990505 -0.74722518 -0.75647482 -0.74328138 -0.7166959\n",
      " -0.67502486 -0.64554072 -0.6232087  -0.5883806  -0.54604162 -0.51290394\n",
      " -0.47634804 -0.43792967 -0.3850488  -0.34000275 -0.30979378 -0.26398354\n",
      " -0.21133843 -0.1631729  -0.12122792 -0.06754307]\n",
      "The all f autocorrellation is [ 0.02409859  0.02143875  0.02714872  0.01999223  0.00842814  0.01810817\n",
      "  0.01533032  0.01538537  0.02138337  0.02396951  0.01809933  0.02280801\n",
      "  0.03124526  0.02645033  0.02804011  0.02687241  0.02869599  0.02129151\n",
      "  0.01937755  0.01688536  0.01602567  0.00755765  0.01130333  0.01387414\n",
      "  0.01339648  0.00696863  0.00464624  0.00431337  0.00274438  0.00512853\n",
      " -0.0072847   0.00209159  0.00034571 -0.00193807  0.00421264  0.00249742\n",
      "  0.00728507  0.00829957  0.00206319 -0.00817294 -0.00655164 -0.01652854\n",
      " -0.01503977 -0.01417859 -0.01655295 -0.01578839 -0.01478158 -0.01378705\n",
      " -0.0173595  -0.01868383 -0.01652288 -0.01673073 -0.01264167 -0.0076133\n",
      " -0.01556384 -0.00975097 -0.00066939 -0.00592219 -0.00326777  0.00391697\n",
      " -0.00296789 -0.00176174 -0.00523407 -0.00229926 -0.00234637 -0.00762495\n",
      " -0.00548685 -0.00529814 -0.01295458 -0.01205956 -0.00555831 -0.00628598\n",
      " -0.00930338 -0.01596182 -0.01333381 -0.01546213 -0.01471618 -0.01732538\n",
      " -0.01578172 -0.01410584 -0.01869513 -0.00848318 -0.01616859 -0.01485693\n",
      " -0.01174137 -0.00519479 -0.00727053 -0.01262009 -0.00914738 -0.01050041\n",
      " -0.01205885 -0.01019018 -0.0076127  -0.00591677 -0.00126611 -0.00592765\n",
      " -0.00123984  0.0016967  -0.0029708  -0.00091983]\n",
      "The reduced energy production is [0.67763669 0.6742599  0.65081747 0.66328293 0.69319344 0.70452966\n",
      " 0.70035617 0.70048989 0.71396423]\n",
      "The input of the infer is [1.71645045 1.61080534 1.52660314 1.43383845 1.32919318 1.24158912\n",
      " 1.17669584 1.11394046 1.03596904 0.67763669 0.6742599  0.65081747\n",
      " 0.66328293 0.69319344 0.70452966 0.70035617 0.70048989 0.71396423]\n"
     ]
    },
    {
     "data": {
      "text/plain": [
       "[array([1.71645045, 1.61080534, 1.52660314, 1.43383845, 1.32919318,\n",
       "        1.24158912, 1.17669584, 1.11394046, 1.03596904, 0.67763669,\n",
       "        0.6742599 , 0.65081747, 0.66328293, 0.69319344, 0.70452966,\n",
       "        0.70035617, 0.70048989, 0.71396423]),\n",
       " array([0.23944068, 0.20453698, 0.17847004, 0.16262739, 0.15216811,\n",
       "        0.13469162, 0.11929453, 0.1015399 , 0.09226634, 0.17363142,\n",
       "        0.15967667, 0.1455879 , 0.1299396 , 0.11731792, 0.1141452 ,\n",
       "        0.11127978, 0.11069443, 0.10691987]),\n",
       " array([0.36821204, 0.30229178, 0.25458724, 0.20781636, 0.18845314,\n",
       "        0.16062963, 0.12003169, 0.08435754, 0.05762243, 0.26093794,\n",
       "        0.26096051, 0.24284614, 0.23537638, 0.21264683, 0.20379651,\n",
       "        0.2049555 , 0.20417087, 0.2003246 ]),\n",
       " array([1.50957194, 1.41465435, 1.36859323, 1.34059691, 1.32090827,\n",
       "        1.32018448, 1.30652078, 1.25357003, 1.15483207, 0.5935808 ,\n",
       "        0.60877923, 0.55927763, 0.5321594 , 0.5236072 , 0.51508258,\n",
       "        0.52980902, 0.57575814, 0.64584998]),\n",
       " array([110.74374542, 104.88124178,  99.69281738,  94.74479838,\n",
       "         90.04581052,  85.40867619,  80.6338861 ,  76.09270405,\n",
       "         71.65993302,  17.20660205,  18.11466175,  18.21206424,\n",
       "         18.40270075,  18.61315204,  18.91347034,  19.33886413,\n",
       "         19.701209  ,  20.05521234]),\n",
       " array([0.63559783, 0.53954267, 0.41499741, 0.32523819, 0.250274  ,\n",
       "        0.20210779, 0.15213029, 0.11580999, 0.07305485, 0.2030067 ,\n",
       "        0.2112121 , 0.23659405, 0.23170516, 0.22314027, 0.20826557,\n",
       "        0.19853992, 0.18777882, 0.18110618]),\n",
       " array([55050.88173076, 50012.42118427, 46049.81324637, 42367.42476614,\n",
       "        38949.18265258, 35765.5946963 , 32805.59736836, 30057.87271527,\n",
       "        27493.52475055, 23303.02027472, 26347.76419694, 28267.49595318,\n",
       "        30492.18226361, 32753.37149708, 34975.44122762, 37120.91296246,\n",
       "        39174.84552622, 41139.08480041]),\n",
       " array([ 0.44552155,  0.33672078,  0.24151914,  0.15192939,  0.07808695,\n",
       "        -0.02100673, -0.0748007 , -0.09007238, -0.12981918,  0.29103642,\n",
       "         0.25743201,  0.2380366 ,  0.22600567,  0.21271773,  0.21239348,\n",
       "         0.19917327,  0.17953717,  0.1696337 ]),\n",
       " array([13.31109251, 12.70785672, 12.2013064 , 11.71032181, 11.16447287,\n",
       "        10.61235772, 10.06992634,  9.55665329,  9.10114141,  2.14256591,\n",
       "         2.21548071,  2.18150541,  2.18801984,  2.25729125,  2.32939424,\n",
       "         2.39444371,  2.4460184 ,  2.47715227]),\n",
       " array([1.40197964, 1.31129706, 1.25134528, 1.18547625, 1.12097035,\n",
       "        1.07598252, 1.03805157, 0.99673148, 0.94768637, 0.30980194,\n",
       "        0.3233837 , 0.29513661, 0.28867276, 0.28567728, 0.27364612,\n",
       "        0.26268864, 0.25697677, 0.25642766])]"
      ]
     },
     "execution_count": 11,
     "metadata": {},
     "output_type": "execute_result"
    }
   ],
   "source": [
    "C_xxs = []\n",
    "C_fxs = []\n",
    "S_red_all = []\n",
    "inputs = []\n",
    "u_x = uniform(0.1, 0.5)\n",
    "kappa_x = uniform(0.1, 0.5)\n",
    "Di_x = uniform(0.1, 0.5)\n",
    "for i in range(n_sim):\n",
    "    Cxx= corr(x_trace[i], x_trace[i], sampled_point_amount, dt=DeltaT)\n",
    "    Cfx = corr(f_trace[i], x_trace[i], sampled_point_amount, dt=DeltaT)\n",
    "    C_xxs.append(Cxx)\n",
    "    C_fxs.append(Cfx)\n",
    "    \n",
    "    S1 = cumtrapz(Cxx, x=t, axis=-1, initial=0)\n",
    "    S1 = cumtrapz(S1, x=t, axis=-1, initial=0)\n",
    "    idx_corr = where((t>0)*(t<t_corr))[0]\n",
    "    S_red = ((Cxx[0]-Cxx[idx_corr])+((mu_x[i]*k_x[i])**2)*S1[idx_corr])/(D_x[i]*t[idx_corr])\n",
    "    S_red_all.append(S_red)\n",
    "    input = concatenate((Cxx[idx_corr],S_red))  # Use S_red[idx_corr] instead of S_red\n",
    "    inputs.append(input)\n",
    "\n",
    "print(f\"The all x autocorrellation is {C_xxs[0]}\")\n",
    "print(f\"The all f autocorrellation is {C_fxs[0]}\")\n",
    "print(f\"The reduced energy production is {S_red_all[0]}\")\n",
    "print(f\"The input of the infer is {inputs[0]}\")"
   ]
  },
  {
   "cell_type": "code",
   "execution_count": 12,
   "metadata": {},
   "outputs": [
    {
     "data": {
      "text/plain": [
       "(9,)"
      ]
     },
     "execution_count": 12,
     "metadata": {},
     "output_type": "execute_result"
    }
   ],
   "source": [
    "Cxx[idx_corr].shape"
   ]
  },
  {
   "cell_type": "code",
   "execution_count": 18,
   "metadata": {},
   "outputs": [
    {
     "data": {
      "text/plain": [
       "array([ 0.22398229,  0.16482741,  0.12118154,  0.08549176,  0.05088304,\n",
       "        0.01692269, -0.01081265, -0.02399728, -0.01419307])"
      ]
     },
     "execution_count": 18,
     "metadata": {},
     "output_type": "execute_result"
    }
   ],
   "source": [
    "Cxx[idx_corr]"
   ]
  },
  {
   "cell_type": "code",
   "execution_count": 24,
   "metadata": {},
   "outputs": [
    {
     "data": {
      "text/plain": [
       "(9,)"
      ]
     },
     "execution_count": 24,
     "metadata": {},
     "output_type": "execute_result"
    }
   ],
   "source": [
    "S_red[0].shape"
   ]
  },
  {
   "cell_type": "code",
   "execution_count": 23,
   "metadata": {},
   "outputs": [
    {
     "data": {
      "text/plain": [
       "array([ 2.76034733e-01,  2.23982294e-01,  1.64827406e-01,  1.21181539e-01,\n",
       "        8.54917591e-02,  5.08830416e-02,  1.69226899e-02, -1.08126461e-02,\n",
       "       -2.39972765e-02, -1.41930671e-02, -8.14127227e-04,  6.97788532e-04,\n",
       "        8.17445968e-03,  5.21538533e-03, -9.12374399e-03, -1.53751686e-02,\n",
       "       -1.22282824e-02, -1.88412959e-02, -3.58208620e-02, -4.84189441e-02,\n",
       "       -6.25379409e-02, -7.39901029e-02, -7.04757717e-02, -7.30519480e-02,\n",
       "       -6.19461294e-02, -6.63326302e-02, -7.08070233e-02, -7.09353432e-02,\n",
       "       -5.45022758e-02, -3.48267365e-02, -3.15472038e-02, -2.53962731e-02,\n",
       "       -1.43899950e-02,  6.24570461e-03,  2.56831094e-02,  2.25439943e-02,\n",
       "        2.15740551e-02,  2.44452894e-02,  2.29018399e-02,  1.16199757e-02,\n",
       "       -3.70977330e-03, -9.86195689e-03, -1.81070892e-02, -2.48677529e-02,\n",
       "       -2.69955740e-02, -2.54237301e-02, -6.90945392e-03,  1.09803831e-02,\n",
       "        2.37334586e-02,  3.26744839e-02,  4.18918184e-02,  4.23295801e-02,\n",
       "        4.25124288e-02,  4.96511955e-02,  3.72032772e-02,  1.71780622e-02,\n",
       "       -1.04335738e-04, -8.37071276e-03, -8.63878783e-03, -1.28793025e-02,\n",
       "       -2.24218559e-02, -3.14229924e-02, -2.48305513e-02, -1.07986045e-02,\n",
       "       -1.28282539e-02, -1.53630562e-02, -1.58071942e-02, -1.51548369e-02,\n",
       "       -1.27497858e-02, -1.38187730e-02, -1.89567913e-02, -2.45591387e-02,\n",
       "       -2.77871499e-02, -3.33380618e-02, -4.05431576e-02, -3.61800651e-02,\n",
       "       -3.18122067e-02, -3.06142167e-02, -2.68173934e-02, -1.94608678e-02,\n",
       "       -1.55144239e-02, -1.09311839e-02, -5.10655621e-03,  1.34827901e-03,\n",
       "        1.26931384e-02,  2.87651072e-02,  3.99786907e-02,  4.49767668e-02,\n",
       "        4.03581384e-02,  3.06441485e-02,  1.95234664e-02,  1.55942548e-02,\n",
       "        1.20630962e-02,  4.31507220e-03, -5.01291128e-04,  4.02018812e-03,\n",
       "        1.18451517e-02,  1.50306136e-02,  1.02121569e-02,  3.62101017e-03])"
      ]
     },
     "execution_count": 23,
     "metadata": {},
     "output_type": "execute_result"
    }
   ],
   "source": [
    "Cxx"
   ]
  },
  {
   "cell_type": "code",
   "execution_count": 11,
   "metadata": {},
   "outputs": [
    {
     "ename": "ValueError",
     "evalue": "all the input arrays must have same number of dimensions, but the array at index 0 has 1 dimension(s) and the array at index 1 has 2 dimension(s)",
     "output_type": "error",
     "traceback": [
      "\u001b[1;31m---------------------------------------------------------------------------\u001b[0m",
      "\u001b[1;31mValueError\u001b[0m                                Traceback (most recent call last)",
      "Cell \u001b[1;32mIn[11], line 16\u001b[0m\n\u001b[0;32m     14\u001b[0m     S_red \u001b[38;5;241m=\u001b[39m ((Cxx[\u001b[38;5;241m0\u001b[39m]\u001b[38;5;241m-\u001b[39mCxx[idx_corr])\u001b[38;5;241m+\u001b[39m((mu_x\u001b[38;5;241m*\u001b[39mk_x)\u001b[38;5;241m*\u001b[39m\u001b[38;5;241m*\u001b[39m\u001b[38;5;241m2\u001b[39m)\u001b[38;5;241m*\u001b[39mS1[idx_corr])\u001b[38;5;241m/\u001b[39m(D_x\u001b[38;5;241m*\u001b[39mt[idx_corr])\n\u001b[0;32m     15\u001b[0m     S_red_all\u001b[38;5;241m.\u001b[39mappend(S_red)\n\u001b[1;32m---> 16\u001b[0m     \u001b[38;5;28minput\u001b[39m \u001b[38;5;241m=\u001b[39m concatenate((Cxx[idx_corr],S_red))\n\u001b[0;32m     17\u001b[0m     inputs\u001b[38;5;241m.\u001b[39mappend(\u001b[38;5;28minput\u001b[39m)\n\u001b[0;32m     19\u001b[0m \u001b[38;5;28mprint\u001b[39m(\u001b[38;5;124mf\u001b[39m\u001b[38;5;124m\"\u001b[39m\u001b[38;5;124mThe all x autocorrellation is \u001b[39m\u001b[38;5;132;01m{\u001b[39;00mC_xxs[\u001b[38;5;241m0\u001b[39m]\u001b[38;5;132;01m}\u001b[39;00m\u001b[38;5;124m\"\u001b[39m)\n",
      "File \u001b[1;32m<__array_function__ internals>:200\u001b[0m, in \u001b[0;36mconcatenate\u001b[1;34m(*args, **kwargs)\u001b[0m\n",
      "\u001b[1;31mValueError\u001b[0m: all the input arrays must have same number of dimensions, but the array at index 0 has 1 dimension(s) and the array at index 1 has 2 dimension(s)"
     ]
    }
   ],
   "source": [
    "C_xxs = []\n",
    "C_fxs = []\n",
    "S_red_all = []\n",
    "inputs = []\n",
    "for i in range(n_sim):\n",
    "    Cxx= corr(x_trace[i], x_trace[i], sampled_point_amount, dt=DeltaT)\n",
    "    Cfx = corr(f_trace[i], x_trace[i], sampled_point_amount, dt=DeltaT)\n",
    "    C_xxs.append(Cxx)\n",
    "    C_fxs.append(Cfx)\n",
    "    \n",
    "    S1 = cumtrapz(Cxx, x=t, axis=-1, initial=0)\n",
    "    S1 = cumtrapz(S1, x=t, axis=-1, initial=0)\n",
    "\n",
    "    idx_corr = where((t>0)*(t<t_corr))[0]\n",
    "\n",
    "    S_red = ((Cxx[0]-Cxx[idx_corr])+((mu_x*k_x)**2)*S1[idx_corr])/(D_x*t[idx_corr])\n",
    "    S_red_all.append(S_red)\n",
    "    \n",
    "    input = concatenate((Cxx[idx_corr],S_red))\n",
    "    inputs.append(input)\n",
    "\n",
    "print(f\"The all x autocorrellation is {C_xxs[0]}\")\n",
    "print(f\"The all f autocorrellation is {C_fxs[0]}\")\n",
    "print(f\"The reduced energy production is {S_red_all[0]}\")\n",
    "print(f\"The input of the infer is {inputs[0]}\")"
   ]
  },
  {
   "cell_type": "code",
   "execution_count": null,
   "metadata": {},
   "outputs": [],
   "source": [
    "S2 = cumtrapz(Cfx - Cfx[0], x=t, axis=-1, initial=0)\n",
    "    \n",
    "S3 = cumtrapz(Cfx, x=t, axis=-1, initial=0)\n",
    "S3 = -μ*k*cumtrapz(S3, x=t, axis=-1, initial=0)\n",
    "\n",
    "t_corr = 10\n",
    "\n",
    "idx_corr = where((t>0)*(t<t_corr))[0]\n",
    "\n",
    "#S_red = 1+(S1[idx_corr]+S2[idx_corr]+S3[idx_corr])/(kBT*t[idx_corr])\n",
    "S_red = 1-(S2[idx_corr]+S3[idx_corr])/(kBT*t[idx_corr]) # the energy production is to to the fluctuation-dissipation theorem\n",
    "return concatenate((Cxx[idx_corr],S_red)) # return the correlation function and the reduced entropy production"
   ]
  },
  {
   "cell_type": "code",
   "execution_count": null,
   "metadata": {},
   "outputs": [],
   "source": []
  },
  {
   "cell_type": "code",
   "execution_count": null,
   "metadata": {},
   "outputs": [],
   "source": []
  }
 ],
 "metadata": {
  "kernelspec": {
   "display_name": "base",
   "language": "python",
   "name": "python3"
  },
  "language_info": {
   "codemirror_mode": {
    "name": "ipython",
    "version": 3
   },
   "file_extension": ".py",
   "mimetype": "text/x-python",
   "name": "python",
   "nbconvert_exporter": "python",
   "pygments_lexer": "ipython3",
   "version": "3.11.5"
  }
 },
 "nbformat": 4,
 "nbformat_minor": 2
}
