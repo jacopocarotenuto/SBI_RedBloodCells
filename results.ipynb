{
 "cells": [
  {
   "cell_type": "code",
   "execution_count": 37,
   "metadata": {},
   "outputs": [],
   "source": [
    "import os\n",
    "os.environ['KMP_DUPLICATE_LIB_OK']='True'"
   ]
  },
  {
   "cell_type": "code",
   "execution_count": 38,
   "metadata": {},
   "outputs": [],
   "source": [
    "# Load the minimum required library to run the functions\n",
    "from Utils_functions import Simulator_noGPU, corr\n",
    "from numpy.random import uniform\n",
    "import numpy as np"
   ]
  },
  {
   "cell_type": "code",
   "execution_count": 39,
   "metadata": {},
   "outputs": [],
   "source": [
    "dt = 0.01\n",
    "DeltaT = 1\n",
    "TotalT = 10\n",
    "n_sim = 2"
   ]
  },
  {
   "cell_type": "code",
   "execution_count": 11,
   "metadata": {},
   "outputs": [],
   "source": [
    "mu_x = uniform(1.5e4, 4e4, size=(n_sim,1))\n",
    "mu_y = uniform(1e4, 140e4, size=(n_sim,1))\n",
    "k_x = uniform(3e-3, 16e-3, size=(n_sim,1))\n",
    "k_y = uniform(1.5e-2, 30e-2, size=(n_sim,1))\n",
    "k_int = uniform(1e-3, 6e-3, size=(n_sim,1))\n",
    "tau = uniform(2e-2, 20e-2, size=(n_sim,1))\n",
    "eps = uniform(0.5, 6, size=(n_sim,1))\n",
    "D_x = uniform(5.5, 15.5, size=(n_sim,1))\n",
    "D_y = uniform(1, 530, size=(n_sim,1))\n",
    "sigma = uniform(4, 260, size=(n_sim,1))"
   ]
  },
  {
   "cell_type": "code",
   "execution_count": 40,
   "metadata": {},
   "outputs": [],
   "source": [
    "mu_x = uniform(0.1, 0.5, size=(n_sim,1))\n",
    "mu_y = uniform(0.1, 0.5, size=(n_sim,1))\n",
    "k_x = uniform(0.1, 0.5, size=(n_sim,1))\n",
    "k_y = uniform(0.1, 0.5, size=(n_sim,1))\n",
    "k_int = uniform(0.1, 0.5, size=(n_sim,1))\n",
    "tau = uniform(0.1, 0.5, size=(n_sim,1))\n",
    "eps = uniform(0.1, 0.5, size=(n_sim,1))\n",
    "D_x = uniform(0.1, 0.5, size=(n_sim,1))\n",
    "D_y = uniform(0.1, 0.5, size=(n_sim,1))\n",
    "sigma = uniform(0.1, 0.5, size=(n_sim,1))"
   ]
  },
  {
   "cell_type": "code",
   "execution_count": 41,
   "metadata": {},
   "outputs": [],
   "source": [
    "theta = [mu_x, mu_y, k_x, k_y, k_int, tau, eps, D_x, D_y]"
   ]
  },
  {
   "cell_type": "code",
   "execution_count": 42,
   "metadata": {},
   "outputs": [],
   "source": [
    "x_trace, state = Simulator_noGPU(dt, DeltaT, TotalT, n_sim, theta)"
   ]
  },
  {
   "cell_type": "code",
   "execution_count": 43,
   "metadata": {},
   "outputs": [],
   "source": [
    "# normalize x\n",
    "def normalize_numpy(array):\n",
    "    return (array - np.min(array)) / (np.max(array) - np.min(array))\n",
    "\n",
    "x_normalized = normalize_numpy(x_trace[0])"
   ]
  },
  {
   "cell_type": "code",
   "execution_count": 46,
   "metadata": {},
   "outputs": [
    {
     "data": {
      "text/plain": [
       "array([0.        , 0.1652387 , 0.3469827 , 0.65988845, 0.6609244 ,\n",
       "       0.86601967, 0.26001203, 0.24659649, 1.        , 0.6817881 ],\n",
       "      dtype=float32)"
      ]
     },
     "execution_count": 46,
     "metadata": {},
     "output_type": "execute_result"
    }
   ],
   "source": [
    "autocorr = corr(x_trace)"
   ]
  }
 ],
 "metadata": {
  "kernelspec": {
   "display_name": "base",
   "language": "python",
   "name": "python3"
  },
  "language_info": {
   "codemirror_mode": {
    "name": "ipython",
    "version": 3
   },
   "file_extension": ".py",
   "mimetype": "text/x-python",
   "name": "python",
   "nbconvert_exporter": "python",
   "pygments_lexer": "ipython3",
   "version": "3.11.5"
  }
 },
 "nbformat": 4,
 "nbformat_minor": 2
}
