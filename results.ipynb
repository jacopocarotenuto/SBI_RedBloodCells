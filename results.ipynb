{
 "cells": [
  {
   "cell_type": "code",
   "execution_count": 1,
   "metadata": {},
   "outputs": [],
   "source": [
    "import os\n",
    "os.environ['KMP_DUPLICATE_LIB_OK']='True'"
   ]
  },
  {
   "cell_type": "code",
   "execution_count": 2,
   "metadata": {},
   "outputs": [],
   "source": [
    "# Load the minimum required library to run the functions\n",
    "from SuperSonic import Simulator_noGPU\n",
    "from numpy.random import uniform"
   ]
  },
  {
   "cell_type": "code",
   "execution_count": 3,
   "metadata": {},
   "outputs": [],
   "source": [
    "dt = 0.01\n",
    "DeltaT = 1\n",
    "TotalT = 10\n",
    "n_sim = 2"
   ]
  },
  {
   "cell_type": "code",
   "execution_count": 55,
   "metadata": {},
   "outputs": [],
   "source": [
    "mu_x = uniform(1.5e4, 4e4, size=(n_sim,1))\n",
    "mu_y = uniform(1e4, 140e4, size=(n_sim,1))\n",
    "k_x = uniform(3e-3, 16e-3, size=(n_sim,1))\n",
    "k_y = uniform(1.5e-2, 30e-2, size=(n_sim,1))\n",
    "k_int = uniform(1e-3, 6e-3, size=(n_sim,1))\n",
    "tau = uniform(2e-2, 20e-2, size=(n_sim,1))\n",
    "eps = uniform(0.5, 6, size=(n_sim,1))\n",
    "D_x = uniform(5.5, 15.5, size=(n_sim,1))\n",
    "D_y = uniform(1, 530, size=(n_sim,1))\n",
    "sigma = uniform(4, 260, size=(n_sim,1))"
   ]
  },
  {
   "cell_type": "code",
   "execution_count": 4,
   "metadata": {},
   "outputs": [],
   "source": [
    "mu_x = uniform(1.5e4, 4e4, size=(n_sim,1))\n",
    "mu_y = uniform(1e4, 140e4, size=(n_sim,1))\n",
    "k_x = uniform(0.1, 0.5, size=(n_sim,1))\n",
    "k_y = uniform(0.1, 0.5, size=(n_sim,1))\n",
    "k_int = uniform(0.1, 0.5, size=(n_sim,1))\n",
    "tau = uniform(0.1, 0.5, size=(n_sim,1))\n",
    "eps = uniform(0.1, 0.5, size=(n_sim,1))\n",
    "D_x = uniform(0.1, 0.5, size=(n_sim,1))\n",
    "D_y = uniform(0.1, 0.5, size=(n_sim,1))\n",
    "sigma = uniform(0.1, 0.5, size=(n_sim,1))"
   ]
  },
  {
   "cell_type": "code",
   "execution_count": 5,
   "metadata": {},
   "outputs": [],
   "source": [
    "theta = [mu_x, mu_y, k_x, k_y, k_int, tau, eps, D_x, D_y]\n",
    "# theta[-4][theta[-4] == 0]"
   ]
  },
  {
   "cell_type": "code",
   "execution_count": 6,
   "metadata": {},
   "outputs": [],
   "source": [
    "x_trace, s = Simulator_noGPU(dt, DeltaT, TotalT, n_sim, theta)\n"
   ]
  },
  {
   "cell_type": "code",
   "execution_count": 7,
   "metadata": {},
   "outputs": [
    {
     "name": "stdout",
     "output_type": "stream",
     "text": [
      "[[1311844.9 ]\n",
      " [ 425665.53]]\n",
      "[[1311844.8843164 ]\n",
      " [ 425665.51882462]]\n",
      "[[34315.47863154]\n",
      " [26810.47839195]]\n",
      "[[34315.48 ]\n",
      " [26810.479]]\n"
     ]
    },
    {
     "data": {
      "text/plain": [
       "array([[nan, nan, nan, nan, nan, nan, nan, nan, nan, nan],\n",
       "       [nan, nan, nan, nan, nan, nan, nan, nan, nan, nan]])"
      ]
     },
     "execution_count": 7,
     "metadata": {},
     "output_type": "execute_result"
    }
   ],
   "source": [
    "from numpy import float32\n",
    "print(float32(mu_y))\n",
    "print(mu_y)\n",
    "print(mu_x)\n",
    "print(float32(mu_x))\n",
    "x_trace"
   ]
  },
  {
   "cell_type": "code",
   "execution_count": 8,
   "metadata": {},
   "outputs": [],
   "source": [
    "from numpy import sqrt\n",
    "from numpy.random import randn"
   ]
  },
  {
   "cell_type": "code",
   "execution_count": 16,
   "metadata": {},
   "outputs": [
    {
     "data": {
      "text/plain": [
       "array([[-8.18974337],\n",
       "       [11.51995791]])"
      ]
     },
     "execution_count": 16,
     "metadata": {},
     "output_type": "execute_result"
    }
   ],
   "source": [
    "mu_x*(- k_x * 0 + k_int*0)*dt                +          sqrt(2*mu_x*D_x*dt)     *randn(n_sim,1)"
   ]
  },
  {
   "cell_type": "code",
   "execution_count": 17,
   "metadata": {},
   "outputs": [
    {
     "data": {
      "text/plain": [
       "array([[-66.89171741],\n",
       "       [-46.09313599]])"
      ]
     },
     "execution_count": 17,
     "metadata": {},
     "output_type": "execute_result"
    }
   ],
   "source": [
    "mu_y*(-k_y*0 + k_int*0 + 0)*dt        +          sqrt(2*mu_y*D_y*dt)     *randn(n_sim,1)"
   ]
  },
  {
   "cell_type": "code",
   "execution_count": null,
   "metadata": {},
   "outputs": [],
   "source": []
  }
 ],
 "metadata": {
  "kernelspec": {
   "display_name": "base",
   "language": "python",
   "name": "python3"
  },
  "language_info": {
   "codemirror_mode": {
    "name": "ipython",
    "version": 3
   },
   "file_extension": ".py",
   "mimetype": "text/x-python",
   "name": "python",
   "nbconvert_exporter": "python",
   "pygments_lexer": "ipython3",
   "version": "3.11.5"
  }
 },
 "nbformat": 4,
 "nbformat_minor": 2
}
